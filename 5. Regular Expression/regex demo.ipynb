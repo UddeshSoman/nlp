{
 "cells": [
  {
   "cell_type": "markdown",
   "id": "4f7b541e",
   "metadata": {},
   "source": [
    "# Regex Demo"
   ]
  },
  {
   "cell_type": "markdown",
   "id": "3956242d",
   "metadata": {},
   "source": [
    "Function\tDescription\n",
    "\n",
    "findall : Returns a list containing all matches\n",
    "\n",
    "search : Returns a Match object if there is a match anywhere in the string\n",
    "\n",
    "split : Returns a list where the string has been split at each match\n",
    "\n",
    "sub : Replaces one or many matches with a string"
   ]
  },
  {
   "cell_type": "raw",
   "id": "d5dd5330",
   "metadata": {},
   "source": [
    "1. []\tA set of characters\t\"[a-m]\"\t\n",
    "2. \\\tSignals a special sequence (can also be used to escape special characters)\t\"\\d\"\t\n",
    "3. .\tAny character (except newline character)\t\"he..o\"\t\n",
    "4. ^\tStarts with\t\"^hello\"\t\n",
    "5. $\tEnds with\t\"planet$\"\t\n",
    "6. *\tZero or more occurrences\t\"he.*o\"\t\n",
    "7. +\tOne or more occurrences\t\"he.+o\"\t\n",
    "8. ?\tZero or one occurrences\t\"he.?o\"\t\n",
    "9. {}\tExactly the specified number of occurrences\t\"he.{2}o\"\t\n",
    "10. |\tEither or\t\"falls|stays\"\t\n",
    "11. ()\tCapture and group"
   ]
  },
  {
   "cell_type": "markdown",
   "id": "23c6388e",
   "metadata": {},
   "source": [
    "## Special sequences"
   ]
  },
  {
   "cell_type": "raw",
   "id": "09d2337b",
   "metadata": {},
   "source": [
    "\\A\tReturns a match if the specified characters are at the beginning of the string\t\"\\AThe\"\t\n",
    "\\b\tReturns a match where the specified characters are at the beginning or at the end of a word\n",
    "(the \"r\" in the beginning is making sure that the string is being treated as a \"raw string\")\tr\"\\bain\"\n",
    "r\"ain\\b\"\t\n",
    "\\B\tReturns a match where the specified characters are present, but NOT at the beginning (or at the end) of a word\n",
    "(the \"r\" in the beginning is making sure that the string is being treated as a \"raw string\")\tr\"\\Bain\"\n",
    "r\"ain\\B\"\t\n",
    "\\d\tReturns a match where the string contains digits (numbers from 0-9)\t\"\\d\"\t\n",
    "\\D\tReturns a match where the string DOES NOT contain digits\t\"\\D\"\t\n",
    "\\s\tReturns a match where the string contains a white space character\t\"\\s\"\t\n",
    "\\S\tReturns a match where the string DOES NOT contain a white space character\t\"\\S\"\t\n",
    "\\w\tReturns a match where the string contains any word characters (characters from a to Z, digits from 0-9, and the underscore _ character)\t\"\\w\"\t\n",
    "\\W\tReturns a match where the string DOES NOT contain any word characters\t\"\\W\"\t\n",
    "\\Z\tReturns a match if the specified characters are at the end of the string\t\"Spain\\Z\"\t\n"
   ]
  },
  {
   "cell_type": "markdown",
   "id": "ff9c2939",
   "metadata": {},
   "source": [
    "## Sets"
   ]
  },
  {
   "cell_type": "raw",
   "id": "1025a0dd",
   "metadata": {},
   "source": [
    "[arn]\tReturns a match where one of the specified characters (a, r, or n) is present\t\n",
    "[a-n]\tReturns a match for any lower case character, alphabetically between a and n\t\n",
    "[^arn]\tReturns a match for any character EXCEPT a, r, and n\t\n",
    "[0123]\tReturns a match where any of the specified digits (0, 1, 2, or 3) are present\t\n",
    "[0-9]\tReturns a match for any digit between 0 and 9\t\n",
    "[0-5][0-9]\tReturns a match for any two-digit numbers from 00 and 59\t\n",
    "[a-zA-Z]\tReturns a match for any character alphabetically between a and z, lower case OR upper case\t\n",
    "[+]\tIn sets, +, *, ., |, (), $,{} has no special meaning, so [+] means: return a match for any + character in the string"
   ]
  },
  {
   "cell_type": "markdown",
   "id": "4810ef5d",
   "metadata": {},
   "source": [
    "## Search Function"
   ]
  },
  {
   "cell_type": "code",
   "execution_count": 1,
   "id": "9245533d",
   "metadata": {},
   "outputs": [
    {
     "name": "stdout",
     "output_type": "stream",
     "text": [
      "True\n"
     ]
    }
   ],
   "source": [
    "# search if strings starts and ends with specified words.\n",
    "import re\n",
    "\n",
    "txt = \"The Avengers are Earth's mightiest heros\"\n",
    "x = re.search(\"^The.+heros$\", txt)\n",
    "if x != None:\n",
    "    print(True)\n",
    "else: print(False)"
   ]
  },
  {
   "cell_type": "code",
   "execution_count": 20,
   "id": "539629f9",
   "metadata": {},
   "outputs": [
    {
     "name": "stdout",
     "output_type": "stream",
     "text": [
      "True\n"
     ]
    }
   ],
   "source": [
    "txt = \"The Avengers are Earth's mightiest heros\"\n",
    "x = re.search(\"^The\", txt) # '\\AThe'\n",
    "if x != None:\n",
    "    print(True)\n",
    "else: print(False)"
   ]
  },
  {
   "cell_type": "code",
   "execution_count": 21,
   "id": "df7e0fa6",
   "metadata": {},
   "outputs": [
    {
     "name": "stdout",
     "output_type": "stream",
     "text": [
      "<re.Match object; span=(0, 3), match='The'>\n"
     ]
    }
   ],
   "source": [
    "print(x) # returns match object"
   ]
  },
  {
   "cell_type": "raw",
   "id": "84d5681f",
   "metadata": {},
   "source": [
    ".span() returns a tuple containing the start-, and end positions of the match.\n",
    ".string returns the string passed into the function\n",
    ".group() returns the part of the string where there was a match"
   ]
  },
  {
   "cell_type": "code",
   "execution_count": 22,
   "id": "08fb44b4",
   "metadata": {},
   "outputs": [
    {
     "data": {
      "text/plain": [
       "(0, 3)"
      ]
     },
     "execution_count": 22,
     "metadata": {},
     "output_type": "execute_result"
    }
   ],
   "source": [
    "x.span()"
   ]
  },
  {
   "cell_type": "code",
   "execution_count": 23,
   "id": "3e368425",
   "metadata": {},
   "outputs": [
    {
     "data": {
      "text/plain": [
       "'The'"
      ]
     },
     "execution_count": 23,
     "metadata": {},
     "output_type": "execute_result"
    }
   ],
   "source": [
    "x.group()"
   ]
  },
  {
   "cell_type": "code",
   "execution_count": 18,
   "id": "5563de62",
   "metadata": {},
   "outputs": [
    {
     "name": "stdout",
     "output_type": "stream",
     "text": [
      "False\n"
     ]
    }
   ],
   "source": [
    "txt = \"The Avengers are Earth's mightiest heros\"\n",
    "x = re.search(\"The$\", txt)\n",
    "if x != None:\n",
    "    print(True)\n",
    "else: print(False)"
   ]
  },
  {
   "cell_type": "code",
   "execution_count": 75,
   "id": "f6da6827",
   "metadata": {},
   "outputs": [
    {
     "name": "stdout",
     "output_type": "stream",
     "text": [
      "heros\n"
     ]
    }
   ],
   "source": [
    "txt = \"The Avengers are Earth's mightiest heros\"\n",
    "x = re.search(r\"heros\\b\", txt) # beginning or end of string\n",
    "if x != None:\n",
    "    print(x.group())\n",
    "else: print(False)"
   ]
  },
  {
   "cell_type": "code",
   "execution_count": 76,
   "id": "1c5ea943",
   "metadata": {},
   "outputs": [
    {
     "name": "stdout",
     "output_type": "stream",
     "text": [
      "The\n"
     ]
    }
   ],
   "source": [
    "txt = \"The Avengers are Earth's mightiest heros\"\n",
    "x = re.search(r\"\\bThe\", txt) # beginning or end of string\n",
    "if x != None:\n",
    "    print(x.group())\n",
    "else: print(False)"
   ]
  },
  {
   "cell_type": "code",
   "execution_count": 80,
   "id": "51c5ccb5",
   "metadata": {},
   "outputs": [
    {
     "name": "stdout",
     "output_type": "stream",
     "text": [
      "ers\n"
     ]
    }
   ],
   "source": [
    "txt = \"The Avengers are Earth's mightiest heros\"\n",
    "x = re.search(r\"\\Bers\", txt) #not at beginning or end of string\n",
    "if x != None:\n",
    "    print(x.group())\n",
    "else: print(False)"
   ]
  },
  {
   "cell_type": "code",
   "execution_count": 81,
   "id": "11294770",
   "metadata": {},
   "outputs": [
    {
     "name": "stdout",
     "output_type": "stream",
     "text": [
      "['T', 'h', 'e', ' ', 'A', 'v', 'e', 'n', 'g', 'e', 'r', 's', ' ', 'a', 'r', 'e', ' ', 'E', 'a', 'r', 't', 'h', \"'\", 's', ' ', 'm', 'i', 'g', 'h', 't', 'i', 'e', 's', 't', ' ', 'h', 'e', 'r', 'o', 's']\n"
     ]
    }
   ],
   "source": [
    "txt = \"The Avengers are Earth's mightiest heros\"\n",
    "x = re.findall('\\D', txt) # not digits\n",
    "print(x)"
   ]
  },
  {
   "cell_type": "code",
   "execution_count": 84,
   "id": "56b71f26",
   "metadata": {},
   "outputs": [
    {
     "name": "stdout",
     "output_type": "stream",
     "text": [
      "['2', '3', '1', '6', '5', '1']\n"
     ]
    }
   ],
   "source": [
    "txt = \"The Avengers are Earth's mightiest heros 2 31 651\"\n",
    "x = re.findall(r\"\\d\", txt) # finds digits\n",
    "print(x)"
   ]
  },
  {
   "cell_type": "code",
   "execution_count": 85,
   "id": "6c6c0082",
   "metadata": {},
   "outputs": [
    {
     "name": "stdout",
     "output_type": "stream",
     "text": [
      "[' ', ' ', ' ', ' ', ' ']\n"
     ]
    }
   ],
   "source": [
    "txt = \"The Avengers are Earth's mightiest heros\"\n",
    "x = re.findall('\\s', txt) # spaces\n",
    "print(x)"
   ]
  },
  {
   "cell_type": "code",
   "execution_count": 86,
   "id": "50c4e7c3",
   "metadata": {},
   "outputs": [
    {
     "name": "stdout",
     "output_type": "stream",
     "text": [
      "['T', 'h', 'e', 'A', 'v', 'e', 'n', 'g', 'e', 'r', 's', 'a', 'r', 'e', 'E', 'a', 'r', 't', 'h', \"'\", 's', 'm', 'i', 'g', 'h', 't', 'i', 'e', 's', 't', 'h', 'e', 'r', 'o', 's']\n"
     ]
    }
   ],
   "source": [
    "txt = \"The Avengers are Earth's mightiest heros\"\n",
    "x = re.findall('\\S', txt) # not spaces\n",
    "print(x)"
   ]
  },
  {
   "cell_type": "code",
   "execution_count": 4,
   "id": "a72e12d0",
   "metadata": {},
   "outputs": [
    {
     "name": "stdout",
     "output_type": "stream",
     "text": [
      "['T', 'h', 'e', 'A', 'v', 'e', 'n', 'g', 'e', 'r', 's', 'a', 'r', 'e', 'E', 'a', 'r', 't', 'h', 's', 'm', 'i', 'g', 'h', 't', 'i', 'e', 's', 't', '_', 'h', 'e', 'r', 'o', 's', '9']\n"
     ]
    }
   ],
   "source": [
    "txt = \"The Avengers are + Earth's - mightiest _ heros 9\"\n",
    "x = re.findall('\\w', txt) # word characters   alphabet numbers underscore\n",
    "print(x)"
   ]
  },
  {
   "cell_type": "code",
   "execution_count": 88,
   "id": "c13d7e29",
   "metadata": {},
   "outputs": [
    {
     "name": "stdout",
     "output_type": "stream",
     "text": [
      "[' ', ' ', ' ', \"'\", ' ', ' ']\n"
     ]
    }
   ],
   "source": [
    "txt = \"The Avengers are Earth's mightiest heros\"\n",
    "x = re.findall('\\W', txt) # not word characters   alphabet numbers underscore\n",
    "print(x)"
   ]
  },
  {
   "cell_type": "code",
   "execution_count": 89,
   "id": "e3393846",
   "metadata": {},
   "outputs": [
    {
     "name": "stdout",
     "output_type": "stream",
     "text": [
      "heros\n"
     ]
    }
   ],
   "source": [
    "txt = \"The Avengers are Earth's mightiest heros\"\n",
    "x = re.search('heros\\Z', txt) #at end of string\n",
    "if x != None:\n",
    "    print(x.group())\n",
    "else: print(False)"
   ]
  },
  {
   "cell_type": "code",
   "execution_count": 25,
   "id": "a72a32fc",
   "metadata": {},
   "outputs": [
    {
     "name": "stdout",
     "output_type": "stream",
     "text": [
      "['de', 'de']\n"
     ]
    }
   ],
   "source": [
    "txt = \"Hello, my name is Uddesh Soman. I am a student of Bachelor's Degree course at Ujjain Engineering College.\"\n",
    "x = re.findall(\"de\", txt) # returns a list of all matches.\n",
    "print(x)"
   ]
  },
  {
   "cell_type": "code",
   "execution_count": 26,
   "id": "da0eef80",
   "metadata": {},
   "outputs": [
    {
     "name": "stdout",
     "output_type": "stream",
     "text": [
      "[]\n"
     ]
    }
   ],
   "source": [
    "txt = \"Hello, my name is Uddesh Soman. I am a student of Bachelor's Degree course at Ujjain Engineering College.\"\n",
    "x = re.findall(\"be\", txt)\n",
    "print(x)"
   ]
  },
  {
   "cell_type": "code",
   "execution_count": 33,
   "id": "9968297c",
   "metadata": {},
   "outputs": [
    {
     "name": "stdout",
     "output_type": "stream",
     "text": [
      "['e', 'l', 'l', 'm', 'a', 'm', 'e', 'i', 'd', 'd', 'e', 'h', 'm', 'a', 'a', 'm', 'a', 'd', 'e', 'f', 'a', 'c', 'h', 'e', 'l', 'e', 'g', 'e', 'e', 'c', 'e', 'a', 'j', 'j', 'a', 'i', 'g', 'i', 'e', 'e', 'i', 'g', 'l', 'l', 'e', 'g', 'e']\n"
     ]
    }
   ],
   "source": [
    "txt = \"Hello, my name is Uddesh Soman. I am a student of Bachelor's Degree course at Ujjain Engineering College.\"\n",
    "x = re.findall(\"[a-m]\", txt) # range of characters to look for\n",
    "print(x)"
   ]
  },
  {
   "cell_type": "code",
   "execution_count": 42,
   "id": "66444759",
   "metadata": {},
   "outputs": [
    {
     "name": "stdout",
     "output_type": "stream",
     "text": [
      "['n', 'a', 'a', 'n', 'a', 'a', 'n', 'a', 'r', 'r', 'r', 'a', 'a', 'n', 'n', 'n', 'r', 'n']\n"
     ]
    }
   ],
   "source": [
    "txt = \"Hello, my name is Uddesh Soman. I am a student of Bachelor's Degree course at Ujjain Engineering College.\"\n",
    "x = re.findall(\"[arn]\", txt) # Specified characters to look for\n",
    "print(x)"
   ]
  },
  {
   "cell_type": "code",
   "execution_count": 45,
   "id": "8297578b",
   "metadata": {},
   "outputs": [
    {
     "name": "stdout",
     "output_type": "stream",
     "text": [
      "['H', 'e', 'l', 'l', 'o', ',', ' ', 'm', 'y', ' ', 'm', 'e', ' ', 'i', 's', ' ', 'U', 'd', 'd', 'e', 's', 'h', ' ', 'S', 'o', 'm', '.', ' ', '1', '2', '3', ' ', 'I', ' ', 'm', ' ', ' ', 's', 't', 'u', 'd', 'e', 't', ' ', 'o', 'f', ' ', 'B', 'c', 'h', 'e', 'l', 'o', \"'\", 's', ' ', 'D', 'e', 'g', 'e', 'e', ' ', 'c', 'o', 'u', 's', 'e', ' ', 't', ' ', 'U', 'j', 'j', 'i', ' ', 'E', 'g', 'i', 'e', 'e', 'i', 'g', ' ', 'C', 'o', 'l', 'l', 'e', 'g', 'e', '.']\n"
     ]
    }
   ],
   "source": [
    "txt = \"Hello, my name is Uddesh Soman. 123 I am a student of Bachelor's Degree course at Ujjain Engineering College.\"\n",
    "x = re.findall(\"[^arn]\", txt) # All except specified characters\n",
    "print(x)"
   ]
  },
  {
   "cell_type": "code",
   "execution_count": 54,
   "id": "a585bffb",
   "metadata": {},
   "outputs": [
    {
     "name": "stdout",
     "output_type": "stream",
     "text": [
      "['H', 'e', 'a', 'e', 'i', 'd', 'd', 'e', 'h', 'a', 'I', 'a', 'a', 'd', 'e', 'f', 'B', 'a', 'c', 'h', 'e', 'D', 'e', 'g', 'e', 'e', 'c', 'e', 'a', 'a', 'i', 'E', 'g', 'i', 'e', 'e', 'i', 'g', 'C', 'e', 'g', 'e']\n"
     ]
    }
   ],
   "source": [
    "txt = \"Hello, my name is Uddesh Soman. 13151 I am a student of Bachelor's Degree course at Ujjain Engineering College.\"\n",
    "x = re.findall(\"[a-iA-I]\", txt) # lowe or upper case\n",
    "print(x)"
   ]
  },
  {
   "cell_type": "code",
   "execution_count": 55,
   "id": "a2f49b4b",
   "metadata": {},
   "outputs": [
    {
     "name": "stdout",
     "output_type": "stream",
     "text": [
      "['+', '+']\n"
     ]
    }
   ],
   "source": [
    "txt = \"Hello, my name is Uddesh Soman. 13151 I + am a student of Bachelor's Degree + course at Ujjain Engineering College.\"\n",
    "x = re.findall(\"[+]\", txt) # special characters\n",
    "print(x)"
   ]
  },
  {
   "cell_type": "code",
   "execution_count": 46,
   "id": "71d44315",
   "metadata": {},
   "outputs": [
    {
     "name": "stdout",
     "output_type": "stream",
     "text": [
      "['1']\n"
     ]
    }
   ],
   "source": [
    "txt = \"Hello, my name is Uddesh Soman. 123 I am a student of Bachelor's Degree course at Ujjain Engineering College.\"\n",
    "x = re.findall(\"[156]\", txt) # specified characters (numbers)\n",
    "print(x)"
   ]
  },
  {
   "cell_type": "code",
   "execution_count": 47,
   "id": "1447cfa4",
   "metadata": {},
   "outputs": [
    {
     "name": "stdout",
     "output_type": "stream",
     "text": [
      "['H', 'e', 'l', 'l', 'o', ',', ' ', 'm', 'y', ' ', 'n', 'a', 'm', 'e', ' ', 'i', 's', ' ', 'U', 'd', 'd', 'e', 's', 'h', ' ', 'S', 'o', 'm', 'a', 'n', '.', ' ', '2', '3', ' ', 'I', ' ', 'a', 'm', ' ', 'a', ' ', 's', 't', 'u', 'd', 'e', 'n', 't', ' ', 'o', 'f', ' ', 'B', 'a', 'c', 'h', 'e', 'l', 'o', 'r', \"'\", 's', ' ', 'D', 'e', 'g', 'r', 'e', 'e', ' ', 'c', 'o', 'u', 'r', 's', 'e', ' ', 'a', 't', ' ', 'U', 'j', 'j', 'a', 'i', 'n', ' ', 'E', 'n', 'g', 'i', 'n', 'e', 'e', 'r', 'i', 'n', 'g', ' ', 'C', 'o', 'l', 'l', 'e', 'g', 'e', '.']\n"
     ]
    }
   ],
   "source": [
    "txt = \"Hello, my name is Uddesh Soman. 123 I am a student of Bachelor's Degree course at Ujjain Engineering College.\"\n",
    "x = re.findall(\"[^156]\", txt) # All except specified characters\n",
    "print(x)"
   ]
  },
  {
   "cell_type": "code",
   "execution_count": 50,
   "id": "5e18f9d7",
   "metadata": {},
   "outputs": [
    {
     "name": "stdout",
     "output_type": "stream",
     "text": [
      "['1', '3', '1', '5', '1']\n"
     ]
    }
   ],
   "source": [
    "txt = \"Hello, my name is Uddesh Soman. 13151 I am a student of Bachelor's Degree course at Ujjain Engineering College.\"\n",
    "x = re.findall(\"[0-9]\", txt) # range of numbers to look for\n",
    "print(x)"
   ]
  },
  {
   "cell_type": "code",
   "execution_count": 90,
   "id": "d7a4dc79",
   "metadata": {},
   "outputs": [
    {
     "name": "stdout",
     "output_type": "stream",
     "text": [
      "['abc', 'abcc', 'abccc', 'abcccc', 'abccccc', 'abcccccc', 'abccccccc']\n"
     ]
    }
   ],
   "source": [
    "txt = \"abc abcc abccc abcccc abccccc abcccccc, abccccccc\"\n",
    "x = re.findall('abc*', txt) # followed by zero or more characters\n",
    "print(x)"
   ]
  },
  {
   "cell_type": "code",
   "execution_count": 91,
   "id": "45461528",
   "metadata": {},
   "outputs": [
    {
     "name": "stdout",
     "output_type": "stream",
     "text": [
      "['abc', 'abc', 'abc', 'abc', 'abc', 'abc', 'abc']\n"
     ]
    }
   ],
   "source": [
    "txt = \"abc abcc abccc abcccc abccccc abcccccc, abccccccc\"\n",
    "x = re.findall('abc?', txt) # followed by one or zero characters\n",
    "print(x)"
   ]
  },
  {
   "cell_type": "code",
   "execution_count": 92,
   "id": "32dfccef",
   "metadata": {},
   "outputs": [
    {
     "name": "stdout",
     "output_type": "stream",
     "text": [
      "['abccc', 'abccc', 'abccc', 'abccc', 'abccc']\n"
     ]
    }
   ],
   "source": [
    "txt = \"abc abcc abccc abcccc abccccc abcccccc, abccccccc\"\n",
    "x = re.findall('abc{3}', txt) # with specific number of occurances\n",
    "print(x)\n",
    "print(x)"
   ]
  },
  {
   "cell_type": "code",
   "execution_count": 95,
   "id": "69e3423c",
   "metadata": {},
   "outputs": [
    {
     "name": "stdout",
     "output_type": "stream",
     "text": [
      "['abcc', 'abccc', 'abcccc', 'abcccc', 'abcccc', 'abcccc']\n"
     ]
    }
   ],
   "source": [
    "txt = \"abc abcc abccc abcccc abccccc abcccccc, abccccccc\"\n",
    "x = re.findall('abc{2,4}', txt) # occurance in range\n",
    "print(x)"
   ]
  },
  {
   "cell_type": "code",
   "execution_count": 96,
   "id": "fed227e8",
   "metadata": {},
   "outputs": [
    {
     "name": "stdout",
     "output_type": "stream",
     "text": [
      "['bc', 'bc']\n"
     ]
    }
   ],
   "source": [
    "txt = \"abc abcc abccc abcccc abccccc abcccccc, abccccccc, abcbcbcbc, abcbcbcbcbcbcbcbc\"\n",
    "x = re.findall('a(bc){2}', txt) # grouping with specific number of occurances\n",
    "print(x)"
   ]
  },
  {
   "cell_type": "code",
   "execution_count": 97,
   "id": "c6db21c9",
   "metadata": {},
   "outputs": [
    {
     "name": "stdout",
     "output_type": "stream",
     "text": [
      "['bc', 'bc']\n"
     ]
    }
   ],
   "source": [
    "txt = \"abc abcc abccc abcccc abccccc abcccccc, abccccccc, abcbcbcbc, abcbcbcbcbcbcbcbc\"\n",
    "x = re.findall('a(bc){2,4}', txt) # grouping with range\n",
    "print(x)"
   ]
  },
  {
   "cell_type": "code",
   "execution_count": 51,
   "id": "02371782",
   "metadata": {},
   "outputs": [
    {
     "name": "stdout",
     "output_type": "stream",
     "text": [
      "['13', '15']\n"
     ]
    }
   ],
   "source": [
    "txt = \"Hello, my name is Uddesh Soman. 13151 I am a student of Bachelor's Degree course at Ujjain Engineering College.\"\n",
    "x = re.findall(\"[0-5][0-9]\", txt) # range of numbers to look for two digit numbers. 00-59, 13 considered so restof lookup is in 151\n",
    "print(x)"
   ]
  },
  {
   "cell_type": "code",
   "execution_count": 56,
   "id": "3b80f4bf",
   "metadata": {},
   "outputs": [
    {
     "name": "stdout",
     "output_type": "stream",
     "text": [
      "['hello', 'hedfo', 'hesdo', 'hello']\n"
     ]
    }
   ],
   "source": [
    "txt = ' helo hello hedfo hesdo heo hebjabvcjso hello'\n",
    "x = re.findall(\"he..o\", txt) # any character except newline\n",
    "print(x)"
   ]
  },
  {
   "cell_type": "code",
   "execution_count": 57,
   "id": "3633b8f6",
   "metadata": {},
   "outputs": [
    {
     "name": "stdout",
     "output_type": "stream",
     "text": [
      "['hello', 'hello']\n"
     ]
    }
   ],
   "source": [
    "txt = ' helo hello hedfo hesdo heo hebjabvcjso hello'\n",
    "x = re.findall(\"hello\", txt) # any character except newline\n",
    "print(x)"
   ]
  },
  {
   "cell_type": "code",
   "execution_count": 58,
   "id": "d4d215ce",
   "metadata": {},
   "outputs": [
    {
     "name": "stdout",
     "output_type": "stream",
     "text": [
      "['helo']\n"
     ]
    }
   ],
   "source": [
    "txt = ' helo hello hedfo hesdo heo hebjabvcjso hello'\n",
    "x = re.findall(\"he.o\", txt) # any character except newline\n",
    "print(x)"
   ]
  },
  {
   "cell_type": "code",
   "execution_count": 59,
   "id": "b8438113",
   "metadata": {},
   "outputs": [
    {
     "name": "stdout",
     "output_type": "stream",
     "text": [
      "['helo hello hedfo hesdo heo hebjabvcjso hello']\n"
     ]
    }
   ],
   "source": [
    "txt = ' helo hello hedfo hesdo heo hebjabvcjso hello'\n",
    "x = re.findall(\"he.*o\", txt) # zero or more occurance\n",
    "print(x)"
   ]
  },
  {
   "cell_type": "code",
   "execution_count": 10,
   "id": "f3b3eeb9",
   "metadata": {},
   "outputs": [
    {
     "name": "stdout",
     "output_type": "stream",
     "text": [
      "[]\n"
     ]
    }
   ],
   "source": [
    "txt = 'heo'\n",
    "x = re.findall(\"he.+o\", txt) # one or more occurance\n",
    "print(x)"
   ]
  },
  {
   "cell_type": "code",
   "execution_count": 61,
   "id": "419590c7",
   "metadata": {},
   "outputs": [
    {
     "name": "stdout",
     "output_type": "stream",
     "text": [
      "['helo', 'heo']\n"
     ]
    }
   ],
   "source": [
    "txt = ' helo hello hedfo hesdo heo hebjabvcjso hello'\n",
    "x = re.findall(\"he.?o\", txt) # zero or one occurance\n",
    "print(x)"
   ]
  },
  {
   "cell_type": "code",
   "execution_count": 62,
   "id": "ab7fd627",
   "metadata": {},
   "outputs": [
    {
     "name": "stdout",
     "output_type": "stream",
     "text": [
      "['hello hedfo', 'hebjabvcjso']\n"
     ]
    }
   ],
   "source": [
    "txt = ' helo hello hedfo hesdo heo hebjabvcjso hello'\n",
    "x = re.findall(\"he.{8}o\", txt) # Exactly the specified number of occurrences\n",
    "print(x)"
   ]
  },
  {
   "cell_type": "code",
   "execution_count": 64,
   "id": "78a0c37e",
   "metadata": {},
   "outputs": [
    {
     "name": "stdout",
     "output_type": "stream",
     "text": [
      "['helo', 'fun']\n"
     ]
    }
   ],
   "source": [
    "txt = ' helo hello hedfo fun hesdo heo hebjabvcjso hello'\n",
    "x = re.findall(\"helo|fun\", txt) # or operator\n",
    "print(x)"
   ]
  },
  {
   "cell_type": "code",
   "execution_count": 65,
   "id": "25804c82",
   "metadata": {},
   "outputs": [
    {
     "name": "stdout",
     "output_type": "stream",
     "text": [
      "['Hello,', 'my', 'name', 'is', 'Uddesh', 'Soman.', '13151', 'I', 'am', 'a', 'student', 'of', \"Bachelor's\", 'Degree', 'course', 'at', 'Ujjain', 'Engineering', 'College.']\n"
     ]
    }
   ],
   "source": [
    "txt = \"Hello, my name is Uddesh Soman. 13151 I am a student of Bachelor's Degree course at Ujjain Engineering College.\"\n",
    "x = re.split(\"\\s\", txt)\n",
    "print(x)"
   ]
  },
  {
   "cell_type": "code",
   "execution_count": 66,
   "id": "71d85dd8",
   "metadata": {},
   "outputs": [
    {
     "name": "stdout",
     "output_type": "stream",
     "text": [
      "['H', 'llo, my nam', ' is Udd', 'sh Soman. 13151 I am a stud', 'nt of Bach', \"lor's D\", 'gr', '', ' cours', ' at Ujjain Engin', '', 'ring Coll', 'g', '.']\n"
     ]
    }
   ],
   "source": [
    "txt = \"Hello, my name is Uddesh Soman. 13151 I am a student of Bachelor's Degree course at Ujjain Engineering College.\"\n",
    "x = re.split(\"e\", txt)\n",
    "print(x)"
   ]
  },
  {
   "cell_type": "code",
   "execution_count": 69,
   "id": "55d979d8",
   "metadata": {},
   "outputs": [
    {
     "name": "stdout",
     "output_type": "stream",
     "text": [
      "['H', 'llo, my nam', \" is Uddesh Soman. 13151 I am a student of Bachelor's Degree course at Ujjain Engineering College.\"]\n"
     ]
    }
   ],
   "source": [
    "txt = \"Hello, my name is Uddesh Soman. 13151 I am a student of Bachelor's Degree course at Ujjain Engineering College.\"\n",
    "x = re.split(\"e\", txt, maxsplit = 2)\n",
    "print(x)"
   ]
  },
  {
   "cell_type": "code",
   "execution_count": 71,
   "id": "8b6e2a19",
   "metadata": {},
   "outputs": [
    {
     "name": "stdout",
     "output_type": "stream",
     "text": [
      "This is a bird. This is a cat . This is a dog. This is an elephant\n"
     ]
    }
   ],
   "source": [
    "txt = 'this is a bird. this is a cat . this is a dog. this is an elephant'\n",
    "x = re.sub('this', 'This', txt)\n",
    "print(x)"
   ]
  },
  {
   "cell_type": "code",
   "execution_count": 72,
   "id": "c00316ee",
   "metadata": {},
   "outputs": [
    {
     "name": "stdout",
     "output_type": "stream",
     "text": [
      "This is a bird. This is a cat . this is a dog. this is an elephant\n"
     ]
    }
   ],
   "source": [
    "txt = 'this is a bird. this is a cat . this is a dog. this is an elephant'\n",
    "x = re.sub('this', 'This', txt, 2)\n",
    "print(x)"
   ]
  },
  {
   "cell_type": "code",
   "execution_count": null,
   "id": "41164d54",
   "metadata": {},
   "outputs": [],
   "source": []
  }
 ],
 "metadata": {
  "kernelspec": {
   "display_name": "Python 3",
   "language": "python",
   "name": "python3"
  },
  "language_info": {
   "codemirror_mode": {
    "name": "ipython",
    "version": 3
   },
   "file_extension": ".py",
   "mimetype": "text/x-python",
   "name": "python",
   "nbconvert_exporter": "python",
   "pygments_lexer": "ipython3",
   "version": "3.8.8"
  }
 },
 "nbformat": 4,
 "nbformat_minor": 5
}
