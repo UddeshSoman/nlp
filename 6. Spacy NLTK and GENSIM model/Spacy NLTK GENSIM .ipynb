{
 "cells": [
  {
   "cell_type": "markdown",
   "metadata": {},
   "source": [
    "# SPACY and GENSIM DEMO"
   ]
  },
  {
   "cell_type": "markdown",
   "metadata": {
    "papermill": {
     "duration": 0.040182,
     "end_time": "2021-03-25T01:29:22.918061",
     "exception": false,
     "start_time": "2021-03-25T01:29:22.877879",
     "status": "completed"
    },
    "tags": []
   },
   "source": [
    "\n",
    "___\n",
    "## Additional Token Attributes\n",
    "> We'll see these again in upcoming lectures. For now we just want to illustrate some of the other information that spaCy assigns to tokens:\n",
    "\n",
    "|Tag|Description|doc2[0].tag|\n",
    "|:------|:------:|:------|\n",
    "|`.text`|The original word text<!-- .element: style=\"text-align:left;\" -->|`Tesla`|\n",
    "|`.lemma_`|The base form of the word|`tesla`|\n",
    "|`.pos_`|The simple part-of-speech tag|`PROPN`/`proper noun`|\n",
    "|`.tag_`|The detailed part-of-speech tag|`NNP`/`noun, proper singular`|\n",
    "|`.shape_`|The word shape – capitalization, punctuation, digits|`Xxxxx`|\n",
    "|`.is_alpha`|Is the token an alpha character?|`True`|\n",
    "|`.is_stop`|Is the token part of a stop list, i.e. the most common words of the language?|`False`|\n",
    "\n",
    "\n",
    "___\n",
    "## Spans\n",
    "> Large Doc objects can be hard to work with at times. A **span** is a slice of Doc object in the form `Doc[start:stop]`.\n",
    "\n",
    "___\n",
    "##  Sentences\n",
    "> Certain tokens inside a Doc object may also receive a \"start of sentence\" tag. While this doesn't immediately build a list of sentences, these tags enable the generation of sentence segments through `Doc.sents`. Later we'll write our own segmentation rules."
   ]
  },
  {
   "cell_type": "code",
   "execution_count": 1,
   "metadata": {
    "_cell_guid": "b1076dfc-b9ad-4769-8c92-a6c4dae69d19",
    "_uuid": "8f2839f25d086af736a60e9eeb907d3b93b6e0e5",
    "execution": {
     "iopub.execute_input": "2021-03-25T01:29:22.997388Z",
     "iopub.status.busy": "2021-03-25T01:29:22.996697Z",
     "iopub.status.idle": "2021-03-25T01:29:25.245224Z",
     "shell.execute_reply": "2021-03-25T01:29:25.244070Z"
    },
    "papermill": {
     "duration": 2.289466,
     "end_time": "2021-03-25T01:29:25.245401",
     "exception": false,
     "start_time": "2021-03-25T01:29:22.955935",
     "status": "completed"
    },
    "tags": []
   },
   "outputs": [
    {
     "name": "stdout",
     "output_type": "stream",
     "text": [
      "\n",
      "           SPACE       dep         \n",
      "\n",
      "Tesla       PROPN       nsubj       Tesla\n",
      "will        AUX         aux         will\n",
      "start       VERB        ccomp       start\n",
      "selling     VERB        xcomp       sell\n",
      "cars        NOUN        dobj        car\n",
      "in          ADP         prep        in\n",
      "India       PROPN       pobj        India\n",
      "next        ADJ         amod        next\n",
      "year        NOUN        npadvmod    year\n",
      ",           PUNCT       punct       ,\n",
      "government  NOUN        nsubj       government\n",
      "says        VERB        ROOT        say\n",
      ".           PUNCT       punct       .\n",
      "\n",
      "           SPACE       dep         \n",
      "\n",
      "Elon        PROPN       compound    Elon\n",
      "Mask        PROPN       nsubj       Mask\n",
      "(           PUNCT       punct       (\n",
      "CEO         NOUN        appos       ceo\n",
      "of          ADP         prep        of\n",
      "Tesla       PROPN       pobj        Tesla\n",
      ")           PUNCT       punct       )\n",
      "is          AUX         ROOT        be\n",
      "now         ADV         advmod      now\n",
      "the         DET         det         the\n",
      "richest     ADJ         amod        rich\n",
      "men         NOUN        attr        man\n",
      "in          ADP         prep        in\n",
      "the         DET         det         the\n",
      "world       NOUN        pobj        world\n",
      ".           PUNCT       punct       .\n",
      "\n",
      "           SPACE       dep         \n",
      "\n"
     ]
    }
   ],
   "source": [
    "import spacy\n",
    "import pandas as pd\n",
    "\n",
    "data = pd.read_csv('train.csv')\n",
    "\n",
    "# 1. Loading the language library\n",
    "nlp = spacy.load('en_core_web_sm')\n",
    "\n",
    "# 2. Building a Pipline Object\n",
    "doc = nlp(u'''\n",
    "Tesla will start selling cars in India next year, government says. \n",
    "Elon Mask (CEO of Tesla) is now the richest men in the world.\n",
    "''')\n",
    "\n",
    "\n",
    "# 3. Using Tokens\n",
    "for token in doc:\n",
    "    print(f\"{token.text:{12}}{token.pos_:{12}}{token.dep_:{12}}{token.lemma_}\")"
   ]
  },
  {
   "cell_type": "code",
   "execution_count": 2,
   "metadata": {
    "execution": {
     "iopub.execute_input": "2021-03-25T01:29:25.450799Z",
     "iopub.status.busy": "2021-03-25T01:29:25.450037Z",
     "iopub.status.idle": "2021-03-25T01:29:25.457386Z",
     "shell.execute_reply": "2021-03-25T01:29:25.456675Z"
    },
    "papermill": {
     "duration": 0.051647,
     "end_time": "2021-03-25T01:29:25.457514",
     "exception": false,
     "start_time": "2021-03-25T01:29:25.405867",
     "status": "completed"
    },
    "tags": []
   },
   "outputs": [
    {
     "data": {
      "text/plain": [
       "0    Our Deeds are the Reason of this #earthquake M...\n",
       "1               Forest fire near La Ronge Sask. Canada\n",
       "2    All residents asked to 'shelter in place' are ...\n",
       "3    13,000 people receive #wildfires evacuation or...\n",
       "4    Just got sent this photo from Ruby #Alaska as ...\n",
       "Name: text, dtype: object"
      ]
     },
     "execution_count": 2,
     "metadata": {},
     "output_type": "execute_result"
    }
   ],
   "source": [
    "data[data.target == 1]['text'].head()"
   ]
  },
  {
   "cell_type": "code",
   "execution_count": 3,
   "metadata": {
    "execution": {
     "iopub.execute_input": "2021-03-25T01:29:25.538965Z",
     "iopub.status.busy": "2021-03-25T01:29:25.538250Z",
     "iopub.status.idle": "2021-03-25T01:29:25.548678Z",
     "shell.execute_reply": "2021-03-25T01:29:25.547931Z"
    },
    "papermill": {
     "duration": 0.052399,
     "end_time": "2021-03-25T01:29:25.548808",
     "exception": false,
     "start_time": "2021-03-25T01:29:25.496409",
     "status": "completed"
    },
    "tags": []
   },
   "outputs": [
    {
     "data": {
      "text/plain": [
       "15                  What's up man?\n",
       "16                   I love fruits\n",
       "17                Summer is lovely\n",
       "18               My car is so fast\n",
       "19    What a goooooooaaaaaal!!!!!!\n",
       "Name: text, dtype: object"
      ]
     },
     "execution_count": 3,
     "metadata": {},
     "output_type": "execute_result"
    }
   ],
   "source": [
    "data[data.target == 0]['text'].head()"
   ]
  },
  {
   "cell_type": "code",
   "execution_count": 4,
   "metadata": {
    "execution": {
     "iopub.execute_input": "2021-03-25T01:29:25.635999Z",
     "iopub.status.busy": "2021-03-25T01:29:25.634950Z",
     "iopub.status.idle": "2021-03-25T01:29:25.639907Z",
     "shell.execute_reply": "2021-03-25T01:29:25.639245Z"
    },
    "papermill": {
     "duration": 0.051354,
     "end_time": "2021-03-25T01:29:25.640020",
     "exception": false,
     "start_time": "2021-03-25T01:29:25.588666",
     "status": "completed"
    },
    "tags": []
   },
   "outputs": [
    {
     "data": {
      "text/plain": [
       "[('tok2vec', <spacy.pipeline.tok2vec.Tok2Vec at 0x1a50090e1c0>),\n",
       " ('tagger', <spacy.pipeline.tagger.Tagger at 0x1a50090e040>),\n",
       " ('parser', <spacy.pipeline.dep_parser.DependencyParser at 0x1a500688ac0>),\n",
       " ('attribute_ruler',\n",
       "  <spacy.pipeline.attributeruler.AttributeRuler at 0x1a500966bc0>),\n",
       " ('lemmatizer', <spacy.lang.en.lemmatizer.EnglishLemmatizer at 0x1a500971b80>),\n",
       " ('ner', <spacy.pipeline.ner.EntityRecognizer at 0x1a500688a50>)]"
      ]
     },
     "execution_count": 4,
     "metadata": {},
     "output_type": "execute_result"
    }
   ],
   "source": [
    "nlp.pipeline"
   ]
  },
  {
   "cell_type": "code",
   "execution_count": 5,
   "metadata": {
    "execution": {
     "iopub.execute_input": "2021-03-25T01:29:25.724780Z",
     "iopub.status.busy": "2021-03-25T01:29:25.724074Z",
     "iopub.status.idle": "2021-03-25T01:29:25.726866Z",
     "shell.execute_reply": "2021-03-25T01:29:25.727320Z"
    },
    "papermill": {
     "duration": 0.04784,
     "end_time": "2021-03-25T01:29:25.727474",
     "exception": false,
     "start_time": "2021-03-25T01:29:25.679634",
     "status": "completed"
    },
    "tags": []
   },
   "outputs": [
    {
     "data": {
      "text/plain": [
       "['tok2vec', 'tagger', 'parser', 'attribute_ruler', 'lemmatizer', 'ner']"
      ]
     },
     "execution_count": 5,
     "metadata": {},
     "output_type": "execute_result"
    }
   ],
   "source": [
    "nlp.pipe_names"
   ]
  },
  {
   "cell_type": "code",
   "execution_count": 6,
   "metadata": {
    "execution": {
     "iopub.execute_input": "2021-03-25T01:29:25.814241Z",
     "iopub.status.busy": "2021-03-25T01:29:25.813410Z",
     "iopub.status.idle": "2021-03-25T01:29:25.841142Z",
     "shell.execute_reply": "2021-03-25T01:29:25.840515Z"
    },
    "papermill": {
     "duration": 0.070859,
     "end_time": "2021-03-25T01:29:25.841260",
     "exception": false,
     "start_time": "2021-03-25T01:29:25.770401",
     "status": "completed"
    },
    "tags": []
   },
   "outputs": [],
   "source": [
    "text = \"\"\"\n",
    "Elon Musk, the billionaire CEO of Tesla and SpaceX, is now the richest person in the world, surpassing former titleholder and Amazon chief Jeff Bezos with a net worth of $189.7 billion, according to Forbes’s real-time billionaire net-worth estimates on Jan. 8, 2021 at 1pm. Since March, Musk’s wealth has grown almost seven-fold, up a staggering $163.1 billion.\n",
    "\"\"\"\n",
    "doc = nlp(text)"
   ]
  },
  {
   "cell_type": "code",
   "execution_count": 7,
   "metadata": {
    "execution": {
     "iopub.execute_input": "2021-03-25T01:29:25.928677Z",
     "iopub.status.busy": "2021-03-25T01:29:25.928024Z",
     "iopub.status.idle": "2021-03-25T01:29:25.937378Z",
     "shell.execute_reply": "2021-03-25T01:29:25.936808Z"
    },
    "papermill": {
     "duration": 0.05617,
     "end_time": "2021-03-25T01:29:25.937511",
     "exception": false,
     "start_time": "2021-03-25T01:29:25.881341",
     "status": "completed"
    },
    "tags": []
   },
   "outputs": [
    {
     "name": "stdout",
     "output_type": "stream",
     "text": [
      "a net worth of $189.7 billion, according to Forbes’s real-time billionaire net-worth estimates\n",
      "<class 'spacy.tokens.span.Span'>\n"
     ]
    }
   ],
   "source": [
    "quote = doc[30:50]\n",
    "print(quote)\n",
    "print(type(quote))"
   ]
  },
  {
   "cell_type": "code",
   "execution_count": 8,
   "metadata": {
    "execution": {
     "iopub.execute_input": "2021-03-25T01:29:26.026334Z",
     "iopub.status.busy": "2021-03-25T01:29:26.025634Z",
     "iopub.status.idle": "2021-03-25T01:29:26.030608Z",
     "shell.execute_reply": "2021-03-25T01:29:26.030033Z"
    },
    "papermill": {
     "duration": 0.051562,
     "end_time": "2021-03-25T01:29:26.030720",
     "exception": false,
     "start_time": "2021-03-25T01:29:25.979158",
     "status": "completed"
    },
    "tags": []
   },
   "outputs": [
    {
     "name": "stdout",
     "output_type": "stream",
     "text": [
      "1 - \n",
      "Elon Musk, the billionaire CEO of Tesla and SpaceX, is now the richest person in the world, surpassing former titleholder and Amazon chief Jeff Bezos with a net worth of $189.7 billion, according to Forbes’s real-time billionaire net-worth estimates on Jan. 8, 2021 at 1pm.\n",
      "2 - Since March, Musk’s wealth has grown almost seven-fold, up a staggering $163.1 billion.\n",
      "\n"
     ]
    }
   ],
   "source": [
    "for i, sentence in enumerate(doc.sents, 1):\n",
    "    print(f\"{i} - {sentence}\")"
   ]
  },
  {
   "cell_type": "markdown",
   "metadata": {
    "papermill": {
     "duration": 0.040615,
     "end_time": "2021-03-25T01:29:26.113375",
     "exception": false,
     "start_time": "2021-03-25T01:29:26.072760",
     "status": "completed"
    },
    "tags": []
   },
   "source": [
    "## Named Entity"
   ]
  },
  {
   "cell_type": "code",
   "execution_count": 9,
   "metadata": {
    "execution": {
     "iopub.execute_input": "2021-03-25T01:29:26.201870Z",
     "iopub.status.busy": "2021-03-25T01:29:26.201202Z",
     "iopub.status.idle": "2021-03-25T01:29:26.206632Z",
     "shell.execute_reply": "2021-03-25T01:29:26.207135Z"
    },
    "papermill": {
     "duration": 0.052645,
     "end_time": "2021-03-25T01:29:26.207272",
     "exception": false,
     "start_time": "2021-03-25T01:29:26.154627",
     "status": "completed"
    },
    "tags": []
   },
   "outputs": [
    {
     "name": "stdout",
     "output_type": "stream",
     "text": [
      "Elon Musk-----------PERSON--------------People, including fictional\n",
      "Tesla---------------ORG-----------------Companies, agencies, institutions, etc.\n",
      "Amazon--------------ORG-----------------Companies, agencies, institutions, etc.\n",
      "Jeff Bezos----------PERSON--------------People, including fictional\n",
      "$189.7 billion------MONEY---------------Monetary values, including unit\n",
      "Forbes--------------ORG-----------------Companies, agencies, institutions, etc.\n",
      "Jan. 8, 2021--------DATE----------------Absolute or relative dates or periods\n",
      "1pm-----------------TIME----------------Times smaller than a day\n",
      "March---------------DATE----------------Absolute or relative dates or periods\n",
      "Musk----------------PERSON--------------People, including fictional\n",
      "almost seven-fold---CARDINAL------------Numerals that do not fall under another type\n",
      "$163.1 billion------MONEY---------------Monetary values, including unit\n"
     ]
    }
   ],
   "source": [
    "for entity in doc.ents:\n",
    "    print(f\"{entity.text:-<{20}}{entity.label_:-<{20}}{str(spacy.explain(entity.label_))}\")"
   ]
  },
  {
   "cell_type": "markdown",
   "metadata": {
    "papermill": {
     "duration": 0.04147,
     "end_time": "2021-03-25T01:29:26.290568",
     "exception": false,
     "start_time": "2021-03-25T01:29:26.249098",
     "status": "completed"
    },
    "tags": []
   },
   "source": [
    "# Noun Chunks"
   ]
  },
  {
   "cell_type": "code",
   "execution_count": 10,
   "metadata": {
    "execution": {
     "iopub.execute_input": "2021-03-25T01:29:26.379931Z",
     "iopub.status.busy": "2021-03-25T01:29:26.379221Z",
     "iopub.status.idle": "2021-03-25T01:29:26.384776Z",
     "shell.execute_reply": "2021-03-25T01:29:26.384224Z"
    },
    "papermill": {
     "duration": 0.052763,
     "end_time": "2021-03-25T01:29:26.384901",
     "exception": false,
     "start_time": "2021-03-25T01:29:26.332138",
     "status": "completed"
    },
    "tags": []
   },
   "outputs": [
    {
     "name": "stdout",
     "output_type": "stream",
     "text": [
      "\n",
      "Elon Musk\n",
      "the billionaire CEO\n",
      "Tesla\n",
      "SpaceX\n",
      "the richest person\n",
      "the world\n",
      "former titleholder\n",
      "Amazon chief Jeff Bezos\n",
      "a net worth\n",
      "Forbes’s real-time billionaire net-worth estimates\n",
      "Jan.\n",
      "March\n",
      "Musk’s wealth\n"
     ]
    }
   ],
   "source": [
    "for chunk in doc.noun_chunks:\n",
    "    print(chunk.text)"
   ]
  },
  {
   "cell_type": "markdown",
   "metadata": {
    "papermill": {
     "duration": 0.041803,
     "end_time": "2021-03-25T01:29:26.469434",
     "exception": false,
     "start_time": "2021-03-25T01:29:26.427631",
     "status": "completed"
    },
    "tags": []
   },
   "source": [
    "## Built-in Visualizers"
   ]
  },
  {
   "cell_type": "code",
   "execution_count": 11,
   "metadata": {
    "execution": {
     "iopub.execute_input": "2021-03-25T01:29:26.568208Z",
     "iopub.status.busy": "2021-03-25T01:29:26.567489Z",
     "iopub.status.idle": "2021-03-25T01:29:26.575967Z",
     "shell.execute_reply": "2021-03-25T01:29:26.576484Z"
    },
    "papermill": {
     "duration": 0.064906,
     "end_time": "2021-03-25T01:29:26.576644",
     "exception": false,
     "start_time": "2021-03-25T01:29:26.511738",
     "status": "completed"
    },
    "tags": []
   },
   "outputs": [
    {
     "data": {
      "text/html": [
       "<span class=\"tex2jax_ignore\"><svg xmlns=\"http://www.w3.org/2000/svg\" xmlns:xlink=\"http://www.w3.org/1999/xlink\" xml:lang=\"en\" id=\"93f8a897a90c493f90615c19e7bf3f24-0\" class=\"displacy\" width=\"6170\" height=\"362.0\" direction=\"ltr\" style=\"max-width: none; height: 362.0px; color: #000000; background: #ffffff; font-family: Arial; direction: ltr\">\n",
       "<text class=\"displacy-token\" fill=\"currentColor\" text-anchor=\"middle\" y=\"272.0\">\n",
       "    <tspan class=\"displacy-word\" fill=\"currentColor\" x=\"50\">\n",
       "</tspan>\n",
       "    <tspan class=\"displacy-tag\" dy=\"2em\" fill=\"currentColor\" x=\"50\">SPACE</tspan>\n",
       "</text>\n",
       "\n",
       "<text class=\"displacy-token\" fill=\"currentColor\" text-anchor=\"middle\" y=\"272.0\">\n",
       "    <tspan class=\"displacy-word\" fill=\"currentColor\" x=\"140\">Elon</tspan>\n",
       "    <tspan class=\"displacy-tag\" dy=\"2em\" fill=\"currentColor\" x=\"140\">PROPN</tspan>\n",
       "</text>\n",
       "\n",
       "<text class=\"displacy-token\" fill=\"currentColor\" text-anchor=\"middle\" y=\"272.0\">\n",
       "    <tspan class=\"displacy-word\" fill=\"currentColor\" x=\"230\">Musk,</tspan>\n",
       "    <tspan class=\"displacy-tag\" dy=\"2em\" fill=\"currentColor\" x=\"230\">PROPN</tspan>\n",
       "</text>\n",
       "\n",
       "<text class=\"displacy-token\" fill=\"currentColor\" text-anchor=\"middle\" y=\"272.0\">\n",
       "    <tspan class=\"displacy-word\" fill=\"currentColor\" x=\"320\">the</tspan>\n",
       "    <tspan class=\"displacy-tag\" dy=\"2em\" fill=\"currentColor\" x=\"320\">DET</tspan>\n",
       "</text>\n",
       "\n",
       "<text class=\"displacy-token\" fill=\"currentColor\" text-anchor=\"middle\" y=\"272.0\">\n",
       "    <tspan class=\"displacy-word\" fill=\"currentColor\" x=\"410\">billionaire</tspan>\n",
       "    <tspan class=\"displacy-tag\" dy=\"2em\" fill=\"currentColor\" x=\"410\">NOUN</tspan>\n",
       "</text>\n",
       "\n",
       "<text class=\"displacy-token\" fill=\"currentColor\" text-anchor=\"middle\" y=\"272.0\">\n",
       "    <tspan class=\"displacy-word\" fill=\"currentColor\" x=\"500\">CEO</tspan>\n",
       "    <tspan class=\"displacy-tag\" dy=\"2em\" fill=\"currentColor\" x=\"500\">NOUN</tspan>\n",
       "</text>\n",
       "\n",
       "<text class=\"displacy-token\" fill=\"currentColor\" text-anchor=\"middle\" y=\"272.0\">\n",
       "    <tspan class=\"displacy-word\" fill=\"currentColor\" x=\"590\">of</tspan>\n",
       "    <tspan class=\"displacy-tag\" dy=\"2em\" fill=\"currentColor\" x=\"590\">ADP</tspan>\n",
       "</text>\n",
       "\n",
       "<text class=\"displacy-token\" fill=\"currentColor\" text-anchor=\"middle\" y=\"272.0\">\n",
       "    <tspan class=\"displacy-word\" fill=\"currentColor\" x=\"680\">Tesla</tspan>\n",
       "    <tspan class=\"displacy-tag\" dy=\"2em\" fill=\"currentColor\" x=\"680\">PROPN</tspan>\n",
       "</text>\n",
       "\n",
       "<text class=\"displacy-token\" fill=\"currentColor\" text-anchor=\"middle\" y=\"272.0\">\n",
       "    <tspan class=\"displacy-word\" fill=\"currentColor\" x=\"770\">and</tspan>\n",
       "    <tspan class=\"displacy-tag\" dy=\"2em\" fill=\"currentColor\" x=\"770\">CCONJ</tspan>\n",
       "</text>\n",
       "\n",
       "<text class=\"displacy-token\" fill=\"currentColor\" text-anchor=\"middle\" y=\"272.0\">\n",
       "    <tspan class=\"displacy-word\" fill=\"currentColor\" x=\"860\">SpaceX,</tspan>\n",
       "    <tspan class=\"displacy-tag\" dy=\"2em\" fill=\"currentColor\" x=\"860\">PROPN</tspan>\n",
       "</text>\n",
       "\n",
       "<text class=\"displacy-token\" fill=\"currentColor\" text-anchor=\"middle\" y=\"272.0\">\n",
       "    <tspan class=\"displacy-word\" fill=\"currentColor\" x=\"950\">is</tspan>\n",
       "    <tspan class=\"displacy-tag\" dy=\"2em\" fill=\"currentColor\" x=\"950\">AUX</tspan>\n",
       "</text>\n",
       "\n",
       "<text class=\"displacy-token\" fill=\"currentColor\" text-anchor=\"middle\" y=\"272.0\">\n",
       "    <tspan class=\"displacy-word\" fill=\"currentColor\" x=\"1040\">now</tspan>\n",
       "    <tspan class=\"displacy-tag\" dy=\"2em\" fill=\"currentColor\" x=\"1040\">ADV</tspan>\n",
       "</text>\n",
       "\n",
       "<text class=\"displacy-token\" fill=\"currentColor\" text-anchor=\"middle\" y=\"272.0\">\n",
       "    <tspan class=\"displacy-word\" fill=\"currentColor\" x=\"1130\">the</tspan>\n",
       "    <tspan class=\"displacy-tag\" dy=\"2em\" fill=\"currentColor\" x=\"1130\">DET</tspan>\n",
       "</text>\n",
       "\n",
       "<text class=\"displacy-token\" fill=\"currentColor\" text-anchor=\"middle\" y=\"272.0\">\n",
       "    <tspan class=\"displacy-word\" fill=\"currentColor\" x=\"1220\">richest</tspan>\n",
       "    <tspan class=\"displacy-tag\" dy=\"2em\" fill=\"currentColor\" x=\"1220\">ADJ</tspan>\n",
       "</text>\n",
       "\n",
       "<text class=\"displacy-token\" fill=\"currentColor\" text-anchor=\"middle\" y=\"272.0\">\n",
       "    <tspan class=\"displacy-word\" fill=\"currentColor\" x=\"1310\">person</tspan>\n",
       "    <tspan class=\"displacy-tag\" dy=\"2em\" fill=\"currentColor\" x=\"1310\">NOUN</tspan>\n",
       "</text>\n",
       "\n",
       "<text class=\"displacy-token\" fill=\"currentColor\" text-anchor=\"middle\" y=\"272.0\">\n",
       "    <tspan class=\"displacy-word\" fill=\"currentColor\" x=\"1400\">in</tspan>\n",
       "    <tspan class=\"displacy-tag\" dy=\"2em\" fill=\"currentColor\" x=\"1400\">ADP</tspan>\n",
       "</text>\n",
       "\n",
       "<text class=\"displacy-token\" fill=\"currentColor\" text-anchor=\"middle\" y=\"272.0\">\n",
       "    <tspan class=\"displacy-word\" fill=\"currentColor\" x=\"1490\">the</tspan>\n",
       "    <tspan class=\"displacy-tag\" dy=\"2em\" fill=\"currentColor\" x=\"1490\">DET</tspan>\n",
       "</text>\n",
       "\n",
       "<text class=\"displacy-token\" fill=\"currentColor\" text-anchor=\"middle\" y=\"272.0\">\n",
       "    <tspan class=\"displacy-word\" fill=\"currentColor\" x=\"1580\">world,</tspan>\n",
       "    <tspan class=\"displacy-tag\" dy=\"2em\" fill=\"currentColor\" x=\"1580\">NOUN</tspan>\n",
       "</text>\n",
       "\n",
       "<text class=\"displacy-token\" fill=\"currentColor\" text-anchor=\"middle\" y=\"272.0\">\n",
       "    <tspan class=\"displacy-word\" fill=\"currentColor\" x=\"1670\">surpassing</tspan>\n",
       "    <tspan class=\"displacy-tag\" dy=\"2em\" fill=\"currentColor\" x=\"1670\">VERB</tspan>\n",
       "</text>\n",
       "\n",
       "<text class=\"displacy-token\" fill=\"currentColor\" text-anchor=\"middle\" y=\"272.0\">\n",
       "    <tspan class=\"displacy-word\" fill=\"currentColor\" x=\"1760\">former</tspan>\n",
       "    <tspan class=\"displacy-tag\" dy=\"2em\" fill=\"currentColor\" x=\"1760\">ADJ</tspan>\n",
       "</text>\n",
       "\n",
       "<text class=\"displacy-token\" fill=\"currentColor\" text-anchor=\"middle\" y=\"272.0\">\n",
       "    <tspan class=\"displacy-word\" fill=\"currentColor\" x=\"1850\">titleholder</tspan>\n",
       "    <tspan class=\"displacy-tag\" dy=\"2em\" fill=\"currentColor\" x=\"1850\">NOUN</tspan>\n",
       "</text>\n",
       "\n",
       "<text class=\"displacy-token\" fill=\"currentColor\" text-anchor=\"middle\" y=\"272.0\">\n",
       "    <tspan class=\"displacy-word\" fill=\"currentColor\" x=\"1940\">and</tspan>\n",
       "    <tspan class=\"displacy-tag\" dy=\"2em\" fill=\"currentColor\" x=\"1940\">CCONJ</tspan>\n",
       "</text>\n",
       "\n",
       "<text class=\"displacy-token\" fill=\"currentColor\" text-anchor=\"middle\" y=\"272.0\">\n",
       "    <tspan class=\"displacy-word\" fill=\"currentColor\" x=\"2030\">Amazon</tspan>\n",
       "    <tspan class=\"displacy-tag\" dy=\"2em\" fill=\"currentColor\" x=\"2030\">PROPN</tspan>\n",
       "</text>\n",
       "\n",
       "<text class=\"displacy-token\" fill=\"currentColor\" text-anchor=\"middle\" y=\"272.0\">\n",
       "    <tspan class=\"displacy-word\" fill=\"currentColor\" x=\"2120\">chief</tspan>\n",
       "    <tspan class=\"displacy-tag\" dy=\"2em\" fill=\"currentColor\" x=\"2120\">NOUN</tspan>\n",
       "</text>\n",
       "\n",
       "<text class=\"displacy-token\" fill=\"currentColor\" text-anchor=\"middle\" y=\"272.0\">\n",
       "    <tspan class=\"displacy-word\" fill=\"currentColor\" x=\"2210\">Jeff</tspan>\n",
       "    <tspan class=\"displacy-tag\" dy=\"2em\" fill=\"currentColor\" x=\"2210\">PROPN</tspan>\n",
       "</text>\n",
       "\n",
       "<text class=\"displacy-token\" fill=\"currentColor\" text-anchor=\"middle\" y=\"272.0\">\n",
       "    <tspan class=\"displacy-word\" fill=\"currentColor\" x=\"2300\">Bezos</tspan>\n",
       "    <tspan class=\"displacy-tag\" dy=\"2em\" fill=\"currentColor\" x=\"2300\">PROPN</tspan>\n",
       "</text>\n",
       "\n",
       "<text class=\"displacy-token\" fill=\"currentColor\" text-anchor=\"middle\" y=\"272.0\">\n",
       "    <tspan class=\"displacy-word\" fill=\"currentColor\" x=\"2390\">with</tspan>\n",
       "    <tspan class=\"displacy-tag\" dy=\"2em\" fill=\"currentColor\" x=\"2390\">ADP</tspan>\n",
       "</text>\n",
       "\n",
       "<text class=\"displacy-token\" fill=\"currentColor\" text-anchor=\"middle\" y=\"272.0\">\n",
       "    <tspan class=\"displacy-word\" fill=\"currentColor\" x=\"2480\">a</tspan>\n",
       "    <tspan class=\"displacy-tag\" dy=\"2em\" fill=\"currentColor\" x=\"2480\">DET</tspan>\n",
       "</text>\n",
       "\n",
       "<text class=\"displacy-token\" fill=\"currentColor\" text-anchor=\"middle\" y=\"272.0\">\n",
       "    <tspan class=\"displacy-word\" fill=\"currentColor\" x=\"2570\">net</tspan>\n",
       "    <tspan class=\"displacy-tag\" dy=\"2em\" fill=\"currentColor\" x=\"2570\">ADJ</tspan>\n",
       "</text>\n",
       "\n",
       "<text class=\"displacy-token\" fill=\"currentColor\" text-anchor=\"middle\" y=\"272.0\">\n",
       "    <tspan class=\"displacy-word\" fill=\"currentColor\" x=\"2660\">worth</tspan>\n",
       "    <tspan class=\"displacy-tag\" dy=\"2em\" fill=\"currentColor\" x=\"2660\">NOUN</tspan>\n",
       "</text>\n",
       "\n",
       "<text class=\"displacy-token\" fill=\"currentColor\" text-anchor=\"middle\" y=\"272.0\">\n",
       "    <tspan class=\"displacy-word\" fill=\"currentColor\" x=\"2750\">of</tspan>\n",
       "    <tspan class=\"displacy-tag\" dy=\"2em\" fill=\"currentColor\" x=\"2750\">ADP</tspan>\n",
       "</text>\n",
       "\n",
       "<text class=\"displacy-token\" fill=\"currentColor\" text-anchor=\"middle\" y=\"272.0\">\n",
       "    <tspan class=\"displacy-word\" fill=\"currentColor\" x=\"2840\">$</tspan>\n",
       "    <tspan class=\"displacy-tag\" dy=\"2em\" fill=\"currentColor\" x=\"2840\">SYM</tspan>\n",
       "</text>\n",
       "\n",
       "<text class=\"displacy-token\" fill=\"currentColor\" text-anchor=\"middle\" y=\"272.0\">\n",
       "    <tspan class=\"displacy-word\" fill=\"currentColor\" x=\"2930\">189.7</tspan>\n",
       "    <tspan class=\"displacy-tag\" dy=\"2em\" fill=\"currentColor\" x=\"2930\">NUM</tspan>\n",
       "</text>\n",
       "\n",
       "<text class=\"displacy-token\" fill=\"currentColor\" text-anchor=\"middle\" y=\"272.0\">\n",
       "    <tspan class=\"displacy-word\" fill=\"currentColor\" x=\"3020\">billion,</tspan>\n",
       "    <tspan class=\"displacy-tag\" dy=\"2em\" fill=\"currentColor\" x=\"3020\">NUM</tspan>\n",
       "</text>\n",
       "\n",
       "<text class=\"displacy-token\" fill=\"currentColor\" text-anchor=\"middle\" y=\"272.0\">\n",
       "    <tspan class=\"displacy-word\" fill=\"currentColor\" x=\"3110\">according</tspan>\n",
       "    <tspan class=\"displacy-tag\" dy=\"2em\" fill=\"currentColor\" x=\"3110\">VERB</tspan>\n",
       "</text>\n",
       "\n",
       "<text class=\"displacy-token\" fill=\"currentColor\" text-anchor=\"middle\" y=\"272.0\">\n",
       "    <tspan class=\"displacy-word\" fill=\"currentColor\" x=\"3200\">to</tspan>\n",
       "    <tspan class=\"displacy-tag\" dy=\"2em\" fill=\"currentColor\" x=\"3200\">ADP</tspan>\n",
       "</text>\n",
       "\n",
       "<text class=\"displacy-token\" fill=\"currentColor\" text-anchor=\"middle\" y=\"272.0\">\n",
       "    <tspan class=\"displacy-word\" fill=\"currentColor\" x=\"3290\">Forbes</tspan>\n",
       "    <tspan class=\"displacy-tag\" dy=\"2em\" fill=\"currentColor\" x=\"3290\">PROPN</tspan>\n",
       "</text>\n",
       "\n",
       "<text class=\"displacy-token\" fill=\"currentColor\" text-anchor=\"middle\" y=\"272.0\">\n",
       "    <tspan class=\"displacy-word\" fill=\"currentColor\" x=\"3380\">’s</tspan>\n",
       "    <tspan class=\"displacy-tag\" dy=\"2em\" fill=\"currentColor\" x=\"3380\">PART</tspan>\n",
       "</text>\n",
       "\n",
       "<text class=\"displacy-token\" fill=\"currentColor\" text-anchor=\"middle\" y=\"272.0\">\n",
       "    <tspan class=\"displacy-word\" fill=\"currentColor\" x=\"3470\">real-</tspan>\n",
       "    <tspan class=\"displacy-tag\" dy=\"2em\" fill=\"currentColor\" x=\"3470\">ADJ</tspan>\n",
       "</text>\n",
       "\n",
       "<text class=\"displacy-token\" fill=\"currentColor\" text-anchor=\"middle\" y=\"272.0\">\n",
       "    <tspan class=\"displacy-word\" fill=\"currentColor\" x=\"3560\">time</tspan>\n",
       "    <tspan class=\"displacy-tag\" dy=\"2em\" fill=\"currentColor\" x=\"3560\">NOUN</tspan>\n",
       "</text>\n",
       "\n",
       "<text class=\"displacy-token\" fill=\"currentColor\" text-anchor=\"middle\" y=\"272.0\">\n",
       "    <tspan class=\"displacy-word\" fill=\"currentColor\" x=\"3650\">billionaire</tspan>\n",
       "    <tspan class=\"displacy-tag\" dy=\"2em\" fill=\"currentColor\" x=\"3650\">NOUN</tspan>\n",
       "</text>\n",
       "\n",
       "<text class=\"displacy-token\" fill=\"currentColor\" text-anchor=\"middle\" y=\"272.0\">\n",
       "    <tspan class=\"displacy-word\" fill=\"currentColor\" x=\"3740\">net-</tspan>\n",
       "    <tspan class=\"displacy-tag\" dy=\"2em\" fill=\"currentColor\" x=\"3740\">NOUN</tspan>\n",
       "</text>\n",
       "\n",
       "<text class=\"displacy-token\" fill=\"currentColor\" text-anchor=\"middle\" y=\"272.0\">\n",
       "    <tspan class=\"displacy-word\" fill=\"currentColor\" x=\"3830\">worth</tspan>\n",
       "    <tspan class=\"displacy-tag\" dy=\"2em\" fill=\"currentColor\" x=\"3830\">ADJ</tspan>\n",
       "</text>\n",
       "\n",
       "<text class=\"displacy-token\" fill=\"currentColor\" text-anchor=\"middle\" y=\"272.0\">\n",
       "    <tspan class=\"displacy-word\" fill=\"currentColor\" x=\"3920\">estimates</tspan>\n",
       "    <tspan class=\"displacy-tag\" dy=\"2em\" fill=\"currentColor\" x=\"3920\">NOUN</tspan>\n",
       "</text>\n",
       "\n",
       "<text class=\"displacy-token\" fill=\"currentColor\" text-anchor=\"middle\" y=\"272.0\">\n",
       "    <tspan class=\"displacy-word\" fill=\"currentColor\" x=\"4010\">on</tspan>\n",
       "    <tspan class=\"displacy-tag\" dy=\"2em\" fill=\"currentColor\" x=\"4010\">ADP</tspan>\n",
       "</text>\n",
       "\n",
       "<text class=\"displacy-token\" fill=\"currentColor\" text-anchor=\"middle\" y=\"272.0\">\n",
       "    <tspan class=\"displacy-word\" fill=\"currentColor\" x=\"4100\">Jan.</tspan>\n",
       "    <tspan class=\"displacy-tag\" dy=\"2em\" fill=\"currentColor\" x=\"4100\">PROPN</tspan>\n",
       "</text>\n",
       "\n",
       "<text class=\"displacy-token\" fill=\"currentColor\" text-anchor=\"middle\" y=\"272.0\">\n",
       "    <tspan class=\"displacy-word\" fill=\"currentColor\" x=\"4190\">8,</tspan>\n",
       "    <tspan class=\"displacy-tag\" dy=\"2em\" fill=\"currentColor\" x=\"4190\">NUM</tspan>\n",
       "</text>\n",
       "\n",
       "<text class=\"displacy-token\" fill=\"currentColor\" text-anchor=\"middle\" y=\"272.0\">\n",
       "    <tspan class=\"displacy-word\" fill=\"currentColor\" x=\"4280\">2021</tspan>\n",
       "    <tspan class=\"displacy-tag\" dy=\"2em\" fill=\"currentColor\" x=\"4280\">NUM</tspan>\n",
       "</text>\n",
       "\n",
       "<text class=\"displacy-token\" fill=\"currentColor\" text-anchor=\"middle\" y=\"272.0\">\n",
       "    <tspan class=\"displacy-word\" fill=\"currentColor\" x=\"4370\">at</tspan>\n",
       "    <tspan class=\"displacy-tag\" dy=\"2em\" fill=\"currentColor\" x=\"4370\">ADP</tspan>\n",
       "</text>\n",
       "\n",
       "<text class=\"displacy-token\" fill=\"currentColor\" text-anchor=\"middle\" y=\"272.0\">\n",
       "    <tspan class=\"displacy-word\" fill=\"currentColor\" x=\"4460\">1</tspan>\n",
       "    <tspan class=\"displacy-tag\" dy=\"2em\" fill=\"currentColor\" x=\"4460\">NUM</tspan>\n",
       "</text>\n",
       "\n",
       "<text class=\"displacy-token\" fill=\"currentColor\" text-anchor=\"middle\" y=\"272.0\">\n",
       "    <tspan class=\"displacy-word\" fill=\"currentColor\" x=\"4550\">pm.</tspan>\n",
       "    <tspan class=\"displacy-tag\" dy=\"2em\" fill=\"currentColor\" x=\"4550\">NUM</tspan>\n",
       "</text>\n",
       "\n",
       "<text class=\"displacy-token\" fill=\"currentColor\" text-anchor=\"middle\" y=\"272.0\">\n",
       "    <tspan class=\"displacy-word\" fill=\"currentColor\" x=\"4640\">Since</tspan>\n",
       "    <tspan class=\"displacy-tag\" dy=\"2em\" fill=\"currentColor\" x=\"4640\">SCONJ</tspan>\n",
       "</text>\n",
       "\n",
       "<text class=\"displacy-token\" fill=\"currentColor\" text-anchor=\"middle\" y=\"272.0\">\n",
       "    <tspan class=\"displacy-word\" fill=\"currentColor\" x=\"4730\">March,</tspan>\n",
       "    <tspan class=\"displacy-tag\" dy=\"2em\" fill=\"currentColor\" x=\"4730\">PROPN</tspan>\n",
       "</text>\n",
       "\n",
       "<text class=\"displacy-token\" fill=\"currentColor\" text-anchor=\"middle\" y=\"272.0\">\n",
       "    <tspan class=\"displacy-word\" fill=\"currentColor\" x=\"4820\">Musk</tspan>\n",
       "    <tspan class=\"displacy-tag\" dy=\"2em\" fill=\"currentColor\" x=\"4820\">PROPN</tspan>\n",
       "</text>\n",
       "\n",
       "<text class=\"displacy-token\" fill=\"currentColor\" text-anchor=\"middle\" y=\"272.0\">\n",
       "    <tspan class=\"displacy-word\" fill=\"currentColor\" x=\"4910\">’s</tspan>\n",
       "    <tspan class=\"displacy-tag\" dy=\"2em\" fill=\"currentColor\" x=\"4910\">PART</tspan>\n",
       "</text>\n",
       "\n",
       "<text class=\"displacy-token\" fill=\"currentColor\" text-anchor=\"middle\" y=\"272.0\">\n",
       "    <tspan class=\"displacy-word\" fill=\"currentColor\" x=\"5000\">wealth</tspan>\n",
       "    <tspan class=\"displacy-tag\" dy=\"2em\" fill=\"currentColor\" x=\"5000\">NOUN</tspan>\n",
       "</text>\n",
       "\n",
       "<text class=\"displacy-token\" fill=\"currentColor\" text-anchor=\"middle\" y=\"272.0\">\n",
       "    <tspan class=\"displacy-word\" fill=\"currentColor\" x=\"5090\">has</tspan>\n",
       "    <tspan class=\"displacy-tag\" dy=\"2em\" fill=\"currentColor\" x=\"5090\">AUX</tspan>\n",
       "</text>\n",
       "\n",
       "<text class=\"displacy-token\" fill=\"currentColor\" text-anchor=\"middle\" y=\"272.0\">\n",
       "    <tspan class=\"displacy-word\" fill=\"currentColor\" x=\"5180\">grown</tspan>\n",
       "    <tspan class=\"displacy-tag\" dy=\"2em\" fill=\"currentColor\" x=\"5180\">VERB</tspan>\n",
       "</text>\n",
       "\n",
       "<text class=\"displacy-token\" fill=\"currentColor\" text-anchor=\"middle\" y=\"272.0\">\n",
       "    <tspan class=\"displacy-word\" fill=\"currentColor\" x=\"5270\">almost</tspan>\n",
       "    <tspan class=\"displacy-tag\" dy=\"2em\" fill=\"currentColor\" x=\"5270\">ADV</tspan>\n",
       "</text>\n",
       "\n",
       "<text class=\"displacy-token\" fill=\"currentColor\" text-anchor=\"middle\" y=\"272.0\">\n",
       "    <tspan class=\"displacy-word\" fill=\"currentColor\" x=\"5360\">seven-</tspan>\n",
       "    <tspan class=\"displacy-tag\" dy=\"2em\" fill=\"currentColor\" x=\"5360\">NUM</tspan>\n",
       "</text>\n",
       "\n",
       "<text class=\"displacy-token\" fill=\"currentColor\" text-anchor=\"middle\" y=\"272.0\">\n",
       "    <tspan class=\"displacy-word\" fill=\"currentColor\" x=\"5450\">fold,</tspan>\n",
       "    <tspan class=\"displacy-tag\" dy=\"2em\" fill=\"currentColor\" x=\"5450\">ADJ</tspan>\n",
       "</text>\n",
       "\n",
       "<text class=\"displacy-token\" fill=\"currentColor\" text-anchor=\"middle\" y=\"272.0\">\n",
       "    <tspan class=\"displacy-word\" fill=\"currentColor\" x=\"5540\">up</tspan>\n",
       "    <tspan class=\"displacy-tag\" dy=\"2em\" fill=\"currentColor\" x=\"5540\">ADP</tspan>\n",
       "</text>\n",
       "\n",
       "<text class=\"displacy-token\" fill=\"currentColor\" text-anchor=\"middle\" y=\"272.0\">\n",
       "    <tspan class=\"displacy-word\" fill=\"currentColor\" x=\"5630\">a</tspan>\n",
       "    <tspan class=\"displacy-tag\" dy=\"2em\" fill=\"currentColor\" x=\"5630\">DET</tspan>\n",
       "</text>\n",
       "\n",
       "<text class=\"displacy-token\" fill=\"currentColor\" text-anchor=\"middle\" y=\"272.0\">\n",
       "    <tspan class=\"displacy-word\" fill=\"currentColor\" x=\"5720\">staggering</tspan>\n",
       "    <tspan class=\"displacy-tag\" dy=\"2em\" fill=\"currentColor\" x=\"5720\">ADJ</tspan>\n",
       "</text>\n",
       "\n",
       "<text class=\"displacy-token\" fill=\"currentColor\" text-anchor=\"middle\" y=\"272.0\">\n",
       "    <tspan class=\"displacy-word\" fill=\"currentColor\" x=\"5810\">$</tspan>\n",
       "    <tspan class=\"displacy-tag\" dy=\"2em\" fill=\"currentColor\" x=\"5810\">SYM</tspan>\n",
       "</text>\n",
       "\n",
       "<text class=\"displacy-token\" fill=\"currentColor\" text-anchor=\"middle\" y=\"272.0\">\n",
       "    <tspan class=\"displacy-word\" fill=\"currentColor\" x=\"5900\">163.1</tspan>\n",
       "    <tspan class=\"displacy-tag\" dy=\"2em\" fill=\"currentColor\" x=\"5900\">NUM</tspan>\n",
       "</text>\n",
       "\n",
       "<text class=\"displacy-token\" fill=\"currentColor\" text-anchor=\"middle\" y=\"272.0\">\n",
       "    <tspan class=\"displacy-word\" fill=\"currentColor\" x=\"5990\">billion.</tspan>\n",
       "    <tspan class=\"displacy-tag\" dy=\"2em\" fill=\"currentColor\" x=\"5990\">PUNCT</tspan>\n",
       "</text>\n",
       "\n",
       "<text class=\"displacy-token\" fill=\"currentColor\" text-anchor=\"middle\" y=\"272.0\">\n",
       "    <tspan class=\"displacy-word\" fill=\"currentColor\" x=\"6080\">\n",
       "</tspan>\n",
       "    <tspan class=\"displacy-tag\" dy=\"2em\" fill=\"currentColor\" x=\"6080\">SPACE</tspan>\n",
       "</text>\n",
       "\n",
       "<g class=\"displacy-arrow\">\n",
       "    <path class=\"displacy-arc\" id=\"arrow-93f8a897a90c493f90615c19e7bf3f24-0-0\" stroke-width=\"2px\" d=\"M70,227.0 C70,137.0 215.0,137.0 215.0,227.0\" fill=\"none\" stroke=\"currentColor\"/>\n",
       "    <text dy=\"1.25em\" style=\"font-size: 0.8em; letter-spacing: 1px\">\n",
       "        <textPath xlink:href=\"#arrow-93f8a897a90c493f90615c19e7bf3f24-0-0\" class=\"displacy-label\" startOffset=\"50%\" side=\"left\" fill=\"currentColor\" text-anchor=\"middle\">dep</textPath>\n",
       "    </text>\n",
       "    <path class=\"displacy-arrowhead\" d=\"M70,229.0 L62,217.0 78,217.0\" fill=\"currentColor\"/>\n",
       "</g>\n",
       "\n",
       "<g class=\"displacy-arrow\">\n",
       "    <path class=\"displacy-arc\" id=\"arrow-93f8a897a90c493f90615c19e7bf3f24-0-1\" stroke-width=\"2px\" d=\"M160,227.0 C160,182.0 210.0,182.0 210.0,227.0\" fill=\"none\" stroke=\"currentColor\"/>\n",
       "    <text dy=\"1.25em\" style=\"font-size: 0.8em; letter-spacing: 1px\">\n",
       "        <textPath xlink:href=\"#arrow-93f8a897a90c493f90615c19e7bf3f24-0-1\" class=\"displacy-label\" startOffset=\"50%\" side=\"left\" fill=\"currentColor\" text-anchor=\"middle\">compound</textPath>\n",
       "    </text>\n",
       "    <path class=\"displacy-arrowhead\" d=\"M160,229.0 L152,217.0 168,217.0\" fill=\"currentColor\"/>\n",
       "</g>\n",
       "\n",
       "<g class=\"displacy-arrow\">\n",
       "    <path class=\"displacy-arc\" id=\"arrow-93f8a897a90c493f90615c19e7bf3f24-0-2\" stroke-width=\"2px\" d=\"M250,227.0 C250,47.0 945.0,47.0 945.0,227.0\" fill=\"none\" stroke=\"currentColor\"/>\n",
       "    <text dy=\"1.25em\" style=\"font-size: 0.8em; letter-spacing: 1px\">\n",
       "        <textPath xlink:href=\"#arrow-93f8a897a90c493f90615c19e7bf3f24-0-2\" class=\"displacy-label\" startOffset=\"50%\" side=\"left\" fill=\"currentColor\" text-anchor=\"middle\">nsubj</textPath>\n",
       "    </text>\n",
       "    <path class=\"displacy-arrowhead\" d=\"M250,229.0 L242,217.0 258,217.0\" fill=\"currentColor\"/>\n",
       "</g>\n",
       "\n",
       "<g class=\"displacy-arrow\">\n",
       "    <path class=\"displacy-arc\" id=\"arrow-93f8a897a90c493f90615c19e7bf3f24-0-3\" stroke-width=\"2px\" d=\"M340,227.0 C340,137.0 485.0,137.0 485.0,227.0\" fill=\"none\" stroke=\"currentColor\"/>\n",
       "    <text dy=\"1.25em\" style=\"font-size: 0.8em; letter-spacing: 1px\">\n",
       "        <textPath xlink:href=\"#arrow-93f8a897a90c493f90615c19e7bf3f24-0-3\" class=\"displacy-label\" startOffset=\"50%\" side=\"left\" fill=\"currentColor\" text-anchor=\"middle\">det</textPath>\n",
       "    </text>\n",
       "    <path class=\"displacy-arrowhead\" d=\"M340,229.0 L332,217.0 348,217.0\" fill=\"currentColor\"/>\n",
       "</g>\n",
       "\n",
       "<g class=\"displacy-arrow\">\n",
       "    <path class=\"displacy-arc\" id=\"arrow-93f8a897a90c493f90615c19e7bf3f24-0-4\" stroke-width=\"2px\" d=\"M430,227.0 C430,182.0 480.0,182.0 480.0,227.0\" fill=\"none\" stroke=\"currentColor\"/>\n",
       "    <text dy=\"1.25em\" style=\"font-size: 0.8em; letter-spacing: 1px\">\n",
       "        <textPath xlink:href=\"#arrow-93f8a897a90c493f90615c19e7bf3f24-0-4\" class=\"displacy-label\" startOffset=\"50%\" side=\"left\" fill=\"currentColor\" text-anchor=\"middle\">compound</textPath>\n",
       "    </text>\n",
       "    <path class=\"displacy-arrowhead\" d=\"M430,229.0 L422,217.0 438,217.0\" fill=\"currentColor\"/>\n",
       "</g>\n",
       "\n",
       "<g class=\"displacy-arrow\">\n",
       "    <path class=\"displacy-arc\" id=\"arrow-93f8a897a90c493f90615c19e7bf3f24-0-5\" stroke-width=\"2px\" d=\"M250,227.0 C250,92.0 490.0,92.0 490.0,227.0\" fill=\"none\" stroke=\"currentColor\"/>\n",
       "    <text dy=\"1.25em\" style=\"font-size: 0.8em; letter-spacing: 1px\">\n",
       "        <textPath xlink:href=\"#arrow-93f8a897a90c493f90615c19e7bf3f24-0-5\" class=\"displacy-label\" startOffset=\"50%\" side=\"left\" fill=\"currentColor\" text-anchor=\"middle\">appos</textPath>\n",
       "    </text>\n",
       "    <path class=\"displacy-arrowhead\" d=\"M490.0,229.0 L498.0,217.0 482.0,217.0\" fill=\"currentColor\"/>\n",
       "</g>\n",
       "\n",
       "<g class=\"displacy-arrow\">\n",
       "    <path class=\"displacy-arc\" id=\"arrow-93f8a897a90c493f90615c19e7bf3f24-0-6\" stroke-width=\"2px\" d=\"M520,227.0 C520,182.0 570.0,182.0 570.0,227.0\" fill=\"none\" stroke=\"currentColor\"/>\n",
       "    <text dy=\"1.25em\" style=\"font-size: 0.8em; letter-spacing: 1px\">\n",
       "        <textPath xlink:href=\"#arrow-93f8a897a90c493f90615c19e7bf3f24-0-6\" class=\"displacy-label\" startOffset=\"50%\" side=\"left\" fill=\"currentColor\" text-anchor=\"middle\">prep</textPath>\n",
       "    </text>\n",
       "    <path class=\"displacy-arrowhead\" d=\"M570.0,229.0 L578.0,217.0 562.0,217.0\" fill=\"currentColor\"/>\n",
       "</g>\n",
       "\n",
       "<g class=\"displacy-arrow\">\n",
       "    <path class=\"displacy-arc\" id=\"arrow-93f8a897a90c493f90615c19e7bf3f24-0-7\" stroke-width=\"2px\" d=\"M610,227.0 C610,182.0 660.0,182.0 660.0,227.0\" fill=\"none\" stroke=\"currentColor\"/>\n",
       "    <text dy=\"1.25em\" style=\"font-size: 0.8em; letter-spacing: 1px\">\n",
       "        <textPath xlink:href=\"#arrow-93f8a897a90c493f90615c19e7bf3f24-0-7\" class=\"displacy-label\" startOffset=\"50%\" side=\"left\" fill=\"currentColor\" text-anchor=\"middle\">pobj</textPath>\n",
       "    </text>\n",
       "    <path class=\"displacy-arrowhead\" d=\"M660.0,229.0 L668.0,217.0 652.0,217.0\" fill=\"currentColor\"/>\n",
       "</g>\n",
       "\n",
       "<g class=\"displacy-arrow\">\n",
       "    <path class=\"displacy-arc\" id=\"arrow-93f8a897a90c493f90615c19e7bf3f24-0-8\" stroke-width=\"2px\" d=\"M700,227.0 C700,182.0 750.0,182.0 750.0,227.0\" fill=\"none\" stroke=\"currentColor\"/>\n",
       "    <text dy=\"1.25em\" style=\"font-size: 0.8em; letter-spacing: 1px\">\n",
       "        <textPath xlink:href=\"#arrow-93f8a897a90c493f90615c19e7bf3f24-0-8\" class=\"displacy-label\" startOffset=\"50%\" side=\"left\" fill=\"currentColor\" text-anchor=\"middle\">cc</textPath>\n",
       "    </text>\n",
       "    <path class=\"displacy-arrowhead\" d=\"M750.0,229.0 L758.0,217.0 742.0,217.0\" fill=\"currentColor\"/>\n",
       "</g>\n",
       "\n",
       "<g class=\"displacy-arrow\">\n",
       "    <path class=\"displacy-arc\" id=\"arrow-93f8a897a90c493f90615c19e7bf3f24-0-9\" stroke-width=\"2px\" d=\"M700,227.0 C700,137.0 845.0,137.0 845.0,227.0\" fill=\"none\" stroke=\"currentColor\"/>\n",
       "    <text dy=\"1.25em\" style=\"font-size: 0.8em; letter-spacing: 1px\">\n",
       "        <textPath xlink:href=\"#arrow-93f8a897a90c493f90615c19e7bf3f24-0-9\" class=\"displacy-label\" startOffset=\"50%\" side=\"left\" fill=\"currentColor\" text-anchor=\"middle\">conj</textPath>\n",
       "    </text>\n",
       "    <path class=\"displacy-arrowhead\" d=\"M845.0,229.0 L853.0,217.0 837.0,217.0\" fill=\"currentColor\"/>\n",
       "</g>\n",
       "\n",
       "<g class=\"displacy-arrow\">\n",
       "    <path class=\"displacy-arc\" id=\"arrow-93f8a897a90c493f90615c19e7bf3f24-0-10\" stroke-width=\"2px\" d=\"M970,227.0 C970,182.0 1020.0,182.0 1020.0,227.0\" fill=\"none\" stroke=\"currentColor\"/>\n",
       "    <text dy=\"1.25em\" style=\"font-size: 0.8em; letter-spacing: 1px\">\n",
       "        <textPath xlink:href=\"#arrow-93f8a897a90c493f90615c19e7bf3f24-0-10\" class=\"displacy-label\" startOffset=\"50%\" side=\"left\" fill=\"currentColor\" text-anchor=\"middle\">advmod</textPath>\n",
       "    </text>\n",
       "    <path class=\"displacy-arrowhead\" d=\"M1020.0,229.0 L1028.0,217.0 1012.0,217.0\" fill=\"currentColor\"/>\n",
       "</g>\n",
       "\n",
       "<g class=\"displacy-arrow\">\n",
       "    <path class=\"displacy-arc\" id=\"arrow-93f8a897a90c493f90615c19e7bf3f24-0-11\" stroke-width=\"2px\" d=\"M1150,227.0 C1150,137.0 1295.0,137.0 1295.0,227.0\" fill=\"none\" stroke=\"currentColor\"/>\n",
       "    <text dy=\"1.25em\" style=\"font-size: 0.8em; letter-spacing: 1px\">\n",
       "        <textPath xlink:href=\"#arrow-93f8a897a90c493f90615c19e7bf3f24-0-11\" class=\"displacy-label\" startOffset=\"50%\" side=\"left\" fill=\"currentColor\" text-anchor=\"middle\">det</textPath>\n",
       "    </text>\n",
       "    <path class=\"displacy-arrowhead\" d=\"M1150,229.0 L1142,217.0 1158,217.0\" fill=\"currentColor\"/>\n",
       "</g>\n",
       "\n",
       "<g class=\"displacy-arrow\">\n",
       "    <path class=\"displacy-arc\" id=\"arrow-93f8a897a90c493f90615c19e7bf3f24-0-12\" stroke-width=\"2px\" d=\"M1240,227.0 C1240,182.0 1290.0,182.0 1290.0,227.0\" fill=\"none\" stroke=\"currentColor\"/>\n",
       "    <text dy=\"1.25em\" style=\"font-size: 0.8em; letter-spacing: 1px\">\n",
       "        <textPath xlink:href=\"#arrow-93f8a897a90c493f90615c19e7bf3f24-0-12\" class=\"displacy-label\" startOffset=\"50%\" side=\"left\" fill=\"currentColor\" text-anchor=\"middle\">amod</textPath>\n",
       "    </text>\n",
       "    <path class=\"displacy-arrowhead\" d=\"M1240,229.0 L1232,217.0 1248,217.0\" fill=\"currentColor\"/>\n",
       "</g>\n",
       "\n",
       "<g class=\"displacy-arrow\">\n",
       "    <path class=\"displacy-arc\" id=\"arrow-93f8a897a90c493f90615c19e7bf3f24-0-13\" stroke-width=\"2px\" d=\"M970,227.0 C970,92.0 1300.0,92.0 1300.0,227.0\" fill=\"none\" stroke=\"currentColor\"/>\n",
       "    <text dy=\"1.25em\" style=\"font-size: 0.8em; letter-spacing: 1px\">\n",
       "        <textPath xlink:href=\"#arrow-93f8a897a90c493f90615c19e7bf3f24-0-13\" class=\"displacy-label\" startOffset=\"50%\" side=\"left\" fill=\"currentColor\" text-anchor=\"middle\">attr</textPath>\n",
       "    </text>\n",
       "    <path class=\"displacy-arrowhead\" d=\"M1300.0,229.0 L1308.0,217.0 1292.0,217.0\" fill=\"currentColor\"/>\n",
       "</g>\n",
       "\n",
       "<g class=\"displacy-arrow\">\n",
       "    <path class=\"displacy-arc\" id=\"arrow-93f8a897a90c493f90615c19e7bf3f24-0-14\" stroke-width=\"2px\" d=\"M1330,227.0 C1330,182.0 1380.0,182.0 1380.0,227.0\" fill=\"none\" stroke=\"currentColor\"/>\n",
       "    <text dy=\"1.25em\" style=\"font-size: 0.8em; letter-spacing: 1px\">\n",
       "        <textPath xlink:href=\"#arrow-93f8a897a90c493f90615c19e7bf3f24-0-14\" class=\"displacy-label\" startOffset=\"50%\" side=\"left\" fill=\"currentColor\" text-anchor=\"middle\">prep</textPath>\n",
       "    </text>\n",
       "    <path class=\"displacy-arrowhead\" d=\"M1380.0,229.0 L1388.0,217.0 1372.0,217.0\" fill=\"currentColor\"/>\n",
       "</g>\n",
       "\n",
       "<g class=\"displacy-arrow\">\n",
       "    <path class=\"displacy-arc\" id=\"arrow-93f8a897a90c493f90615c19e7bf3f24-0-15\" stroke-width=\"2px\" d=\"M1510,227.0 C1510,182.0 1560.0,182.0 1560.0,227.0\" fill=\"none\" stroke=\"currentColor\"/>\n",
       "    <text dy=\"1.25em\" style=\"font-size: 0.8em; letter-spacing: 1px\">\n",
       "        <textPath xlink:href=\"#arrow-93f8a897a90c493f90615c19e7bf3f24-0-15\" class=\"displacy-label\" startOffset=\"50%\" side=\"left\" fill=\"currentColor\" text-anchor=\"middle\">det</textPath>\n",
       "    </text>\n",
       "    <path class=\"displacy-arrowhead\" d=\"M1510,229.0 L1502,217.0 1518,217.0\" fill=\"currentColor\"/>\n",
       "</g>\n",
       "\n",
       "<g class=\"displacy-arrow\">\n",
       "    <path class=\"displacy-arc\" id=\"arrow-93f8a897a90c493f90615c19e7bf3f24-0-16\" stroke-width=\"2px\" d=\"M1420,227.0 C1420,137.0 1565.0,137.0 1565.0,227.0\" fill=\"none\" stroke=\"currentColor\"/>\n",
       "    <text dy=\"1.25em\" style=\"font-size: 0.8em; letter-spacing: 1px\">\n",
       "        <textPath xlink:href=\"#arrow-93f8a897a90c493f90615c19e7bf3f24-0-16\" class=\"displacy-label\" startOffset=\"50%\" side=\"left\" fill=\"currentColor\" text-anchor=\"middle\">pobj</textPath>\n",
       "    </text>\n",
       "    <path class=\"displacy-arrowhead\" d=\"M1565.0,229.0 L1573.0,217.0 1557.0,217.0\" fill=\"currentColor\"/>\n",
       "</g>\n",
       "\n",
       "<g class=\"displacy-arrow\">\n",
       "    <path class=\"displacy-arc\" id=\"arrow-93f8a897a90c493f90615c19e7bf3f24-0-17\" stroke-width=\"2px\" d=\"M970,227.0 C970,47.0 1665.0,47.0 1665.0,227.0\" fill=\"none\" stroke=\"currentColor\"/>\n",
       "    <text dy=\"1.25em\" style=\"font-size: 0.8em; letter-spacing: 1px\">\n",
       "        <textPath xlink:href=\"#arrow-93f8a897a90c493f90615c19e7bf3f24-0-17\" class=\"displacy-label\" startOffset=\"50%\" side=\"left\" fill=\"currentColor\" text-anchor=\"middle\">advcl</textPath>\n",
       "    </text>\n",
       "    <path class=\"displacy-arrowhead\" d=\"M1665.0,229.0 L1673.0,217.0 1657.0,217.0\" fill=\"currentColor\"/>\n",
       "</g>\n",
       "\n",
       "<g class=\"displacy-arrow\">\n",
       "    <path class=\"displacy-arc\" id=\"arrow-93f8a897a90c493f90615c19e7bf3f24-0-18\" stroke-width=\"2px\" d=\"M1780,227.0 C1780,182.0 1830.0,182.0 1830.0,227.0\" fill=\"none\" stroke=\"currentColor\"/>\n",
       "    <text dy=\"1.25em\" style=\"font-size: 0.8em; letter-spacing: 1px\">\n",
       "        <textPath xlink:href=\"#arrow-93f8a897a90c493f90615c19e7bf3f24-0-18\" class=\"displacy-label\" startOffset=\"50%\" side=\"left\" fill=\"currentColor\" text-anchor=\"middle\">amod</textPath>\n",
       "    </text>\n",
       "    <path class=\"displacy-arrowhead\" d=\"M1780,229.0 L1772,217.0 1788,217.0\" fill=\"currentColor\"/>\n",
       "</g>\n",
       "\n",
       "<g class=\"displacy-arrow\">\n",
       "    <path class=\"displacy-arc\" id=\"arrow-93f8a897a90c493f90615c19e7bf3f24-0-19\" stroke-width=\"2px\" d=\"M1690,227.0 C1690,137.0 1835.0,137.0 1835.0,227.0\" fill=\"none\" stroke=\"currentColor\"/>\n",
       "    <text dy=\"1.25em\" style=\"font-size: 0.8em; letter-spacing: 1px\">\n",
       "        <textPath xlink:href=\"#arrow-93f8a897a90c493f90615c19e7bf3f24-0-19\" class=\"displacy-label\" startOffset=\"50%\" side=\"left\" fill=\"currentColor\" text-anchor=\"middle\">dobj</textPath>\n",
       "    </text>\n",
       "    <path class=\"displacy-arrowhead\" d=\"M1835.0,229.0 L1843.0,217.0 1827.0,217.0\" fill=\"currentColor\"/>\n",
       "</g>\n",
       "\n",
       "<g class=\"displacy-arrow\">\n",
       "    <path class=\"displacy-arc\" id=\"arrow-93f8a897a90c493f90615c19e7bf3f24-0-20\" stroke-width=\"2px\" d=\"M1870,227.0 C1870,182.0 1920.0,182.0 1920.0,227.0\" fill=\"none\" stroke=\"currentColor\"/>\n",
       "    <text dy=\"1.25em\" style=\"font-size: 0.8em; letter-spacing: 1px\">\n",
       "        <textPath xlink:href=\"#arrow-93f8a897a90c493f90615c19e7bf3f24-0-20\" class=\"displacy-label\" startOffset=\"50%\" side=\"left\" fill=\"currentColor\" text-anchor=\"middle\">cc</textPath>\n",
       "    </text>\n",
       "    <path class=\"displacy-arrowhead\" d=\"M1920.0,229.0 L1928.0,217.0 1912.0,217.0\" fill=\"currentColor\"/>\n",
       "</g>\n",
       "\n",
       "<g class=\"displacy-arrow\">\n",
       "    <path class=\"displacy-arc\" id=\"arrow-93f8a897a90c493f90615c19e7bf3f24-0-21\" stroke-width=\"2px\" d=\"M2050,227.0 C2050,182.0 2100.0,182.0 2100.0,227.0\" fill=\"none\" stroke=\"currentColor\"/>\n",
       "    <text dy=\"1.25em\" style=\"font-size: 0.8em; letter-spacing: 1px\">\n",
       "        <textPath xlink:href=\"#arrow-93f8a897a90c493f90615c19e7bf3f24-0-21\" class=\"displacy-label\" startOffset=\"50%\" side=\"left\" fill=\"currentColor\" text-anchor=\"middle\">compound</textPath>\n",
       "    </text>\n",
       "    <path class=\"displacy-arrowhead\" d=\"M2050,229.0 L2042,217.0 2058,217.0\" fill=\"currentColor\"/>\n",
       "</g>\n",
       "\n",
       "<g class=\"displacy-arrow\">\n",
       "    <path class=\"displacy-arc\" id=\"arrow-93f8a897a90c493f90615c19e7bf3f24-0-22\" stroke-width=\"2px\" d=\"M2140,227.0 C2140,137.0 2285.0,137.0 2285.0,227.0\" fill=\"none\" stroke=\"currentColor\"/>\n",
       "    <text dy=\"1.25em\" style=\"font-size: 0.8em; letter-spacing: 1px\">\n",
       "        <textPath xlink:href=\"#arrow-93f8a897a90c493f90615c19e7bf3f24-0-22\" class=\"displacy-label\" startOffset=\"50%\" side=\"left\" fill=\"currentColor\" text-anchor=\"middle\">compound</textPath>\n",
       "    </text>\n",
       "    <path class=\"displacy-arrowhead\" d=\"M2140,229.0 L2132,217.0 2148,217.0\" fill=\"currentColor\"/>\n",
       "</g>\n",
       "\n",
       "<g class=\"displacy-arrow\">\n",
       "    <path class=\"displacy-arc\" id=\"arrow-93f8a897a90c493f90615c19e7bf3f24-0-23\" stroke-width=\"2px\" d=\"M2230,227.0 C2230,182.0 2280.0,182.0 2280.0,227.0\" fill=\"none\" stroke=\"currentColor\"/>\n",
       "    <text dy=\"1.25em\" style=\"font-size: 0.8em; letter-spacing: 1px\">\n",
       "        <textPath xlink:href=\"#arrow-93f8a897a90c493f90615c19e7bf3f24-0-23\" class=\"displacy-label\" startOffset=\"50%\" side=\"left\" fill=\"currentColor\" text-anchor=\"middle\">compound</textPath>\n",
       "    </text>\n",
       "    <path class=\"displacy-arrowhead\" d=\"M2230,229.0 L2222,217.0 2238,217.0\" fill=\"currentColor\"/>\n",
       "</g>\n",
       "\n",
       "<g class=\"displacy-arrow\">\n",
       "    <path class=\"displacy-arc\" id=\"arrow-93f8a897a90c493f90615c19e7bf3f24-0-24\" stroke-width=\"2px\" d=\"M1870,227.0 C1870,92.0 2290.0,92.0 2290.0,227.0\" fill=\"none\" stroke=\"currentColor\"/>\n",
       "    <text dy=\"1.25em\" style=\"font-size: 0.8em; letter-spacing: 1px\">\n",
       "        <textPath xlink:href=\"#arrow-93f8a897a90c493f90615c19e7bf3f24-0-24\" class=\"displacy-label\" startOffset=\"50%\" side=\"left\" fill=\"currentColor\" text-anchor=\"middle\">conj</textPath>\n",
       "    </text>\n",
       "    <path class=\"displacy-arrowhead\" d=\"M2290.0,229.0 L2298.0,217.0 2282.0,217.0\" fill=\"currentColor\"/>\n",
       "</g>\n",
       "\n",
       "<g class=\"displacy-arrow\">\n",
       "    <path class=\"displacy-arc\" id=\"arrow-93f8a897a90c493f90615c19e7bf3f24-0-25\" stroke-width=\"2px\" d=\"M1690,227.0 C1690,47.0 2385.0,47.0 2385.0,227.0\" fill=\"none\" stroke=\"currentColor\"/>\n",
       "    <text dy=\"1.25em\" style=\"font-size: 0.8em; letter-spacing: 1px\">\n",
       "        <textPath xlink:href=\"#arrow-93f8a897a90c493f90615c19e7bf3f24-0-25\" class=\"displacy-label\" startOffset=\"50%\" side=\"left\" fill=\"currentColor\" text-anchor=\"middle\">prep</textPath>\n",
       "    </text>\n",
       "    <path class=\"displacy-arrowhead\" d=\"M2385.0,229.0 L2393.0,217.0 2377.0,217.0\" fill=\"currentColor\"/>\n",
       "</g>\n",
       "\n",
       "<g class=\"displacy-arrow\">\n",
       "    <path class=\"displacy-arc\" id=\"arrow-93f8a897a90c493f90615c19e7bf3f24-0-26\" stroke-width=\"2px\" d=\"M2500,227.0 C2500,137.0 2645.0,137.0 2645.0,227.0\" fill=\"none\" stroke=\"currentColor\"/>\n",
       "    <text dy=\"1.25em\" style=\"font-size: 0.8em; letter-spacing: 1px\">\n",
       "        <textPath xlink:href=\"#arrow-93f8a897a90c493f90615c19e7bf3f24-0-26\" class=\"displacy-label\" startOffset=\"50%\" side=\"left\" fill=\"currentColor\" text-anchor=\"middle\">det</textPath>\n",
       "    </text>\n",
       "    <path class=\"displacy-arrowhead\" d=\"M2500,229.0 L2492,217.0 2508,217.0\" fill=\"currentColor\"/>\n",
       "</g>\n",
       "\n",
       "<g class=\"displacy-arrow\">\n",
       "    <path class=\"displacy-arc\" id=\"arrow-93f8a897a90c493f90615c19e7bf3f24-0-27\" stroke-width=\"2px\" d=\"M2590,227.0 C2590,182.0 2640.0,182.0 2640.0,227.0\" fill=\"none\" stroke=\"currentColor\"/>\n",
       "    <text dy=\"1.25em\" style=\"font-size: 0.8em; letter-spacing: 1px\">\n",
       "        <textPath xlink:href=\"#arrow-93f8a897a90c493f90615c19e7bf3f24-0-27\" class=\"displacy-label\" startOffset=\"50%\" side=\"left\" fill=\"currentColor\" text-anchor=\"middle\">amod</textPath>\n",
       "    </text>\n",
       "    <path class=\"displacy-arrowhead\" d=\"M2590,229.0 L2582,217.0 2598,217.0\" fill=\"currentColor\"/>\n",
       "</g>\n",
       "\n",
       "<g class=\"displacy-arrow\">\n",
       "    <path class=\"displacy-arc\" id=\"arrow-93f8a897a90c493f90615c19e7bf3f24-0-28\" stroke-width=\"2px\" d=\"M2410,227.0 C2410,92.0 2650.0,92.0 2650.0,227.0\" fill=\"none\" stroke=\"currentColor\"/>\n",
       "    <text dy=\"1.25em\" style=\"font-size: 0.8em; letter-spacing: 1px\">\n",
       "        <textPath xlink:href=\"#arrow-93f8a897a90c493f90615c19e7bf3f24-0-28\" class=\"displacy-label\" startOffset=\"50%\" side=\"left\" fill=\"currentColor\" text-anchor=\"middle\">pobj</textPath>\n",
       "    </text>\n",
       "    <path class=\"displacy-arrowhead\" d=\"M2650.0,229.0 L2658.0,217.0 2642.0,217.0\" fill=\"currentColor\"/>\n",
       "</g>\n",
       "\n",
       "<g class=\"displacy-arrow\">\n",
       "    <path class=\"displacy-arc\" id=\"arrow-93f8a897a90c493f90615c19e7bf3f24-0-29\" stroke-width=\"2px\" d=\"M2680,227.0 C2680,182.0 2730.0,182.0 2730.0,227.0\" fill=\"none\" stroke=\"currentColor\"/>\n",
       "    <text dy=\"1.25em\" style=\"font-size: 0.8em; letter-spacing: 1px\">\n",
       "        <textPath xlink:href=\"#arrow-93f8a897a90c493f90615c19e7bf3f24-0-29\" class=\"displacy-label\" startOffset=\"50%\" side=\"left\" fill=\"currentColor\" text-anchor=\"middle\">prep</textPath>\n",
       "    </text>\n",
       "    <path class=\"displacy-arrowhead\" d=\"M2730.0,229.0 L2738.0,217.0 2722.0,217.0\" fill=\"currentColor\"/>\n",
       "</g>\n",
       "\n",
       "<g class=\"displacy-arrow\">\n",
       "    <path class=\"displacy-arc\" id=\"arrow-93f8a897a90c493f90615c19e7bf3f24-0-30\" stroke-width=\"2px\" d=\"M2860,227.0 C2860,137.0 3005.0,137.0 3005.0,227.0\" fill=\"none\" stroke=\"currentColor\"/>\n",
       "    <text dy=\"1.25em\" style=\"font-size: 0.8em; letter-spacing: 1px\">\n",
       "        <textPath xlink:href=\"#arrow-93f8a897a90c493f90615c19e7bf3f24-0-30\" class=\"displacy-label\" startOffset=\"50%\" side=\"left\" fill=\"currentColor\" text-anchor=\"middle\">quantmod</textPath>\n",
       "    </text>\n",
       "    <path class=\"displacy-arrowhead\" d=\"M2860,229.0 L2852,217.0 2868,217.0\" fill=\"currentColor\"/>\n",
       "</g>\n",
       "\n",
       "<g class=\"displacy-arrow\">\n",
       "    <path class=\"displacy-arc\" id=\"arrow-93f8a897a90c493f90615c19e7bf3f24-0-31\" stroke-width=\"2px\" d=\"M2950,227.0 C2950,182.0 3000.0,182.0 3000.0,227.0\" fill=\"none\" stroke=\"currentColor\"/>\n",
       "    <text dy=\"1.25em\" style=\"font-size: 0.8em; letter-spacing: 1px\">\n",
       "        <textPath xlink:href=\"#arrow-93f8a897a90c493f90615c19e7bf3f24-0-31\" class=\"displacy-label\" startOffset=\"50%\" side=\"left\" fill=\"currentColor\" text-anchor=\"middle\">compound</textPath>\n",
       "    </text>\n",
       "    <path class=\"displacy-arrowhead\" d=\"M2950,229.0 L2942,217.0 2958,217.0\" fill=\"currentColor\"/>\n",
       "</g>\n",
       "\n",
       "<g class=\"displacy-arrow\">\n",
       "    <path class=\"displacy-arc\" id=\"arrow-93f8a897a90c493f90615c19e7bf3f24-0-32\" stroke-width=\"2px\" d=\"M2770,227.0 C2770,92.0 3010.0,92.0 3010.0,227.0\" fill=\"none\" stroke=\"currentColor\"/>\n",
       "    <text dy=\"1.25em\" style=\"font-size: 0.8em; letter-spacing: 1px\">\n",
       "        <textPath xlink:href=\"#arrow-93f8a897a90c493f90615c19e7bf3f24-0-32\" class=\"displacy-label\" startOffset=\"50%\" side=\"left\" fill=\"currentColor\" text-anchor=\"middle\">pobj</textPath>\n",
       "    </text>\n",
       "    <path class=\"displacy-arrowhead\" d=\"M3010.0,229.0 L3018.0,217.0 3002.0,217.0\" fill=\"currentColor\"/>\n",
       "</g>\n",
       "\n",
       "<g class=\"displacy-arrow\">\n",
       "    <path class=\"displacy-arc\" id=\"arrow-93f8a897a90c493f90615c19e7bf3f24-0-33\" stroke-width=\"2px\" d=\"M970,227.0 C970,2.0 3110.0,2.0 3110.0,227.0\" fill=\"none\" stroke=\"currentColor\"/>\n",
       "    <text dy=\"1.25em\" style=\"font-size: 0.8em; letter-spacing: 1px\">\n",
       "        <textPath xlink:href=\"#arrow-93f8a897a90c493f90615c19e7bf3f24-0-33\" class=\"displacy-label\" startOffset=\"50%\" side=\"left\" fill=\"currentColor\" text-anchor=\"middle\">prep</textPath>\n",
       "    </text>\n",
       "    <path class=\"displacy-arrowhead\" d=\"M3110.0,229.0 L3118.0,217.0 3102.0,217.0\" fill=\"currentColor\"/>\n",
       "</g>\n",
       "\n",
       "<g class=\"displacy-arrow\">\n",
       "    <path class=\"displacy-arc\" id=\"arrow-93f8a897a90c493f90615c19e7bf3f24-0-34\" stroke-width=\"2px\" d=\"M3130,227.0 C3130,182.0 3180.0,182.0 3180.0,227.0\" fill=\"none\" stroke=\"currentColor\"/>\n",
       "    <text dy=\"1.25em\" style=\"font-size: 0.8em; letter-spacing: 1px\">\n",
       "        <textPath xlink:href=\"#arrow-93f8a897a90c493f90615c19e7bf3f24-0-34\" class=\"displacy-label\" startOffset=\"50%\" side=\"left\" fill=\"currentColor\" text-anchor=\"middle\">prep</textPath>\n",
       "    </text>\n",
       "    <path class=\"displacy-arrowhead\" d=\"M3180.0,229.0 L3188.0,217.0 3172.0,217.0\" fill=\"currentColor\"/>\n",
       "</g>\n",
       "\n",
       "<g class=\"displacy-arrow\">\n",
       "    <path class=\"displacy-arc\" id=\"arrow-93f8a897a90c493f90615c19e7bf3f24-0-35\" stroke-width=\"2px\" d=\"M3310,227.0 C3310,92.0 3910.0,92.0 3910.0,227.0\" fill=\"none\" stroke=\"currentColor\"/>\n",
       "    <text dy=\"1.25em\" style=\"font-size: 0.8em; letter-spacing: 1px\">\n",
       "        <textPath xlink:href=\"#arrow-93f8a897a90c493f90615c19e7bf3f24-0-35\" class=\"displacy-label\" startOffset=\"50%\" side=\"left\" fill=\"currentColor\" text-anchor=\"middle\">poss</textPath>\n",
       "    </text>\n",
       "    <path class=\"displacy-arrowhead\" d=\"M3310,229.0 L3302,217.0 3318,217.0\" fill=\"currentColor\"/>\n",
       "</g>\n",
       "\n",
       "<g class=\"displacy-arrow\">\n",
       "    <path class=\"displacy-arc\" id=\"arrow-93f8a897a90c493f90615c19e7bf3f24-0-36\" stroke-width=\"2px\" d=\"M3310,227.0 C3310,182.0 3360.0,182.0 3360.0,227.0\" fill=\"none\" stroke=\"currentColor\"/>\n",
       "    <text dy=\"1.25em\" style=\"font-size: 0.8em; letter-spacing: 1px\">\n",
       "        <textPath xlink:href=\"#arrow-93f8a897a90c493f90615c19e7bf3f24-0-36\" class=\"displacy-label\" startOffset=\"50%\" side=\"left\" fill=\"currentColor\" text-anchor=\"middle\">case</textPath>\n",
       "    </text>\n",
       "    <path class=\"displacy-arrowhead\" d=\"M3360.0,229.0 L3368.0,217.0 3352.0,217.0\" fill=\"currentColor\"/>\n",
       "</g>\n",
       "\n",
       "<g class=\"displacy-arrow\">\n",
       "    <path class=\"displacy-arc\" id=\"arrow-93f8a897a90c493f90615c19e7bf3f24-0-37\" stroke-width=\"2px\" d=\"M3490,227.0 C3490,182.0 3540.0,182.0 3540.0,227.0\" fill=\"none\" stroke=\"currentColor\"/>\n",
       "    <text dy=\"1.25em\" style=\"font-size: 0.8em; letter-spacing: 1px\">\n",
       "        <textPath xlink:href=\"#arrow-93f8a897a90c493f90615c19e7bf3f24-0-37\" class=\"displacy-label\" startOffset=\"50%\" side=\"left\" fill=\"currentColor\" text-anchor=\"middle\">amod</textPath>\n",
       "    </text>\n",
       "    <path class=\"displacy-arrowhead\" d=\"M3490,229.0 L3482,217.0 3498,217.0\" fill=\"currentColor\"/>\n",
       "</g>\n",
       "\n",
       "<g class=\"displacy-arrow\">\n",
       "    <path class=\"displacy-arc\" id=\"arrow-93f8a897a90c493f90615c19e7bf3f24-0-38\" stroke-width=\"2px\" d=\"M3580,227.0 C3580,182.0 3630.0,182.0 3630.0,227.0\" fill=\"none\" stroke=\"currentColor\"/>\n",
       "    <text dy=\"1.25em\" style=\"font-size: 0.8em; letter-spacing: 1px\">\n",
       "        <textPath xlink:href=\"#arrow-93f8a897a90c493f90615c19e7bf3f24-0-38\" class=\"displacy-label\" startOffset=\"50%\" side=\"left\" fill=\"currentColor\" text-anchor=\"middle\">compound</textPath>\n",
       "    </text>\n",
       "    <path class=\"displacy-arrowhead\" d=\"M3580,229.0 L3572,217.0 3588,217.0\" fill=\"currentColor\"/>\n",
       "</g>\n",
       "\n",
       "<g class=\"displacy-arrow\">\n",
       "    <path class=\"displacy-arc\" id=\"arrow-93f8a897a90c493f90615c19e7bf3f24-0-39\" stroke-width=\"2px\" d=\"M3670,227.0 C3670,137.0 3905.0,137.0 3905.0,227.0\" fill=\"none\" stroke=\"currentColor\"/>\n",
       "    <text dy=\"1.25em\" style=\"font-size: 0.8em; letter-spacing: 1px\">\n",
       "        <textPath xlink:href=\"#arrow-93f8a897a90c493f90615c19e7bf3f24-0-39\" class=\"displacy-label\" startOffset=\"50%\" side=\"left\" fill=\"currentColor\" text-anchor=\"middle\">compound</textPath>\n",
       "    </text>\n",
       "    <path class=\"displacy-arrowhead\" d=\"M3670,229.0 L3662,217.0 3678,217.0\" fill=\"currentColor\"/>\n",
       "</g>\n",
       "\n",
       "<g class=\"displacy-arrow\">\n",
       "    <path class=\"displacy-arc\" id=\"arrow-93f8a897a90c493f90615c19e7bf3f24-0-40\" stroke-width=\"2px\" d=\"M3760,227.0 C3760,182.0 3810.0,182.0 3810.0,227.0\" fill=\"none\" stroke=\"currentColor\"/>\n",
       "    <text dy=\"1.25em\" style=\"font-size: 0.8em; letter-spacing: 1px\">\n",
       "        <textPath xlink:href=\"#arrow-93f8a897a90c493f90615c19e7bf3f24-0-40\" class=\"displacy-label\" startOffset=\"50%\" side=\"left\" fill=\"currentColor\" text-anchor=\"middle\">compound</textPath>\n",
       "    </text>\n",
       "    <path class=\"displacy-arrowhead\" d=\"M3760,229.0 L3752,217.0 3768,217.0\" fill=\"currentColor\"/>\n",
       "</g>\n",
       "\n",
       "<g class=\"displacy-arrow\">\n",
       "    <path class=\"displacy-arc\" id=\"arrow-93f8a897a90c493f90615c19e7bf3f24-0-41\" stroke-width=\"2px\" d=\"M3850,227.0 C3850,182.0 3900.0,182.0 3900.0,227.0\" fill=\"none\" stroke=\"currentColor\"/>\n",
       "    <text dy=\"1.25em\" style=\"font-size: 0.8em; letter-spacing: 1px\">\n",
       "        <textPath xlink:href=\"#arrow-93f8a897a90c493f90615c19e7bf3f24-0-41\" class=\"displacy-label\" startOffset=\"50%\" side=\"left\" fill=\"currentColor\" text-anchor=\"middle\">compound</textPath>\n",
       "    </text>\n",
       "    <path class=\"displacy-arrowhead\" d=\"M3850,229.0 L3842,217.0 3858,217.0\" fill=\"currentColor\"/>\n",
       "</g>\n",
       "\n",
       "<g class=\"displacy-arrow\">\n",
       "    <path class=\"displacy-arc\" id=\"arrow-93f8a897a90c493f90615c19e7bf3f24-0-42\" stroke-width=\"2px\" d=\"M3220,227.0 C3220,47.0 3915.0,47.0 3915.0,227.0\" fill=\"none\" stroke=\"currentColor\"/>\n",
       "    <text dy=\"1.25em\" style=\"font-size: 0.8em; letter-spacing: 1px\">\n",
       "        <textPath xlink:href=\"#arrow-93f8a897a90c493f90615c19e7bf3f24-0-42\" class=\"displacy-label\" startOffset=\"50%\" side=\"left\" fill=\"currentColor\" text-anchor=\"middle\">pobj</textPath>\n",
       "    </text>\n",
       "    <path class=\"displacy-arrowhead\" d=\"M3915.0,229.0 L3923.0,217.0 3907.0,217.0\" fill=\"currentColor\"/>\n",
       "</g>\n",
       "\n",
       "<g class=\"displacy-arrow\">\n",
       "    <path class=\"displacy-arc\" id=\"arrow-93f8a897a90c493f90615c19e7bf3f24-0-43\" stroke-width=\"2px\" d=\"M3940,227.0 C3940,182.0 3990.0,182.0 3990.0,227.0\" fill=\"none\" stroke=\"currentColor\"/>\n",
       "    <text dy=\"1.25em\" style=\"font-size: 0.8em; letter-spacing: 1px\">\n",
       "        <textPath xlink:href=\"#arrow-93f8a897a90c493f90615c19e7bf3f24-0-43\" class=\"displacy-label\" startOffset=\"50%\" side=\"left\" fill=\"currentColor\" text-anchor=\"middle\">prep</textPath>\n",
       "    </text>\n",
       "    <path class=\"displacy-arrowhead\" d=\"M3990.0,229.0 L3998.0,217.0 3982.0,217.0\" fill=\"currentColor\"/>\n",
       "</g>\n",
       "\n",
       "<g class=\"displacy-arrow\">\n",
       "    <path class=\"displacy-arc\" id=\"arrow-93f8a897a90c493f90615c19e7bf3f24-0-44\" stroke-width=\"2px\" d=\"M4030,227.0 C4030,182.0 4080.0,182.0 4080.0,227.0\" fill=\"none\" stroke=\"currentColor\"/>\n",
       "    <text dy=\"1.25em\" style=\"font-size: 0.8em; letter-spacing: 1px\">\n",
       "        <textPath xlink:href=\"#arrow-93f8a897a90c493f90615c19e7bf3f24-0-44\" class=\"displacy-label\" startOffset=\"50%\" side=\"left\" fill=\"currentColor\" text-anchor=\"middle\">pobj</textPath>\n",
       "    </text>\n",
       "    <path class=\"displacy-arrowhead\" d=\"M4080.0,229.0 L4088.0,217.0 4072.0,217.0\" fill=\"currentColor\"/>\n",
       "</g>\n",
       "\n",
       "<g class=\"displacy-arrow\">\n",
       "    <path class=\"displacy-arc\" id=\"arrow-93f8a897a90c493f90615c19e7bf3f24-0-45\" stroke-width=\"2px\" d=\"M4120,227.0 C4120,182.0 4170.0,182.0 4170.0,227.0\" fill=\"none\" stroke=\"currentColor\"/>\n",
       "    <text dy=\"1.25em\" style=\"font-size: 0.8em; letter-spacing: 1px\">\n",
       "        <textPath xlink:href=\"#arrow-93f8a897a90c493f90615c19e7bf3f24-0-45\" class=\"displacy-label\" startOffset=\"50%\" side=\"left\" fill=\"currentColor\" text-anchor=\"middle\">nummod</textPath>\n",
       "    </text>\n",
       "    <path class=\"displacy-arrowhead\" d=\"M4170.0,229.0 L4178.0,217.0 4162.0,217.0\" fill=\"currentColor\"/>\n",
       "</g>\n",
       "\n",
       "<g class=\"displacy-arrow\">\n",
       "    <path class=\"displacy-arc\" id=\"arrow-93f8a897a90c493f90615c19e7bf3f24-0-46\" stroke-width=\"2px\" d=\"M4120,227.0 C4120,137.0 4265.0,137.0 4265.0,227.0\" fill=\"none\" stroke=\"currentColor\"/>\n",
       "    <text dy=\"1.25em\" style=\"font-size: 0.8em; letter-spacing: 1px\">\n",
       "        <textPath xlink:href=\"#arrow-93f8a897a90c493f90615c19e7bf3f24-0-46\" class=\"displacy-label\" startOffset=\"50%\" side=\"left\" fill=\"currentColor\" text-anchor=\"middle\">nummod</textPath>\n",
       "    </text>\n",
       "    <path class=\"displacy-arrowhead\" d=\"M4265.0,229.0 L4273.0,217.0 4257.0,217.0\" fill=\"currentColor\"/>\n",
       "</g>\n",
       "\n",
       "<g class=\"displacy-arrow\">\n",
       "    <path class=\"displacy-arc\" id=\"arrow-93f8a897a90c493f90615c19e7bf3f24-0-47\" stroke-width=\"2px\" d=\"M3940,227.0 C3940,92.0 4360.0,92.0 4360.0,227.0\" fill=\"none\" stroke=\"currentColor\"/>\n",
       "    <text dy=\"1.25em\" style=\"font-size: 0.8em; letter-spacing: 1px\">\n",
       "        <textPath xlink:href=\"#arrow-93f8a897a90c493f90615c19e7bf3f24-0-47\" class=\"displacy-label\" startOffset=\"50%\" side=\"left\" fill=\"currentColor\" text-anchor=\"middle\">prep</textPath>\n",
       "    </text>\n",
       "    <path class=\"displacy-arrowhead\" d=\"M4360.0,229.0 L4368.0,217.0 4352.0,217.0\" fill=\"currentColor\"/>\n",
       "</g>\n",
       "\n",
       "<g class=\"displacy-arrow\">\n",
       "    <path class=\"displacy-arc\" id=\"arrow-93f8a897a90c493f90615c19e7bf3f24-0-48\" stroke-width=\"2px\" d=\"M4480,227.0 C4480,182.0 4530.0,182.0 4530.0,227.0\" fill=\"none\" stroke=\"currentColor\"/>\n",
       "    <text dy=\"1.25em\" style=\"font-size: 0.8em; letter-spacing: 1px\">\n",
       "        <textPath xlink:href=\"#arrow-93f8a897a90c493f90615c19e7bf3f24-0-48\" class=\"displacy-label\" startOffset=\"50%\" side=\"left\" fill=\"currentColor\" text-anchor=\"middle\">nummod</textPath>\n",
       "    </text>\n",
       "    <path class=\"displacy-arrowhead\" d=\"M4480,229.0 L4472,217.0 4488,217.0\" fill=\"currentColor\"/>\n",
       "</g>\n",
       "\n",
       "<g class=\"displacy-arrow\">\n",
       "    <path class=\"displacy-arc\" id=\"arrow-93f8a897a90c493f90615c19e7bf3f24-0-49\" stroke-width=\"2px\" d=\"M4390,227.0 C4390,137.0 4535.0,137.0 4535.0,227.0\" fill=\"none\" stroke=\"currentColor\"/>\n",
       "    <text dy=\"1.25em\" style=\"font-size: 0.8em; letter-spacing: 1px\">\n",
       "        <textPath xlink:href=\"#arrow-93f8a897a90c493f90615c19e7bf3f24-0-49\" class=\"displacy-label\" startOffset=\"50%\" side=\"left\" fill=\"currentColor\" text-anchor=\"middle\">pobj</textPath>\n",
       "    </text>\n",
       "    <path class=\"displacy-arrowhead\" d=\"M4535.0,229.0 L4543.0,217.0 4527.0,217.0\" fill=\"currentColor\"/>\n",
       "</g>\n",
       "\n",
       "<g class=\"displacy-arrow\">\n",
       "    <path class=\"displacy-arc\" id=\"arrow-93f8a897a90c493f90615c19e7bf3f24-0-50\" stroke-width=\"2px\" d=\"M4660,227.0 C4660,92.0 5170.0,92.0 5170.0,227.0\" fill=\"none\" stroke=\"currentColor\"/>\n",
       "    <text dy=\"1.25em\" style=\"font-size: 0.8em; letter-spacing: 1px\">\n",
       "        <textPath xlink:href=\"#arrow-93f8a897a90c493f90615c19e7bf3f24-0-50\" class=\"displacy-label\" startOffset=\"50%\" side=\"left\" fill=\"currentColor\" text-anchor=\"middle\">prep</textPath>\n",
       "    </text>\n",
       "    <path class=\"displacy-arrowhead\" d=\"M4660,229.0 L4652,217.0 4668,217.0\" fill=\"currentColor\"/>\n",
       "</g>\n",
       "\n",
       "<g class=\"displacy-arrow\">\n",
       "    <path class=\"displacy-arc\" id=\"arrow-93f8a897a90c493f90615c19e7bf3f24-0-51\" stroke-width=\"2px\" d=\"M4660,227.0 C4660,182.0 4710.0,182.0 4710.0,227.0\" fill=\"none\" stroke=\"currentColor\"/>\n",
       "    <text dy=\"1.25em\" style=\"font-size: 0.8em; letter-spacing: 1px\">\n",
       "        <textPath xlink:href=\"#arrow-93f8a897a90c493f90615c19e7bf3f24-0-51\" class=\"displacy-label\" startOffset=\"50%\" side=\"left\" fill=\"currentColor\" text-anchor=\"middle\">pobj</textPath>\n",
       "    </text>\n",
       "    <path class=\"displacy-arrowhead\" d=\"M4710.0,229.0 L4718.0,217.0 4702.0,217.0\" fill=\"currentColor\"/>\n",
       "</g>\n",
       "\n",
       "<g class=\"displacy-arrow\">\n",
       "    <path class=\"displacy-arc\" id=\"arrow-93f8a897a90c493f90615c19e7bf3f24-0-52\" stroke-width=\"2px\" d=\"M4840,227.0 C4840,137.0 4985.0,137.0 4985.0,227.0\" fill=\"none\" stroke=\"currentColor\"/>\n",
       "    <text dy=\"1.25em\" style=\"font-size: 0.8em; letter-spacing: 1px\">\n",
       "        <textPath xlink:href=\"#arrow-93f8a897a90c493f90615c19e7bf3f24-0-52\" class=\"displacy-label\" startOffset=\"50%\" side=\"left\" fill=\"currentColor\" text-anchor=\"middle\">poss</textPath>\n",
       "    </text>\n",
       "    <path class=\"displacy-arrowhead\" d=\"M4840,229.0 L4832,217.0 4848,217.0\" fill=\"currentColor\"/>\n",
       "</g>\n",
       "\n",
       "<g class=\"displacy-arrow\">\n",
       "    <path class=\"displacy-arc\" id=\"arrow-93f8a897a90c493f90615c19e7bf3f24-0-53\" stroke-width=\"2px\" d=\"M4840,227.0 C4840,182.0 4890.0,182.0 4890.0,227.0\" fill=\"none\" stroke=\"currentColor\"/>\n",
       "    <text dy=\"1.25em\" style=\"font-size: 0.8em; letter-spacing: 1px\">\n",
       "        <textPath xlink:href=\"#arrow-93f8a897a90c493f90615c19e7bf3f24-0-53\" class=\"displacy-label\" startOffset=\"50%\" side=\"left\" fill=\"currentColor\" text-anchor=\"middle\">case</textPath>\n",
       "    </text>\n",
       "    <path class=\"displacy-arrowhead\" d=\"M4890.0,229.0 L4898.0,217.0 4882.0,217.0\" fill=\"currentColor\"/>\n",
       "</g>\n",
       "\n",
       "<g class=\"displacy-arrow\">\n",
       "    <path class=\"displacy-arc\" id=\"arrow-93f8a897a90c493f90615c19e7bf3f24-0-54\" stroke-width=\"2px\" d=\"M5020,227.0 C5020,137.0 5165.0,137.0 5165.0,227.0\" fill=\"none\" stroke=\"currentColor\"/>\n",
       "    <text dy=\"1.25em\" style=\"font-size: 0.8em; letter-spacing: 1px\">\n",
       "        <textPath xlink:href=\"#arrow-93f8a897a90c493f90615c19e7bf3f24-0-54\" class=\"displacy-label\" startOffset=\"50%\" side=\"left\" fill=\"currentColor\" text-anchor=\"middle\">nsubj</textPath>\n",
       "    </text>\n",
       "    <path class=\"displacy-arrowhead\" d=\"M5020,229.0 L5012,217.0 5028,217.0\" fill=\"currentColor\"/>\n",
       "</g>\n",
       "\n",
       "<g class=\"displacy-arrow\">\n",
       "    <path class=\"displacy-arc\" id=\"arrow-93f8a897a90c493f90615c19e7bf3f24-0-55\" stroke-width=\"2px\" d=\"M5110,227.0 C5110,182.0 5160.0,182.0 5160.0,227.0\" fill=\"none\" stroke=\"currentColor\"/>\n",
       "    <text dy=\"1.25em\" style=\"font-size: 0.8em; letter-spacing: 1px\">\n",
       "        <textPath xlink:href=\"#arrow-93f8a897a90c493f90615c19e7bf3f24-0-55\" class=\"displacy-label\" startOffset=\"50%\" side=\"left\" fill=\"currentColor\" text-anchor=\"middle\">aux</textPath>\n",
       "    </text>\n",
       "    <path class=\"displacy-arrowhead\" d=\"M5110,229.0 L5102,217.0 5118,217.0\" fill=\"currentColor\"/>\n",
       "</g>\n",
       "\n",
       "<g class=\"displacy-arrow\">\n",
       "    <path class=\"displacy-arc\" id=\"arrow-93f8a897a90c493f90615c19e7bf3f24-0-56\" stroke-width=\"2px\" d=\"M5290,227.0 C5290,182.0 5340.0,182.0 5340.0,227.0\" fill=\"none\" stroke=\"currentColor\"/>\n",
       "    <text dy=\"1.25em\" style=\"font-size: 0.8em; letter-spacing: 1px\">\n",
       "        <textPath xlink:href=\"#arrow-93f8a897a90c493f90615c19e7bf3f24-0-56\" class=\"displacy-label\" startOffset=\"50%\" side=\"left\" fill=\"currentColor\" text-anchor=\"middle\">advmod</textPath>\n",
       "    </text>\n",
       "    <path class=\"displacy-arrowhead\" d=\"M5290,229.0 L5282,217.0 5298,217.0\" fill=\"currentColor\"/>\n",
       "</g>\n",
       "\n",
       "<g class=\"displacy-arrow\">\n",
       "    <path class=\"displacy-arc\" id=\"arrow-93f8a897a90c493f90615c19e7bf3f24-0-57\" stroke-width=\"2px\" d=\"M5200,227.0 C5200,137.0 5345.0,137.0 5345.0,227.0\" fill=\"none\" stroke=\"currentColor\"/>\n",
       "    <text dy=\"1.25em\" style=\"font-size: 0.8em; letter-spacing: 1px\">\n",
       "        <textPath xlink:href=\"#arrow-93f8a897a90c493f90615c19e7bf3f24-0-57\" class=\"displacy-label\" startOffset=\"50%\" side=\"left\" fill=\"currentColor\" text-anchor=\"middle\">dobj</textPath>\n",
       "    </text>\n",
       "    <path class=\"displacy-arrowhead\" d=\"M5345.0,229.0 L5353.0,217.0 5337.0,217.0\" fill=\"currentColor\"/>\n",
       "</g>\n",
       "\n",
       "<g class=\"displacy-arrow\">\n",
       "    <path class=\"displacy-arc\" id=\"arrow-93f8a897a90c493f90615c19e7bf3f24-0-58\" stroke-width=\"2px\" d=\"M5200,227.0 C5200,92.0 5440.0,92.0 5440.0,227.0\" fill=\"none\" stroke=\"currentColor\"/>\n",
       "    <text dy=\"1.25em\" style=\"font-size: 0.8em; letter-spacing: 1px\">\n",
       "        <textPath xlink:href=\"#arrow-93f8a897a90c493f90615c19e7bf3f24-0-58\" class=\"displacy-label\" startOffset=\"50%\" side=\"left\" fill=\"currentColor\" text-anchor=\"middle\">dobj</textPath>\n",
       "    </text>\n",
       "    <path class=\"displacy-arrowhead\" d=\"M5440.0,229.0 L5448.0,217.0 5432.0,217.0\" fill=\"currentColor\"/>\n",
       "</g>\n",
       "\n",
       "<g class=\"displacy-arrow\">\n",
       "    <path class=\"displacy-arc\" id=\"arrow-93f8a897a90c493f90615c19e7bf3f24-0-59\" stroke-width=\"2px\" d=\"M5200,227.0 C5200,47.0 5535.0,47.0 5535.0,227.0\" fill=\"none\" stroke=\"currentColor\"/>\n",
       "    <text dy=\"1.25em\" style=\"font-size: 0.8em; letter-spacing: 1px\">\n",
       "        <textPath xlink:href=\"#arrow-93f8a897a90c493f90615c19e7bf3f24-0-59\" class=\"displacy-label\" startOffset=\"50%\" side=\"left\" fill=\"currentColor\" text-anchor=\"middle\">prep</textPath>\n",
       "    </text>\n",
       "    <path class=\"displacy-arrowhead\" d=\"M5535.0,229.0 L5543.0,217.0 5527.0,217.0\" fill=\"currentColor\"/>\n",
       "</g>\n",
       "\n",
       "<g class=\"displacy-arrow\">\n",
       "    <path class=\"displacy-arc\" id=\"arrow-93f8a897a90c493f90615c19e7bf3f24-0-60\" stroke-width=\"2px\" d=\"M5650,227.0 C5650,47.0 5985.0,47.0 5985.0,227.0\" fill=\"none\" stroke=\"currentColor\"/>\n",
       "    <text dy=\"1.25em\" style=\"font-size: 0.8em; letter-spacing: 1px\">\n",
       "        <textPath xlink:href=\"#arrow-93f8a897a90c493f90615c19e7bf3f24-0-60\" class=\"displacy-label\" startOffset=\"50%\" side=\"left\" fill=\"currentColor\" text-anchor=\"middle\">det</textPath>\n",
       "    </text>\n",
       "    <path class=\"displacy-arrowhead\" d=\"M5650,229.0 L5642,217.0 5658,217.0\" fill=\"currentColor\"/>\n",
       "</g>\n",
       "\n",
       "<g class=\"displacy-arrow\">\n",
       "    <path class=\"displacy-arc\" id=\"arrow-93f8a897a90c493f90615c19e7bf3f24-0-61\" stroke-width=\"2px\" d=\"M5740,227.0 C5740,92.0 5980.0,92.0 5980.0,227.0\" fill=\"none\" stroke=\"currentColor\"/>\n",
       "    <text dy=\"1.25em\" style=\"font-size: 0.8em; letter-spacing: 1px\">\n",
       "        <textPath xlink:href=\"#arrow-93f8a897a90c493f90615c19e7bf3f24-0-61\" class=\"displacy-label\" startOffset=\"50%\" side=\"left\" fill=\"currentColor\" text-anchor=\"middle\">amod</textPath>\n",
       "    </text>\n",
       "    <path class=\"displacy-arrowhead\" d=\"M5740,229.0 L5732,217.0 5748,217.0\" fill=\"currentColor\"/>\n",
       "</g>\n",
       "\n",
       "<g class=\"displacy-arrow\">\n",
       "    <path class=\"displacy-arc\" id=\"arrow-93f8a897a90c493f90615c19e7bf3f24-0-62\" stroke-width=\"2px\" d=\"M5830,227.0 C5830,137.0 5975.0,137.0 5975.0,227.0\" fill=\"none\" stroke=\"currentColor\"/>\n",
       "    <text dy=\"1.25em\" style=\"font-size: 0.8em; letter-spacing: 1px\">\n",
       "        <textPath xlink:href=\"#arrow-93f8a897a90c493f90615c19e7bf3f24-0-62\" class=\"displacy-label\" startOffset=\"50%\" side=\"left\" fill=\"currentColor\" text-anchor=\"middle\">quantmod</textPath>\n",
       "    </text>\n",
       "    <path class=\"displacy-arrowhead\" d=\"M5830,229.0 L5822,217.0 5838,217.0\" fill=\"currentColor\"/>\n",
       "</g>\n",
       "\n",
       "<g class=\"displacy-arrow\">\n",
       "    <path class=\"displacy-arc\" id=\"arrow-93f8a897a90c493f90615c19e7bf3f24-0-63\" stroke-width=\"2px\" d=\"M5920,227.0 C5920,182.0 5970.0,182.0 5970.0,227.0\" fill=\"none\" stroke=\"currentColor\"/>\n",
       "    <text dy=\"1.25em\" style=\"font-size: 0.8em; letter-spacing: 1px\">\n",
       "        <textPath xlink:href=\"#arrow-93f8a897a90c493f90615c19e7bf3f24-0-63\" class=\"displacy-label\" startOffset=\"50%\" side=\"left\" fill=\"currentColor\" text-anchor=\"middle\">compound</textPath>\n",
       "    </text>\n",
       "    <path class=\"displacy-arrowhead\" d=\"M5920,229.0 L5912,217.0 5928,217.0\" fill=\"currentColor\"/>\n",
       "</g>\n",
       "\n",
       "<g class=\"displacy-arrow\">\n",
       "    <path class=\"displacy-arc\" id=\"arrow-93f8a897a90c493f90615c19e7bf3f24-0-64\" stroke-width=\"2px\" d=\"M5200,227.0 C5200,2.0 5990.0,2.0 5990.0,227.0\" fill=\"none\" stroke=\"currentColor\"/>\n",
       "    <text dy=\"1.25em\" style=\"font-size: 0.8em; letter-spacing: 1px\">\n",
       "        <textPath xlink:href=\"#arrow-93f8a897a90c493f90615c19e7bf3f24-0-64\" class=\"displacy-label\" startOffset=\"50%\" side=\"left\" fill=\"currentColor\" text-anchor=\"middle\">punct</textPath>\n",
       "    </text>\n",
       "    <path class=\"displacy-arrowhead\" d=\"M5990.0,229.0 L5998.0,217.0 5982.0,217.0\" fill=\"currentColor\"/>\n",
       "</g>\n",
       "\n",
       "<g class=\"displacy-arrow\">\n",
       "    <path class=\"displacy-arc\" id=\"arrow-93f8a897a90c493f90615c19e7bf3f24-0-65\" stroke-width=\"2px\" d=\"M6010,227.0 C6010,182.0 6060.0,182.0 6060.0,227.0\" fill=\"none\" stroke=\"currentColor\"/>\n",
       "    <text dy=\"1.25em\" style=\"font-size: 0.8em; letter-spacing: 1px\">\n",
       "        <textPath xlink:href=\"#arrow-93f8a897a90c493f90615c19e7bf3f24-0-65\" class=\"displacy-label\" startOffset=\"50%\" side=\"left\" fill=\"currentColor\" text-anchor=\"middle\">dep</textPath>\n",
       "    </text>\n",
       "    <path class=\"displacy-arrowhead\" d=\"M6060.0,229.0 L6068.0,217.0 6052.0,217.0\" fill=\"currentColor\"/>\n",
       "</g>\n",
       "</svg></span>"
      ],
      "text/plain": [
       "<IPython.core.display.HTML object>"
      ]
     },
     "metadata": {},
     "output_type": "display_data"
    }
   ],
   "source": [
    "from spacy import displacy\n",
    "\n",
    "displacy.render(doc, style='dep', jupyter=True, options={'distance':90})"
   ]
  },
  {
   "cell_type": "markdown",
   "metadata": {
    "papermill": {
     "duration": 0.045906,
     "end_time": "2021-03-25T01:29:26.668471",
     "exception": false,
     "start_time": "2021-03-25T01:29:26.622565",
     "status": "completed"
    },
    "tags": []
   },
   "source": [
    "## Visualizing the entity recongnizer"
   ]
  },
  {
   "cell_type": "code",
   "execution_count": 12,
   "metadata": {
    "execution": {
     "iopub.execute_input": "2021-03-25T01:29:26.762782Z",
     "iopub.status.busy": "2021-03-25T01:29:26.761906Z",
     "iopub.status.idle": "2021-03-25T01:29:26.767932Z",
     "shell.execute_reply": "2021-03-25T01:29:26.768621Z"
    },
    "papermill": {
     "duration": 0.055323,
     "end_time": "2021-03-25T01:29:26.768771",
     "exception": false,
     "start_time": "2021-03-25T01:29:26.713448",
     "status": "completed"
    },
    "tags": []
   },
   "outputs": [
    {
     "data": {
      "text/html": [
       "<span class=\"tex2jax_ignore\"><div class=\"entities\" style=\"line-height: 2.5; direction: ltr\"></br>\n",
       "<mark class=\"entity\" style=\"background: #aa9cfc; padding: 0.45em 0.6em; margin: 0 0.25em; line-height: 1; border-radius: 0.35em;\">\n",
       "    Elon Musk\n",
       "    <span style=\"font-size: 0.8em; font-weight: bold; line-height: 1; border-radius: 0.35em; vertical-align: middle; margin-left: 0.5rem\">PERSON</span>\n",
       "</mark>\n",
       ", the billionaire CEO of \n",
       "<mark class=\"entity\" style=\"background: #7aecec; padding: 0.45em 0.6em; margin: 0 0.25em; line-height: 1; border-radius: 0.35em;\">\n",
       "    Tesla\n",
       "    <span style=\"font-size: 0.8em; font-weight: bold; line-height: 1; border-radius: 0.35em; vertical-align: middle; margin-left: 0.5rem\">ORG</span>\n",
       "</mark>\n",
       " and SpaceX, is now the richest person in the world, surpassing former titleholder and \n",
       "<mark class=\"entity\" style=\"background: #7aecec; padding: 0.45em 0.6em; margin: 0 0.25em; line-height: 1; border-radius: 0.35em;\">\n",
       "    Amazon\n",
       "    <span style=\"font-size: 0.8em; font-weight: bold; line-height: 1; border-radius: 0.35em; vertical-align: middle; margin-left: 0.5rem\">ORG</span>\n",
       "</mark>\n",
       " chief \n",
       "<mark class=\"entity\" style=\"background: #aa9cfc; padding: 0.45em 0.6em; margin: 0 0.25em; line-height: 1; border-radius: 0.35em;\">\n",
       "    Jeff Bezos\n",
       "    <span style=\"font-size: 0.8em; font-weight: bold; line-height: 1; border-radius: 0.35em; vertical-align: middle; margin-left: 0.5rem\">PERSON</span>\n",
       "</mark>\n",
       " with a net worth of \n",
       "<mark class=\"entity\" style=\"background: #e4e7d2; padding: 0.45em 0.6em; margin: 0 0.25em; line-height: 1; border-radius: 0.35em;\">\n",
       "    $189.7 billion\n",
       "    <span style=\"font-size: 0.8em; font-weight: bold; line-height: 1; border-radius: 0.35em; vertical-align: middle; margin-left: 0.5rem\">MONEY</span>\n",
       "</mark>\n",
       ", according to \n",
       "<mark class=\"entity\" style=\"background: #7aecec; padding: 0.45em 0.6em; margin: 0 0.25em; line-height: 1; border-radius: 0.35em;\">\n",
       "    Forbes\n",
       "    <span style=\"font-size: 0.8em; font-weight: bold; line-height: 1; border-radius: 0.35em; vertical-align: middle; margin-left: 0.5rem\">ORG</span>\n",
       "</mark>\n",
       "’s real-time billionaire net-worth estimates on \n",
       "<mark class=\"entity\" style=\"background: #bfe1d9; padding: 0.45em 0.6em; margin: 0 0.25em; line-height: 1; border-radius: 0.35em;\">\n",
       "    Jan. 8, 2021\n",
       "    <span style=\"font-size: 0.8em; font-weight: bold; line-height: 1; border-radius: 0.35em; vertical-align: middle; margin-left: 0.5rem\">DATE</span>\n",
       "</mark>\n",
       " at \n",
       "<mark class=\"entity\" style=\"background: #bfe1d9; padding: 0.45em 0.6em; margin: 0 0.25em; line-height: 1; border-radius: 0.35em;\">\n",
       "    1pm\n",
       "    <span style=\"font-size: 0.8em; font-weight: bold; line-height: 1; border-radius: 0.35em; vertical-align: middle; margin-left: 0.5rem\">TIME</span>\n",
       "</mark>\n",
       ". Since \n",
       "<mark class=\"entity\" style=\"background: #bfe1d9; padding: 0.45em 0.6em; margin: 0 0.25em; line-height: 1; border-radius: 0.35em;\">\n",
       "    March\n",
       "    <span style=\"font-size: 0.8em; font-weight: bold; line-height: 1; border-radius: 0.35em; vertical-align: middle; margin-left: 0.5rem\">DATE</span>\n",
       "</mark>\n",
       ", \n",
       "<mark class=\"entity\" style=\"background: #aa9cfc; padding: 0.45em 0.6em; margin: 0 0.25em; line-height: 1; border-radius: 0.35em;\">\n",
       "    Musk\n",
       "    <span style=\"font-size: 0.8em; font-weight: bold; line-height: 1; border-radius: 0.35em; vertical-align: middle; margin-left: 0.5rem\">PERSON</span>\n",
       "</mark>\n",
       "’s wealth has grown \n",
       "<mark class=\"entity\" style=\"background: #e4e7d2; padding: 0.45em 0.6em; margin: 0 0.25em; line-height: 1; border-radius: 0.35em;\">\n",
       "    almost seven-fold\n",
       "    <span style=\"font-size: 0.8em; font-weight: bold; line-height: 1; border-radius: 0.35em; vertical-align: middle; margin-left: 0.5rem\">CARDINAL</span>\n",
       "</mark>\n",
       ", up a staggering \n",
       "<mark class=\"entity\" style=\"background: #e4e7d2; padding: 0.45em 0.6em; margin: 0 0.25em; line-height: 1; border-radius: 0.35em;\">\n",
       "    $163.1 billion\n",
       "    <span style=\"font-size: 0.8em; font-weight: bold; line-height: 1; border-radius: 0.35em; vertical-align: middle; margin-left: 0.5rem\">MONEY</span>\n",
       "</mark>\n",
       ".</br></div></span>"
      ],
      "text/plain": [
       "<IPython.core.display.HTML object>"
      ]
     },
     "metadata": {},
     "output_type": "display_data"
    }
   ],
   "source": [
    "displacy.render(doc, style='ent', jupyter=True)"
   ]
  },
  {
   "cell_type": "markdown",
   "metadata": {
    "papermill": {
     "duration": 0.047001,
     "end_time": "2021-03-25T01:29:26.862119",
     "exception": false,
     "start_time": "2021-03-25T01:29:26.815118",
     "status": "completed"
    },
    "tags": []
   },
   "source": [
    "## Stemming\n",
    "\n",
    "- Often when searching text for a certain keyword, it helps if the search returns variations of the word. For instance, searching for 'boat' might return 'boats' and 'boating'. Here, 'boat' would be the stem for [boat, boater, boating, boats].\n"
   ]
  },
  {
   "cell_type": "code",
   "execution_count": 13,
   "metadata": {
    "execution": {
     "iopub.execute_input": "2021-03-25T01:29:26.964069Z",
     "iopub.status.busy": "2021-03-25T01:29:26.963369Z",
     "iopub.status.idle": "2021-03-25T01:29:28.906601Z",
     "shell.execute_reply": "2021-03-25T01:29:28.907464Z"
    },
    "papermill": {
     "duration": 1.994887,
     "end_time": "2021-03-25T01:29:28.907640",
     "exception": false,
     "start_time": "2021-03-25T01:29:26.912753",
     "status": "completed"
    },
    "tags": []
   },
   "outputs": [
    {
     "name": "stdout",
     "output_type": "stream",
     "text": [
      "run --------> run\n",
      "runner --------> runner\n",
      "ran --------> ran\n",
      "runs --------> run\n",
      "easily --------> easili\n",
      "fairly --------> fairli\n",
      "fairness --------> fair\n"
     ]
    }
   ],
   "source": [
    "import nltk\n",
    "from nltk.stem.porter import PorterStemmer\n",
    "\n",
    "words = ['run', 'runner', 'ran', 'runs', 'easily', 'fairly', 'fairness']\n",
    "p_stemmer = PorterStemmer()\n",
    "\n",
    "for word in words:\n",
    "    print(f\"{word} --------> {p_stemmer.stem(word)}\")"
   ]
  },
  {
   "cell_type": "code",
   "execution_count": 14,
   "metadata": {
    "execution": {
     "iopub.execute_input": "2021-03-25T01:29:29.015648Z",
     "iopub.status.busy": "2021-03-25T01:29:29.014642Z",
     "iopub.status.idle": "2021-03-25T01:29:29.018181Z",
     "shell.execute_reply": "2021-03-25T01:29:29.019063Z"
    },
    "papermill": {
     "duration": 0.06421,
     "end_time": "2021-03-25T01:29:29.019254",
     "exception": false,
     "start_time": "2021-03-25T01:29:28.955044",
     "status": "completed"
    },
    "tags": []
   },
   "outputs": [
    {
     "name": "stdout",
     "output_type": "stream",
     "text": [
      "run --------> run\n",
      "runner --------> runner\n",
      "ran --------> ran\n",
      "runs --------> run\n",
      "easily --------> easili\n",
      "fairly --------> fair\n",
      "fairness --------> fair\n"
     ]
    }
   ],
   "source": [
    "from nltk.stem.snowball import SnowballStemmer\n",
    "\n",
    "words = ['run', 'runner', 'ran', 'runs', 'easily', 'fairly', 'fairness']\n",
    "s_stemmer = SnowballStemmer(language='english')\n",
    "\n",
    "for word in words:\n",
    "    print(f\"{word} --------> {s_stemmer.stem(word)}\")"
   ]
  },
  {
   "cell_type": "code",
   "execution_count": 15,
   "metadata": {
    "execution": {
     "iopub.execute_input": "2021-03-25T01:29:29.124493Z",
     "iopub.status.busy": "2021-03-25T01:29:29.123550Z",
     "iopub.status.idle": "2021-03-25T01:29:29.127896Z",
     "shell.execute_reply": "2021-03-25T01:29:29.127235Z"
    },
    "papermill": {
     "duration": 0.059706,
     "end_time": "2021-03-25T01:29:29.128022",
     "exception": false,
     "start_time": "2021-03-25T01:29:29.068316",
     "status": "completed"
    },
    "tags": []
   },
   "outputs": [
    {
     "name": "stdout",
     "output_type": "stream",
     "text": [
      "===============SNOWBALL STEMMER================\n",
      "generous --------> generous\n",
      "generation --------> generat\n",
      "generously --------> generous\n",
      "generate --------> generat\n",
      "===============PORTER STEMMER================\n",
      "generous --------> gener\n",
      "generation --------> gener\n",
      "generously --------> gener\n",
      "generate --------> gener\n"
     ]
    }
   ],
   "source": [
    "words = ['generous', 'generation', 'generously', 'generate']\n",
    "\n",
    "print('===============SNOWBALL STEMMER================')\n",
    "for word in words:\n",
    "    print(f\"{word} --------> {s_stemmer.stem(word)}\")\n",
    "    \n",
    "print('===============PORTER STEMMER================')\n",
    "for word in words:\n",
    "    print(f\"{word} --------> {p_stemmer.stem(word)}\")"
   ]
  },
  {
   "cell_type": "markdown",
   "metadata": {
    "papermill": {
     "duration": 0.047904,
     "end_time": "2021-03-25T01:29:29.224800",
     "exception": false,
     "start_time": "2021-03-25T01:29:29.176896",
     "status": "completed"
    },
    "tags": []
   },
   "source": [
    "## Lemmatization\n",
    "\n",
    "- In contrast to stemming, lemmatization looks beyond word reduction, and considers a language's full vocabulary to apply a morphological analysis to words. The lemma of 'was' is 'be' and the lemma of 'meeting' might be 'meet' or 'meeting' depending on its use in a sentence. Lemmatization is typically seen as much more informative than simple stemming, which is why Spacy has opted to only have Lemmatization available instead of Stemming. "
   ]
  },
  {
   "cell_type": "code",
   "execution_count": 16,
   "metadata": {
    "execution": {
     "iopub.execute_input": "2021-03-25T01:29:29.328524Z",
     "iopub.status.busy": "2021-03-25T01:29:29.327226Z",
     "iopub.status.idle": "2021-03-25T01:29:29.348298Z",
     "shell.execute_reply": "2021-03-25T01:29:29.347320Z"
    },
    "papermill": {
     "duration": 0.075812,
     "end_time": "2021-03-25T01:29:29.348440",
     "exception": false,
     "start_time": "2021-03-25T01:29:29.272628",
     "status": "completed"
    },
    "tags": []
   },
   "outputs": [
    {
     "name": "stdout",
     "output_type": "stream",
     "text": [
      "I           PRON      \t 4690420944186131903\tI\n",
      "am          AUX       \t10382539506755952630\tbe\n",
      "a           DET       \t11901859001352538922\ta\n",
      "runner      NOUN      \t12640964157389618806\trunner\n",
      "running     VERB      \t12767647472892411841\trun\n",
      "in          ADP       \t 3002984154512732771\tin\n",
      "a           DET       \t11901859001352538922\ta\n",
      "race        NOUN      \t 8048469955494714898\trace\n",
      "because     SCONJ     \t16950148841647037698\tbecause\n",
      "I           PRON      \t 4690420944186131903\tI\n",
      "love        VERB      \t 3702023516439754181\tlove\n",
      "to          PART      \t 3791531372978436496\tto\n",
      "run         VERB      \t12767647472892411841\trun\n",
      "since       SCONJ     \t10066841407251338481\tsince\n",
      "I           PRON      \t 4690420944186131903\tI\n",
      "ran         VERB      \t12767647472892411841\trun\n",
      "everyday    ADV       \t12502803309396265471\teveryday\n"
     ]
    }
   ],
   "source": [
    "text = nlp(u\"I am a runner running in a race because I love to run since I ran everyday\")\n",
    "\n",
    "for token in text:\n",
    "    print(f\"{token.text:{12}}{token.pos_:{10}}\\t{token.lemma:{20}}\\t{token.lemma_}\")"
   ]
  },
  {
   "cell_type": "markdown",
   "metadata": {
    "papermill": {
     "duration": 0.048422,
     "end_time": "2021-03-25T01:29:29.445268",
     "exception": false,
     "start_time": "2021-03-25T01:29:29.396846",
     "status": "completed"
    },
    "tags": []
   },
   "source": [
    "## Stop Words\n",
    "\n",
    "- Words like 'a' and 'the' appear so frequently that they don't require tagging as thoroughly as nouns, verbs and modifiers. We call these stop words, and they can be filtered from text to be processed. Spacy holds a built-in list of some `326` English stop words."
   ]
  },
  {
   "cell_type": "code",
   "execution_count": 17,
   "metadata": {
    "execution": {
     "iopub.execute_input": "2021-03-25T01:29:29.548369Z",
     "iopub.status.busy": "2021-03-25T01:29:29.547707Z",
     "iopub.status.idle": "2021-03-25T01:29:30.547549Z",
     "shell.execute_reply": "2021-03-25T01:29:30.548315Z"
    },
    "papermill": {
     "duration": 1.055085,
     "end_time": "2021-03-25T01:29:30.548508",
     "exception": false,
     "start_time": "2021-03-25T01:29:29.493423",
     "status": "completed"
    },
    "tags": []
   },
   "outputs": [
    {
     "name": "stdout",
     "output_type": "stream",
     "text": [
      "{'sixty', 'whither', 'yourselves', 'very', 'former', \"'ll\", 'about', 'we', 'per', 'along', 'else', 'the', 'where', 'doing', 'over', 'less', 'and', 'anyhow', 'whose', 'empty', 'become', 'becoming', 'therefore', 'whereby', 'must', 'various', 'out', 'beside', 'hereafter', 'becomes', \"n't\", 'bottom', 'although', 'does', 'sometimes', 'everyone', 'beyond', 'against', 'forty', 'noone', 'cannot', 'on', 'n‘t', 'nine', 'throughout', 'above', 'if', 'almost', 'nevertheless', 'now', 'who', 'i', 'side', 'whole', 'even', 'call', 'most', 'top', '’ve', 'be', 'eight', 'first', 'my', 'much', 'thru', 'still', 'towards', 'anywhere', 'toward', 'for', 'also', 'others', 'sometime', 'somehow', 'just', 'neither', 'as', 'such', 'did', 'twelve', 'thereby', '‘d', 'are', 'using', '’d', 'often', 'none', 'themselves', 'each', 'everywhere', 'always', 'been', 'herself', 'via', 'across', '‘ve', 'serious', 'until', 'ours', 'is', 'next', 'within', 'while', 'ten', 'other', 'elsewhere', 'really', 'thereafter', 'yet', 'something', 'beforehand', '’s', 'they', 'after', 'another', 'some', 'afterwards', 'alone', 'therein', 'seem', 'though', 'would', 'might', 'into', 'made', 'done', 'part', 'give', 'latter', 'keep', 'put', 'whereas', 'an', '’re', 'both', 'enough', 'before', 'herein', 'he', 'somewhere', 'was', 'his', 'wherein', 'every', 'from', 'third', 'namely', 'seems', 'yours', 'but', '’ll', 'any', 'no', 'there', 'ca', 'twenty', 'upon', 'am', 'thereupon', 'down', '’m', 'five', 'she', 'due', 'however', '‘s', 'either', 'n’t', 'one', 'rather', 'ourselves', 'myself', 'how', 'regarding', 'off', 'these', 'why', 'thus', 'seeming', 'quite', 'me', 'see', 'this', 'among', 'in', 'behind', 'whom', 'again', \"'re\", 'few', 'through', 'least', '‘ll', 'hundred', 'up', 'hereupon', '‘re', 'full', 'may', 'nor', 'our', 'latterly', 'those', 'have', \"'ve\", 'anyway', 'not', 'thence', 'together', 'four', 'what', 'with', 'anything', 'show', 'at', 'whenever', 'eleven', 'nothing', 'under', 'please', 'mine', 'nowhere', \"'m\", 'had', 'them', 'go', 'besides', 'should', 'her', 'of', 'amount', 'whereafter', 'hereby', 'wherever', 'take', 'will', \"'d\", 'itself', 'it', 'perhaps', 'moreover', 'that', 'seemed', 'get', 'further', 'only', 'never', 'do', 'anyone', 'last', 'more', 'or', 'nobody', 'amongst', 'whether', 'all', 'fifty', 'three', 'whoever', 'can', 'whence', 'around', 'meanwhile', 'hers', 'six', 'used', 'being', 'say', 'to', 'which', 'when', 'a', 'two', 'by', 'whereupon', 'onto', 'move', 'without', 'same', 'fifteen', 'hence', 'your', 'already', 'himself', 'except', 'here', 'many', 'then', 'has', 'mostly', 'everything', 'once', 'front', 'yourself', \"'s\", 'their', 'you', '‘m', 'whatever', 'otherwise', 'indeed', 're', 'were', 'too', 'because', 'formerly', 'between', 'than', 'so', 'below', 'name', 'its', 'us', 'became', 'unless', 'ever', 'could', 'since', 'during', 'back', 'own', 'several', 'him', 'someone', 'make', 'well'}\n",
      "326\n"
     ]
    }
   ],
   "source": [
    "nlp = spacy.load('en_core_web_sm')\n",
    "\n",
    "print(nlp.Defaults.stop_words)\n",
    "print(len(nlp.Defaults.stop_words))"
   ]
  },
  {
   "cell_type": "code",
   "execution_count": 18,
   "metadata": {
    "execution": {
     "iopub.execute_input": "2021-03-25T01:29:30.654186Z",
     "iopub.status.busy": "2021-03-25T01:29:30.653260Z",
     "iopub.status.idle": "2021-03-25T01:29:30.659180Z",
     "shell.execute_reply": "2021-03-25T01:29:30.658247Z"
    },
    "papermill": {
     "duration": 0.06092,
     "end_time": "2021-03-25T01:29:30.659348",
     "exception": false,
     "start_time": "2021-03-25T01:29:30.598428",
     "status": "completed"
    },
    "tags": []
   },
   "outputs": [
    {
     "name": "stdout",
     "output_type": "stream",
     "text": [
      "is: is stop word: True\n",
      "and: is stop word: True\n",
      "Tesla: is stop word: False\n",
      "you: is stop word: True\n",
      "IS: is stop word: True\n",
      "AND: is stop word: True\n"
     ]
    }
   ],
   "source": [
    "words = ['is', 'and', 'Tesla', 'you', 'IS', 'AND']\n",
    "\n",
    "for word in words:\n",
    "    print(f\"{word}: is stop word: {nlp.vocab[word].is_stop}\")"
   ]
  },
  {
   "cell_type": "code",
   "execution_count": 19,
   "metadata": {
    "execution": {
     "iopub.execute_input": "2021-03-25T01:29:30.767046Z",
     "iopub.status.busy": "2021-03-25T01:29:30.766118Z",
     "iopub.status.idle": "2021-03-25T01:29:30.769514Z",
     "shell.execute_reply": "2021-03-25T01:29:30.770385Z"
    },
    "papermill": {
     "duration": 0.060846,
     "end_time": "2021-03-25T01:29:30.770559",
     "exception": false,
     "start_time": "2021-03-25T01:29:30.709713",
     "status": "completed"
    },
    "tags": []
   },
   "outputs": [
    {
     "name": "stdout",
     "output_type": "stream",
     "text": [
      "Where               : is stop word: True\n",
      "was                 : is stop word: True\n",
      "u                   : is stop word: False\n",
      "?                   : is stop word: False\n",
      "I                   : is stop word: True\n",
      "was                 : is stop word: True\n",
      "looking             : is stop word: False\n",
      "for                 : is stop word: True\n",
      "you                 : is stop word: True\n",
      "btw                 : is stop word: True\n",
      "session...          : is stop word: False\n"
     ]
    }
   ],
   "source": [
    "# We can add our own stop word\n",
    "nlp.Defaults.stop_words.add('btw')\n",
    "nlp.Defaults.stop_words.add('u')\n",
    "\n",
    "sentence = 'Where was u ? I was looking for you btw session...'\n",
    "for word in sentence.split():\n",
    "    print(f\"{word:{20}}: is stop word: {nlp.vocab[word].is_stop}\")"
   ]
  },
  {
   "cell_type": "code",
   "execution_count": 20,
   "metadata": {
    "execution": {
     "iopub.execute_input": "2021-03-25T01:29:30.878835Z",
     "iopub.status.busy": "2021-03-25T01:29:30.877720Z",
     "iopub.status.idle": "2021-03-25T01:29:30.883397Z",
     "shell.execute_reply": "2021-03-25T01:29:30.882332Z"
    },
    "papermill": {
     "duration": 0.061865,
     "end_time": "2021-03-25T01:29:30.883523",
     "exception": false,
     "start_time": "2021-03-25T01:29:30.821658",
     "status": "completed"
    },
    "tags": []
   },
   "outputs": [
    {
     "name": "stdout",
     "output_type": "stream",
     "text": [
      "Where               : is stop word: True\n",
      "was                 : is stop word: True\n",
      "u                   : is stop word: False\n",
      "?                   : is stop word: False\n",
      "I                   : is stop word: True\n",
      "was                 : is stop word: True\n",
      "looking             : is stop word: False\n",
      "for                 : is stop word: False\n",
      "you                 : is stop word: True\n",
      "btw                 : is stop word: True\n",
      "session...          : is stop word: False\n"
     ]
    }
   ],
   "source": [
    "# We can also remove stop word\n",
    "nlp.vocab['for'].is_stop = False\n",
    "sentence = 'Where was u ? I was looking for you btw session...'\n",
    "for word in sentence.split():\n",
    "    print(f\"{word:{20}}: is stop word: {nlp.vocab[word].is_stop}\")"
   ]
  },
  {
   "cell_type": "markdown",
   "metadata": {
    "papermill": {
     "duration": 0.051393,
     "end_time": "2021-03-25T01:29:30.986222",
     "exception": false,
     "start_time": "2021-03-25T01:29:30.934829",
     "status": "completed"
    },
    "tags": []
   },
   "source": [
    "## Phrase Matching and Vocabulary\n",
    "\n",
    "- We can think of this as a powerful version of Regular Expression where we actually take parts of speech into account for our patterns."
   ]
  },
  {
   "cell_type": "code",
   "execution_count": 22,
   "metadata": {
    "execution": {
     "iopub.execute_input": "2021-03-25T01:29:31.099868Z",
     "iopub.status.busy": "2021-03-25T01:29:31.099114Z",
     "iopub.status.idle": "2021-03-25T01:29:31.123897Z",
     "shell.execute_reply": "2021-03-25T01:29:31.123313Z"
    },
    "papermill": {
     "duration": 0.087257,
     "end_time": "2021-03-25T01:29:31.124025",
     "exception": false,
     "start_time": "2021-03-25T01:29:31.036768",
     "status": "completed"
    },
    "tags": []
   },
   "outputs": [
    {
     "name": "stdout",
     "output_type": "stream",
     "text": [
      "[(8656102463236116519, 1, 3), (8656102463236116519, 25, 26), (8656102463236116519, 33, 36)]\n"
     ]
    }
   ],
   "source": [
    "from spacy.matcher import Matcher\n",
    "\n",
    "matcher = Matcher(nlp.vocab)\n",
    "pattern_1 = [{'LOWER': 'solarpower'}] # ----> SolarPower\n",
    "pattern_2 = [{'LOWER': 'solar'}, {'IS_PUNCT': True}, {'LOWER': 'power'}] # ---> Solar-Power\n",
    "pattern_3 = [{'LOWER': 'solar'}, {'LOWER': 'power'}] # ---> Solar Power\n",
    "\n",
    "matcher.add('SolarPower',[pattern_1, pattern_2, pattern_3])\n",
    "\n",
    "text = u'''\n",
    "Solar Power is the conversion of energy from sunlight into electricity, \n",
    "either directly using photovoltaics (PV), indirectly using concentrated SolarPower, \n",
    "or a combination. Concentrated Solar-Power systems use lenses or mirrors and solar \n",
    "tracking systems to focus a large area of sunlight into a small beam.\n",
    "'''\n",
    "doc = nlp(text)\n",
    "found_matches = matcher(doc)\n",
    "print(found_matches)"
   ]
  },
  {
   "cell_type": "markdown",
   "metadata": {
    "papermill": {
     "duration": 0.050515,
     "end_time": "2021-03-25T01:29:31.225700",
     "exception": false,
     "start_time": "2021-03-25T01:29:31.175185",
     "status": "completed"
    },
    "tags": []
   },
   "source": [
    "## Word Vectors and Semantic Similarity\n",
    "\n",
    "- Spacy can compare two objects and predict similarity, `Doc.similarity()`, `Span.similarity()` and `Token.similarity()`. They take another object and return a similarity score (`0` to `1`).\n",
    "- `Important`: needs a model that has word vectors included, for example: `en_core_web_md`, `en_core_web_lg`, not `en_core_web_sm`."
   ]
  },
  {
   "cell_type": "code",
   "execution_count": 23,
   "metadata": {
    "_kg_hide-input": true,
    "_kg_hide-output": true,
    "execution": {
     "iopub.execute_input": "2021-03-25T01:29:31.333715Z",
     "iopub.status.busy": "2021-03-25T01:29:31.332852Z",
     "iopub.status.idle": "2021-03-25T01:29:55.131733Z",
     "shell.execute_reply": "2021-03-25T01:29:55.130199Z"
    },
    "papermill": {
     "duration": 23.855853,
     "end_time": "2021-03-25T01:29:55.131869",
     "exception": false,
     "start_time": "2021-03-25T01:29:31.276016",
     "status": "completed"
    },
    "tags": []
   },
   "outputs": [
    {
     "name": "stdout",
     "output_type": "stream",
     "text": [
      "Collecting en_core_web_md==2.3.1\r\n",
      "  Downloading https://github.com/explosion/spacy-models/releases/download/en_core_web_md-2.3.1/en_core_web_md-2.3.1.tar.gz (50.8 MB)\r\n",
      "\u001b[K     |████████████████████████████████| 50.8 MB 20.6 MB/s \r\n",
      "\u001b[?25hRequirement already satisfied: spacy<2.4.0,>=2.3.0 in /opt/conda/lib/python3.7/site-packages (from en_core_web_md==2.3.1) (2.3.4)\r\n",
      "Requirement already satisfied: setuptools in /opt/conda/lib/python3.7/site-packages (from spacy<2.4.0,>=2.3.0->en_core_web_md==2.3.1) (46.1.3.post20200325)\r\n",
      "Requirement already satisfied: tqdm<5.0.0,>=4.38.0 in /opt/conda/lib/python3.7/site-packages (from spacy<2.4.0,>=2.3.0->en_core_web_md==2.3.1) (4.45.0)\r\n",
      "Requirement already satisfied: requests<3.0.0,>=2.13.0 in /opt/conda/lib/python3.7/site-packages (from spacy<2.4.0,>=2.3.0->en_core_web_md==2.3.1) (2.23.0)\r\n",
      "Requirement already satisfied: blis<0.8.0,>=0.4.0 in /opt/conda/lib/python3.7/site-packages (from spacy<2.4.0,>=2.3.0->en_core_web_md==2.3.1) (0.7.4)\r\n",
      "Requirement already satisfied: cymem<2.1.0,>=2.0.2 in /opt/conda/lib/python3.7/site-packages (from spacy<2.4.0,>=2.3.0->en_core_web_md==2.3.1) (2.0.5)\r\n",
      "Requirement already satisfied: thinc<7.5.0,>=7.4.1 in /opt/conda/lib/python3.7/site-packages (from spacy<2.4.0,>=2.3.0->en_core_web_md==2.3.1) (7.4.3)\r\n",
      "Requirement already satisfied: murmurhash<1.1.0,>=0.28.0 in /opt/conda/lib/python3.7/site-packages (from spacy<2.4.0,>=2.3.0->en_core_web_md==2.3.1) (1.0.5)\r\n",
      "Requirement already satisfied: wasabi<1.1.0,>=0.4.0 in /opt/conda/lib/python3.7/site-packages (from spacy<2.4.0,>=2.3.0->en_core_web_md==2.3.1) (0.8.0)\r\n",
      "Requirement already satisfied: srsly<1.1.0,>=1.0.2 in /opt/conda/lib/python3.7/site-packages (from spacy<2.4.0,>=2.3.0->en_core_web_md==2.3.1) (1.0.5)\r\n",
      "Requirement already satisfied: plac<1.2.0,>=0.9.6 in /opt/conda/lib/python3.7/site-packages (from spacy<2.4.0,>=2.3.0->en_core_web_md==2.3.1) (1.1.3)\r\n",
      "Requirement already satisfied: preshed<3.1.0,>=3.0.2 in /opt/conda/lib/python3.7/site-packages (from spacy<2.4.0,>=2.3.0->en_core_web_md==2.3.1) (3.0.5)\r\n",
      "Requirement already satisfied: numpy>=1.15.0 in /opt/conda/lib/python3.7/site-packages (from spacy<2.4.0,>=2.3.0->en_core_web_md==2.3.1) (1.18.5)\r\n",
      "Requirement already satisfied: catalogue<1.1.0,>=0.0.7 in /opt/conda/lib/python3.7/site-packages (from spacy<2.4.0,>=2.3.0->en_core_web_md==2.3.1) (1.0.0)\r\n",
      "Requirement already satisfied: numpy>=1.15.0 in /opt/conda/lib/python3.7/site-packages (from spacy<2.4.0,>=2.3.0->en_core_web_md==2.3.1) (1.18.5)\r\n",
      "Requirement already satisfied: importlib-metadata>=0.20 in /opt/conda/lib/python3.7/site-packages (from catalogue<1.1.0,>=0.0.7->spacy<2.4.0,>=2.3.0->en_core_web_md==2.3.1) (3.1.1)\r\n",
      "Requirement already satisfied: zipp>=0.5 in /opt/conda/lib/python3.7/site-packages (from importlib-metadata>=0.20->catalogue<1.1.0,>=0.0.7->spacy<2.4.0,>=2.3.0->en_core_web_md==2.3.1) (3.1.0)\r\n",
      "Requirement already satisfied: cymem<2.1.0,>=2.0.2 in /opt/conda/lib/python3.7/site-packages (from spacy<2.4.0,>=2.3.0->en_core_web_md==2.3.1) (2.0.5)\r\n",
      "Requirement already satisfied: murmurhash<1.1.0,>=0.28.0 in /opt/conda/lib/python3.7/site-packages (from spacy<2.4.0,>=2.3.0->en_core_web_md==2.3.1) (1.0.5)\r\n",
      "Requirement already satisfied: urllib3!=1.25.0,!=1.25.1,<1.26,>=1.21.1 in /opt/conda/lib/python3.7/site-packages (from requests<3.0.0,>=2.13.0->spacy<2.4.0,>=2.3.0->en_core_web_md==2.3.1) (1.25.9)\r\n",
      "Requirement already satisfied: chardet<4,>=3.0.2 in /opt/conda/lib/python3.7/site-packages (from requests<3.0.0,>=2.13.0->spacy<2.4.0,>=2.3.0->en_core_web_md==2.3.1) (3.0.4)\r\n",
      "Requirement already satisfied: idna<3,>=2.5 in /opt/conda/lib/python3.7/site-packages (from requests<3.0.0,>=2.13.0->spacy<2.4.0,>=2.3.0->en_core_web_md==2.3.1) (2.9)\r\n",
      "Requirement already satisfied: certifi>=2017.4.17 in /opt/conda/lib/python3.7/site-packages (from requests<3.0.0,>=2.13.0->spacy<2.4.0,>=2.3.0->en_core_web_md==2.3.1) (2020.12.5)\r\n",
      "Requirement already satisfied: catalogue<1.1.0,>=0.0.7 in /opt/conda/lib/python3.7/site-packages (from spacy<2.4.0,>=2.3.0->en_core_web_md==2.3.1) (1.0.0)\r\n",
      "Requirement already satisfied: tqdm<5.0.0,>=4.38.0 in /opt/conda/lib/python3.7/site-packages (from spacy<2.4.0,>=2.3.0->en_core_web_md==2.3.1) (4.45.0)\r\n",
      "Requirement already satisfied: blis<0.8.0,>=0.4.0 in /opt/conda/lib/python3.7/site-packages (from spacy<2.4.0,>=2.3.0->en_core_web_md==2.3.1) (0.7.4)\r\n",
      "Requirement already satisfied: cymem<2.1.0,>=2.0.2 in /opt/conda/lib/python3.7/site-packages (from spacy<2.4.0,>=2.3.0->en_core_web_md==2.3.1) (2.0.5)\r\n",
      "Requirement already satisfied: plac<1.2.0,>=0.9.6 in /opt/conda/lib/python3.7/site-packages (from spacy<2.4.0,>=2.3.0->en_core_web_md==2.3.1) (1.1.3)\r\n",
      "Requirement already satisfied: murmurhash<1.1.0,>=0.28.0 in /opt/conda/lib/python3.7/site-packages (from spacy<2.4.0,>=2.3.0->en_core_web_md==2.3.1) (1.0.5)\r\n",
      "Requirement already satisfied: wasabi<1.1.0,>=0.4.0 in /opt/conda/lib/python3.7/site-packages (from spacy<2.4.0,>=2.3.0->en_core_web_md==2.3.1) (0.8.0)\r\n",
      "Requirement already satisfied: srsly<1.1.0,>=1.0.2 in /opt/conda/lib/python3.7/site-packages (from spacy<2.4.0,>=2.3.0->en_core_web_md==2.3.1) (1.0.5)\r\n",
      "Requirement already satisfied: numpy>=1.15.0 in /opt/conda/lib/python3.7/site-packages (from spacy<2.4.0,>=2.3.0->en_core_web_md==2.3.1) (1.18.5)\r\n",
      "Requirement already satisfied: preshed<3.1.0,>=3.0.2 in /opt/conda/lib/python3.7/site-packages (from spacy<2.4.0,>=2.3.0->en_core_web_md==2.3.1) (3.0.5)\r\n",
      "Building wheels for collected packages: en-core-web-md\r\n",
      "  Building wheel for en-core-web-md (setup.py) ... \u001b[?25l-\b \b\\\b \b|\b \b/\b \b-\b \b\\\b \b|\b \b/\b \b-\b \b\\\b \b|\b \bdone\r\n",
      "\u001b[?25h  Created wheel for en-core-web-md: filename=en_core_web_md-2.3.1-py3-none-any.whl size=50916641 sha256=24494cfdd9134100aa230c7b7181167740841352e1b4bd327f9a7170cfa38554\r\n",
      "  Stored in directory: /tmp/pip-ephem-wheel-cache-03n2of58/wheels/43/1d/c1/a0af68d0648debf57f875e9dda56bbac35cfc27bfa187ffc46\r\n",
      "Successfully built en-core-web-md\r\n",
      "Installing collected packages: en-core-web-md\r\n",
      "Successfully installed en-core-web-md-2.3.1\r\n",
      "\u001b[33mWARNING: You are using pip version 20.3.1; however, version 21.0.1 is available.\r\n",
      "You should consider upgrading via the '/opt/conda/bin/python3 -m pip install --upgrade pip' command.\u001b[0m\r\n",
      "\u001b[38;5;2m✔ Download and installation successful\u001b[0m\r\n",
      "You can now load the model via spacy.load('en_core_web_md')\r\n"
     ]
    }
   ],
   "source": [
    "!python3 -m spacy download en_core_web_md"
   ]
  },
  {
   "cell_type": "code",
   "execution_count": 23,
   "metadata": {
    "execution": {
     "iopub.execute_input": "2021-03-25T01:29:55.317338Z",
     "iopub.status.busy": "2021-03-25T01:29:55.316343Z",
     "iopub.status.idle": "2021-03-25T01:30:01.250754Z",
     "shell.execute_reply": "2021-03-25T01:30:01.249887Z"
    },
    "papermill": {
     "duration": 6.029845,
     "end_time": "2021-03-25T01:30:01.250881",
     "exception": false,
     "start_time": "2021-03-25T01:29:55.221036",
     "status": "completed"
    },
    "tags": []
   },
   "outputs": [
    {
     "name": "stdout",
     "output_type": "stream",
     "text": [
      "0.869833325851152\n",
      "0.869833325851152\n"
     ]
    }
   ],
   "source": [
    "import en_core_web_md\n",
    "# Load a larger model with vectors\n",
    "nlp = en_core_web_md.load()\n",
    "\n",
    "# Compare two documents\n",
    "doc_1 = nlp(\"I like fast food\")\n",
    "doc_2 = nlp(\"I like pizza\")\n",
    "\n",
    "print(doc_1.similarity(doc_2))\n",
    "print(doc_2.similarity(doc_1))"
   ]
  },
  {
   "cell_type": "code",
   "execution_count": 24,
   "metadata": {
    "execution": {
     "iopub.execute_input": "2021-03-25T01:30:01.435815Z",
     "iopub.status.busy": "2021-03-25T01:30:01.435070Z",
     "iopub.status.idle": "2021-03-25T01:30:01.449843Z",
     "shell.execute_reply": "2021-03-25T01:30:01.449310Z"
    },
    "papermill": {
     "duration": 0.109875,
     "end_time": "2021-03-25T01:30:01.449960",
     "exception": false,
     "start_time": "2021-03-25T01:30:01.340085",
     "status": "completed"
    },
    "tags": []
   },
   "outputs": [
    {
     "name": "stdout",
     "output_type": "stream",
     "text": [
      "0.6850197911262512\n"
     ]
    }
   ],
   "source": [
    "# Compare two tokens\n",
    "doc = nlp(\"I like pizza and pasta\")\n",
    "\n",
    "token_1 = doc[2]\n",
    "token_2 = doc[4]\n",
    "print(token_1.similarity(token_2))"
   ]
  },
  {
   "cell_type": "code",
   "execution_count": 25,
   "metadata": {
    "execution": {
     "iopub.execute_input": "2021-03-25T01:30:01.637157Z",
     "iopub.status.busy": "2021-03-25T01:30:01.635924Z",
     "iopub.status.idle": "2021-03-25T01:30:01.660191Z",
     "shell.execute_reply": "2021-03-25T01:30:01.659241Z"
    },
    "papermill": {
     "duration": 0.121475,
     "end_time": "2021-03-25T01:30:01.660308",
     "exception": false,
     "start_time": "2021-03-25T01:30:01.538833",
     "status": "completed"
    },
    "tags": []
   },
   "outputs": [
    {
     "name": "stdout",
     "output_type": "stream",
     "text": [
      "0.4719003666806404\n"
     ]
    }
   ],
   "source": [
    "# Compare a span with a document\n",
    "span = nlp(\"I like pizza and pasta\")[2:5]\n",
    "doc = nlp(\"McDonalds sells burgers\")\n",
    "\n",
    "print(span.similarity(doc))"
   ]
  },
  {
   "cell_type": "markdown",
   "metadata": {
    "papermill": {
     "duration": 0.088949,
     "end_time": "2021-03-25T01:30:01.838421",
     "exception": false,
     "start_time": "2021-03-25T01:30:01.749472",
     "status": "completed"
    },
    "tags": []
   },
   "source": [
    "## View token tags\n",
    "\n",
    "Recall that we can obtain a particular token by its index position.\n",
    "- To view the description of either type of tag use `spacy.explain(tag)`"
   ]
  },
  {
   "cell_type": "code",
   "execution_count": 26,
   "metadata": {
    "execution": {
     "iopub.execute_input": "2021-03-25T01:30:02.029507Z",
     "iopub.status.busy": "2021-03-25T01:30:02.028674Z",
     "iopub.status.idle": "2021-03-25T01:30:02.048557Z",
     "shell.execute_reply": "2021-03-25T01:30:02.047849Z"
    },
    "papermill": {
     "duration": 0.118252,
     "end_time": "2021-03-25T01:30:02.048689",
     "exception": false,
     "start_time": "2021-03-25T01:30:01.930437",
     "status": "completed"
    },
    "tags": []
   },
   "outputs": [
    {
     "name": "stdout",
     "output_type": "stream",
     "text": [
      "\n",
      "          SPACE    _SP    whitespace\n",
      "Since      SCONJ    IN     conjunction, subordinating or preposition\n",
      "March      PROPN    NNP    noun, proper singular\n",
      ",          PUNCT    ,      punctuation mark, comma\n",
      "Musk       PROPN    NNP    noun, proper singular\n",
      "’s         PART     POS    possessive ending\n",
      "wealth     NOUN     NN     noun, singular or mass\n",
      "has        AUX      VBZ    verb, 3rd person singular present\n",
      "grown      VERB     VBN    verb, past participle\n",
      "almost     ADV      RB     adverb\n",
      "seven      NUM      CD     cardinal number\n",
      "-          ADV      RB     adverb\n",
      "fold       ADV      RB     adverb\n",
      ",          PUNCT    ,      punctuation mark, comma\n",
      "up         ADP      IN     conjunction, subordinating or preposition\n",
      "a          DET      DT     determiner\n",
      "staggering ADJ      JJ     adjective (English), other noun-modifier (Chinese)\n",
      "$          SYM      $      symbol, currency\n",
      "163.1      NUM      CD     cardinal number\n",
      "billion    NUM      CD     cardinal number\n",
      ".          PUNCT    .      punctuation mark, sentence closer\n",
      "\n",
      "          SPACE    _SP    whitespace\n"
     ]
    }
   ],
   "source": [
    "text = u'''\n",
    "Since March, Musk’s wealth has grown almost seven-fold, up a staggering $163.1 billion.\n",
    "'''\n",
    "doc = nlp(text)\n",
    "for token in doc:\n",
    "    print(f\"{token.text:{10}} {token.pos_:{8}} {token.tag_:{6}} {spacy.explain(token.tag_)}\")"
   ]
  },
  {
   "cell_type": "markdown",
   "metadata": {
    "papermill": {
     "duration": 0.091119,
     "end_time": "2021-03-25T01:30:02.231190",
     "exception": false,
     "start_time": "2021-03-25T01:30:02.140071",
     "status": "completed"
    },
    "tags": []
   },
   "source": [
    "## Coarse-grained Part-of-speech Tags\n",
    "Every token is assigned a POS Tag from the following list:\n",
    "\n",
    "\n",
    "<table><tr><th>POS</th><th>DESCRIPTION</th><th>EXAMPLES</th></tr>\n",
    "    \n",
    "<tr><td>ADJ</td><td>adjective</td><td>**big, old, green, incomprehensible, first**</td></tr>\n",
    "<tr><td>ADP</td><td>adposition</td><td>*in, to, during*</td></tr>\n",
    "<tr><td>ADV</td><td>adverb</td><td>*very, tomorrow, down, where, there*</td></tr>\n",
    "<tr><td>AUX</td><td>auxiliary</td><td>*is, has (done), will (do), should (do)*</td></tr>\n",
    "<tr><td>CONJ</td><td>conjunction</td><td>*and, or, but*</td></tr>\n",
    "<tr><td>CCONJ</td><td>coordinating conjunction</td><td>*and, or, but*</td></tr>\n",
    "<tr><td>DET</td><td>determiner</td><td>*a, an, the*</td></tr>\n",
    "<tr><td>INTJ</td><td>interjection</td><td>*psst, ouch, bravo, hello*</td></tr>\n",
    "<tr><td>NOUN</td><td>noun</td><td>*girl, cat, tree, air, beauty*</td></tr>\n",
    "<tr><td>NUM</td><td>numeral</td><td>*1, 2017, one, seventy-seven, IV, MMXIV*</td></tr>\n",
    "<tr><td>PART</td><td>particle</td><td>*'s, not,*</td></tr>\n",
    "<tr><td>PRON</td><td>pronoun</td><td>*I, you, he, she, myself, themselves, somebody*</td></tr>\n",
    "<tr><td>PROPN</td><td>proper noun</td><td>*Mary, John, London, NATO, HBO*</td></tr>\n",
    "<tr><td>PUNCT</td><td>punctuation</td><td>*., (, ), ?*</td></tr>\n",
    "<tr><td>SCONJ</td><td>subordinating conjunction</td><td>*if, while, that*</td></tr>\n",
    "<tr><td>SYM</td><td>symbol</td><td>*$, %, §, ©, +, −, ×, ÷, =, :), 😝*</td></tr>\n",
    "<tr><td>VERB</td><td>verb</td><td>*run, runs, running, eat, ate, eating*</td></tr>\n",
    "<tr><td>X</td><td>other</td><td>*sfpksdpsxmsa*</td></tr>\n",
    "<tr><td>SPACE</td><td>space</td></tr>\n",
    "\n",
    "***\n"
   ]
  },
  {
   "cell_type": "markdown",
   "metadata": {
    "papermill": {
     "duration": 0.089556,
     "end_time": "2021-03-25T01:30:02.411151",
     "exception": false,
     "start_time": "2021-03-25T01:30:02.321595",
     "status": "completed"
    },
    "tags": []
   },
   "source": [
    "___\n",
    "## Fine-grained Part-of-speech Tags\n",
    "Tokens are subsequently given a fine-grained tag as determined by morphology:\n",
    "<table>\n",
    "<tr><th>POS</th><th>Description</th><th>Fine-grained Tag</th><th>Description</th><th>Morphology</th></tr>\n",
    "<tr><td>ADJ</td><td>adjective</td><td>AFX</td><td>affix</td><td>Hyph=yes</td></tr>\n",
    "<tr><td>ADJ</td><td></td><td>JJ</td><td>adjective</td><td>Degree=pos</td></tr>\n",
    "<tr><td>ADJ</td><td></td><td>JJR</td><td>adjective, comparative</td><td>Degree=comp</td></tr>\n",
    "<tr><td>ADJ</td><td></td><td>JJS</td><td>adjective, superlative</td><td>Degree=sup</td></tr>\n",
    "<tr><td>ADJ</td><td></td><td>PDT</td><td>predeterminer</td><td>AdjType=pdt PronType=prn</td></tr>\n",
    "<tr><td>ADJ</td><td></td><td>PRP\\$</td><td>pronoun, possessive</td><td>PronType=prs Poss=yes</td></tr>\n",
    "<tr><td>ADJ</td><td></td><td>WDT</td><td>wh-determiner</td><td>PronType=int rel</td></tr>\n",
    "<tr><td>ADJ</td><td></td><td>WP\\$</td><td>wh-pronoun, possessive</td><td>Poss=yes PronType=int rel</td></tr>\n",
    "<tr><td>ADP</td><td>adposition</td><td>IN</td><td>conjunction, subordinating or preposition</td><td></td></tr>\n",
    "<tr><td>ADV</td><td>adverb</td><td>EX</td><td>existential there</td><td>AdvType=ex</td></tr>\n",
    "<tr><td>ADV</td><td></td><td>RB</td><td>adverb</td><td>Degree=pos</td></tr>\n",
    "<tr><td>ADV</td><td></td><td>RBR</td><td>adverb, comparative</td><td>Degree=comp</td></tr>\n",
    "<tr><td>ADV</td><td></td><td>RBS</td><td>adverb, superlative</td><td>Degree=sup</td></tr>\n",
    "<tr><td>ADV</td><td></td><td>WRB</td><td>wh-adverb</td><td>PronType=int rel</td></tr>\n",
    "<tr><td>CONJ</td><td>conjunction</td><td>CC</td><td>conjunction, coordinating</td><td>ConjType=coor</td></tr>\n",
    "<tr><td>DET</td><td>determiner</td><td>DT</td><td>determiner</td><td></td></tr>\n",
    "<tr><td>INTJ</td><td>interjection</td><td>UH</td><td>interjection</td><td></td></tr>\n",
    "<tr><td>NOUN</td><td>noun</td><td>NN</td><td>noun, singular or mass</td><td>Number=sing</td></tr>\n",
    "<tr><td>NOUN</td><td></td><td>NNS</td><td>noun, plural</td><td>Number=plur</td></tr>\n",
    "<tr><td>NOUN</td><td></td><td>WP</td><td>wh-pronoun, personal</td><td>PronType=int rel</td></tr>\n",
    "<tr><td>NUM</td><td>numeral</td><td>CD</td><td>cardinal number</td><td>NumType=card</td></tr>\n",
    "<tr><td>PART</td><td>particle</td><td>POS</td><td>possessive ending</td><td>Poss=yes</td></tr>\n",
    "<tr><td>PART</td><td></td><td>RP</td><td>adverb, particle</td><td></td></tr>\n",
    "<tr><td>PART</td><td></td><td>TO</td><td>infinitival to</td><td>PartType=inf VerbForm=inf</td></tr>\n",
    "<tr><td>PRON</td><td>pronoun</td><td>PRP</td><td>pronoun, personal</td><td>PronType=prs</td></tr>\n",
    "<tr><td>PROPN</td><td>proper noun</td><td>NNP</td><td>noun, proper singular</td><td>NounType=prop Number=sign</td></tr>\n",
    "<tr><td>PROPN</td><td></td><td>NNPS</td><td>noun, proper plural</td><td>NounType=prop Number=plur</td></tr>\n",
    "<tr><td>PUNCT</td><td>punctuation</td><td>-LRB-</td><td>left round bracket</td><td>PunctType=brck PunctSide=ini</td></tr>\n",
    "<tr><td>PUNCT</td><td></td><td>-RRB-</td><td>right round bracket</td><td>PunctType=brck PunctSide=fin</td></tr>\n",
    "<tr><td>PUNCT</td><td></td><td>,</td><td>punctuation mark, comma</td><td>PunctType=comm</td></tr>\n",
    "<tr><td>PUNCT</td><td></td><td>:</td><td>punctuation mark, colon or ellipsis</td><td></td></tr>\n",
    "<tr><td>PUNCT</td><td></td><td>.</td><td>punctuation mark, sentence closer</td><td>PunctType=peri</td></tr>\n",
    "<tr><td>PUNCT</td><td></td><td>''</td><td>closing quotation mark</td><td>PunctType=quot PunctSide=fin</td></tr>\n",
    "<tr><td>PUNCT</td><td></td><td>\"\"</td><td>closing quotation mark</td><td>PunctType=quot PunctSide=fin</td></tr>\n",
    "<tr><td>PUNCT</td><td></td><td>``</td><td>opening quotation mark</td><td>PunctType=quot PunctSide=ini</td></tr>\n",
    "<tr><td>PUNCT</td><td></td><td>HYPH</td><td>punctuation mark, hyphen</td><td>PunctType=dash</td></tr>\n",
    "<tr><td>PUNCT</td><td></td><td>LS</td><td>list item marker</td><td>NumType=ord</td></tr>\n",
    "<tr><td>PUNCT</td><td></td><td>NFP</td><td>superfluous punctuation</td><td></td></tr>\n",
    "<tr><td>SYM</td><td>symbol</td><td>#</td><td>symbol, number sign</td><td>SymType=numbersign</td></tr>\n",
    "<tr><td>SYM</td><td></td><td>\\$</td><td>symbol, currency</td><td>SymType=currency</td></tr>\n",
    "<tr><td>SYM</td><td></td><td>SYM</td><td>symbol</td><td></td></tr>\n",
    "<tr><td>VERB</td><td>verb</td><td>BES</td><td>auxiliary \"be\"</td><td></td></tr>\n",
    "<tr><td>VERB</td><td></td><td>HVS</td><td>forms of \"have\"</td><td></td></tr>\n",
    "<tr><td>VERB</td><td></td><td>MD</td><td>verb, modal auxiliary</td><td>VerbType=mod</td></tr>\n",
    "<tr><td>VERB</td><td></td><td>VB</td><td>verb, base form</td><td>VerbForm=inf</td></tr>\n",
    "<tr><td>VERB</td><td></td><td>VBD</td><td>verb, past tense</td><td>VerbForm=fin Tense=past</td></tr>\n",
    "<tr><td>VERB</td><td></td><td>VBG</td><td>verb, gerund or present participle</td><td>VerbForm=part Tense=pres Aspect=prog</td></tr>\n",
    "<tr><td>VERB</td><td></td><td>VBN</td><td>verb, past participle</td><td>VerbForm=part Tense=past Aspect=perf</td></tr>\n",
    "<tr><td>VERB</td><td></td><td>VBP</td><td>verb, non-3rd person singular present</td><td>VerbForm=fin Tense=pres</td></tr>\n",
    "<tr><td>VERB</td><td></td><td>VBZ</td><td>verb, 3rd person singular present</td><td>VerbForm=fin Tense=pres Number=sing Person=3</td></tr>\n",
    "<tr><td>X</td><td>other</td><td>ADD</td><td>email</td><td></td></tr>\n",
    "<tr><td>X</td><td></td><td>FW</td><td>foreign word</td><td>Foreign=yes</td></tr>\n",
    "<tr><td>X</td><td></td><td>GW</td><td>additional word in multi-word expression</td><td></td></tr>\n",
    "<tr><td>X</td><td></td><td>XX</td><td>unknown</td><td></td></tr>\n",
    "<tr><td>SPACE</td><td>space</td><td>_SP</td><td>space</td><td></td></tr>\n",
    "<tr><td></td><td></td><td>NIL</td><td>missing tag</td><td></td></tr>\n",
    "</table>"
   ]
  },
  {
   "cell_type": "markdown",
   "metadata": {
    "papermill": {
     "duration": 0.090782,
     "end_time": "2021-03-25T01:30:02.591849",
     "exception": false,
     "start_time": "2021-03-25T01:30:02.501067",
     "status": "completed"
    },
    "tags": []
   },
   "source": [
    "## Working with POS Tags\n",
    "\n",
    "In english language, the same string of characters can have different meanings, even within the same sentence. For this reason, morphology is important."
   ]
  },
  {
   "cell_type": "code",
   "execution_count": 27,
   "metadata": {
    "execution": {
     "iopub.execute_input": "2021-03-25T01:30:02.780920Z",
     "iopub.status.busy": "2021-03-25T01:30:02.780210Z",
     "iopub.status.idle": "2021-03-25T01:30:02.804906Z",
     "shell.execute_reply": "2021-03-25T01:30:02.804331Z"
    },
    "papermill": {
     "duration": 0.122419,
     "end_time": "2021-03-25T01:30:02.805037",
     "exception": false,
     "start_time": "2021-03-25T01:30:02.682618",
     "status": "completed"
    },
    "tags": []
   },
   "outputs": [
    {
     "name": "stdout",
     "output_type": "stream",
     "text": [
      "read       VERB     VBD    verb, past tense\n",
      "\n",
      "reading    VERB     VBG    verb, gerund or present participle\n"
     ]
    }
   ],
   "source": [
    "doc = nlp(\"I read books on NLP.\")\n",
    "r = doc[1]\n",
    "print(f\"{r.text:{10}} {r.pos_:{8}} {r.tag_:{6}} {spacy.explain(r.tag_)}\\n\")\n",
    "\n",
    "doc = nlp(\"I am reading a book on NLP.\")\n",
    "r = doc[2]\n",
    "print(f\"{r.text:{10}} {r.pos_:{8}} {r.tag_:{6}} {spacy.explain(r.tag_)}\")"
   ]
  },
  {
   "cell_type": "markdown",
   "metadata": {
    "papermill": {
     "duration": 0.090944,
     "end_time": "2021-03-25T01:30:02.986260",
     "exception": false,
     "start_time": "2021-03-25T01:30:02.895316",
     "status": "completed"
    },
    "tags": []
   },
   "source": [
    "## Counting POS Tags\n",
    "\n",
    "The `Doc.count_by()` method accepts a specific token attribute as its argument, and returns a frequency count of the given attribute as a dictionary object."
   ]
  },
  {
   "cell_type": "code",
   "execution_count": 28,
   "metadata": {
    "execution": {
     "iopub.execute_input": "2021-03-25T01:30:03.177785Z",
     "iopub.status.busy": "2021-03-25T01:30:03.177042Z",
     "iopub.status.idle": "2021-03-25T01:30:03.194752Z",
     "shell.execute_reply": "2021-03-25T01:30:03.193931Z"
    },
    "papermill": {
     "duration": 0.11759,
     "end_time": "2021-03-25T01:30:03.194942",
     "exception": false,
     "start_time": "2021-03-25T01:30:03.077352",
     "status": "completed"
    },
    "tags": []
   },
   "outputs": [
    {
     "name": "stdout",
     "output_type": "stream",
     "text": [
      "{90: 2, 84: 3, 92: 3, 100: 1, 85: 1, 94: 1, 97: 1}\n",
      "{'DET': 2, 'ADJ': 3, 'NOUN': 3, 'VERB': 1, 'ADP': 1, 'PART': 1, 'PUNCT': 1}\n"
     ]
    }
   ],
   "source": [
    "doc = nlp(\"The quick brown fox jumped over the lazy dog's back.\")\n",
    "\n",
    "pos_count = doc.count_by(spacy.attrs.POS)\n",
    "print(pos_count)\n",
    "new = {}\n",
    "for key, value in pos_count.items():\n",
    "    new[doc.vocab[key].text] = value\n",
    "    \n",
    "print(new)"
   ]
  },
  {
   "cell_type": "markdown",
   "metadata": {
    "papermill": {
     "duration": 0.089423,
     "end_time": "2021-03-25T01:30:03.375022",
     "exception": false,
     "start_time": "2021-03-25T01:30:03.285599",
     "status": "completed"
    },
    "tags": []
   },
   "source": [
    "# Gensim\n",
    "\n",
    "Gensim is an open-source library for unsupervised topic modeling and natural language processing, using modern statistical machine learning. \n",
    "\n",
    "## Document \n",
    "In Gensim, a document is an object of the text sequence type (commonly known as str in Python 3). A document could be anything from a short 140 character tweet, a single paragraph (i.e., journal article abstract), a news article, or a book."
   ]
  },
  {
   "cell_type": "code",
   "execution_count": 29,
   "metadata": {
    "execution": {
     "iopub.execute_input": "2021-03-25T01:30:03.572603Z",
     "iopub.status.busy": "2021-03-25T01:30:03.571899Z",
     "iopub.status.idle": "2021-03-25T01:30:06.237729Z",
     "shell.execute_reply": "2021-03-25T01:30:06.237093Z"
    },
    "papermill": {
     "duration": 2.772729,
     "end_time": "2021-03-25T01:30:06.237859",
     "exception": false,
     "start_time": "2021-03-25T01:30:03.465130",
     "status": "completed"
    },
    "tags": []
   },
   "outputs": [
    {
     "name": "stderr",
     "output_type": "stream",
     "text": [
      "'wget' is not recognized as an internal or external command,\n",
      "operable program or batch file.\n"
     ]
    }
   ],
   "source": [
    "# Pride and Prejudice, by Jane Austen\n",
    "!wget https://www.gutenberg.org/files/1342/1342-0.txt"
   ]
  },
  {
   "cell_type": "code",
   "execution_count": 34,
   "metadata": {
    "execution": {
     "iopub.execute_input": "2021-03-25T01:30:06.436154Z",
     "iopub.status.busy": "2021-03-25T01:30:06.435243Z",
     "iopub.status.idle": "2021-03-25T01:30:34.313352Z",
     "shell.execute_reply": "2021-03-25T01:30:34.312772Z"
    },
    "papermill": {
     "duration": 27.980248,
     "end_time": "2021-03-25T01:30:34.313481",
     "exception": false,
     "start_time": "2021-03-25T01:30:06.333233",
     "status": "completed"
    },
    "tags": []
   },
   "outputs": [],
   "source": [
    "import os\n",
    "import spacy\n",
    "\n",
    "nlp = spacy.load('en_core_web_sm')\n",
    "\n",
    "def read_file(file_name):\n",
    "    with open(file_name, 'r', encoding=\"utf8\") as file:\n",
    "        return file.read()\n",
    "    \n",
    "text = read_file('sample.txt')\n",
    "processed_text = nlp(text)"
   ]
  },
  {
   "cell_type": "markdown",
   "metadata": {
    "papermill": {
     "duration": 0.093391,
     "end_time": "2021-03-25T01:30:34.501896",
     "exception": false,
     "start_time": "2021-03-25T01:30:34.408505",
     "status": "completed"
    },
    "tags": []
   },
   "source": [
    "## Corpus\n",
    "A corpus is a collection of document objects. Corpora serve two roles in Gensim:\n",
    "1. Input for training a model.\n",
    "2. Documents to orgnize."
   ]
  },
  {
   "cell_type": "code",
   "execution_count": 35,
   "metadata": {
    "execution": {
     "iopub.execute_input": "2021-03-25T01:30:34.711549Z",
     "iopub.status.busy": "2021-03-25T01:30:34.710856Z",
     "iopub.status.idle": "2021-03-25T01:30:34.714587Z",
     "shell.execute_reply": "2021-03-25T01:30:34.713640Z"
    },
    "papermill": {
     "duration": 0.119315,
     "end_time": "2021-03-25T01:30:34.714740",
     "exception": false,
     "start_time": "2021-03-25T01:30:34.595425",
     "status": "completed"
    },
    "tags": []
   },
   "outputs": [
    {
     "name": "stdout",
     "output_type": "stream",
     "text": [
      "6564\n"
     ]
    }
   ],
   "source": [
    "# An example of corpus, consists of 7045 sentences\n",
    "sentences = [s for s in processed_text.sents]\n",
    "\n",
    "print(len(sentences))"
   ]
  },
  {
   "cell_type": "code",
   "execution_count": 36,
   "metadata": {
    "execution": {
     "iopub.execute_input": "2021-03-25T01:30:34.911801Z",
     "iopub.status.busy": "2021-03-25T01:30:34.911134Z",
     "iopub.status.idle": "2021-03-25T01:30:34.916085Z",
     "shell.execute_reply": "2021-03-25T01:30:34.915494Z"
    },
    "papermill": {
     "duration": 0.105923,
     "end_time": "2021-03-25T01:30:34.916204",
     "exception": false,
     "start_time": "2021-03-25T01:30:34.810281",
     "status": "completed"
    },
    "tags": []
   },
   "outputs": [
    {
     "name": "stdout",
     "output_type": "stream",
     "text": [
      "[You and the girls may go, or you may\n",
      "      send them by themselves, which perhaps will be still better, for\n",
      "      as you are as handsome as any of them, Mr. Bingley might like you\n",
      "      the best of the party.”, \n",
      "\n",
      "      “My dear, you flatter me., I certainly _have_ had my share of\n",
      "      beauty, but I do not pretend to be anything extraordinary now.\n",
      "      , When a woman has five grown-up daughters, she ought to give over\n",
      "      thinking of her own beauty.”]\n"
     ]
    }
   ],
   "source": [
    "print(sentences[30:34])"
   ]
  },
  {
   "cell_type": "code",
   "execution_count": 37,
   "metadata": {
    "execution": {
     "iopub.execute_input": "2021-03-25T01:30:35.112190Z",
     "iopub.status.busy": "2021-03-25T01:30:35.111162Z",
     "iopub.status.idle": "2021-03-25T01:30:35.290214Z",
     "shell.execute_reply": "2021-03-25T01:30:35.289641Z"
    },
    "papermill": {
     "duration": 0.278592,
     "end_time": "2021-03-25T01:30:35.290327",
     "exception": false,
     "start_time": "2021-03-25T01:30:35.011735",
     "status": "completed"
    },
    "tags": []
   },
   "outputs": [
    {
     "data": {
      "text/plain": [
       "124749"
      ]
     },
     "execution_count": 37,
     "metadata": {},
     "output_type": "execute_result"
    }
   ],
   "source": [
    "len(processed_text.text.split())"
   ]
  },
  {
   "cell_type": "markdown",
   "metadata": {
    "papermill": {
     "duration": 0.094784,
     "end_time": "2021-03-25T01:30:35.480832",
     "exception": false,
     "start_time": "2021-03-25T01:30:35.386048",
     "status": "completed"
    },
    "tags": []
   },
   "source": [
    "The above example loads the entire corpus into memory. In practice, corpora may be very large, so loading them into memory may be impossible. Gensim intelligently handles such corpus by streaming one document at a time."
   ]
  },
  {
   "cell_type": "markdown",
   "metadata": {
    "papermill": {
     "duration": 0.098322,
     "end_time": "2021-03-25T01:30:35.674027",
     "exception": false,
     "start_time": "2021-03-25T01:30:35.575705",
     "status": "completed"
    },
    "tags": []
   },
   "source": [
    "## Word2Vec\n",
    "\n",
    "\n",
    "Using large amounts of unannotated plain text, word2vec learns relationships between words automatically. The output are vectors, one vector per word, with remarkable linear relationships.\n",
    "\n",
    "Word2Vec is very useful in automatic text tagging, recommender systems and machine translation.\n",
    "\n",
    "`Word2Vec`: is a more recent model that embeds words in a lower-dimentional vector space using a shallow neural network. The result is a set of word-vectors where vectors close together in vector space have similar meanings based on context, and word-vectors distant to each other have differing meanings. For example, `strong` and `powerful` would be close together and `strong` and `Paris` would be relatively far."
   ]
  },
  {
   "cell_type": "code",
   "execution_count": 38,
   "metadata": {
    "execution": {
     "iopub.execute_input": "2021-03-25T01:30:35.869966Z",
     "iopub.status.busy": "2021-03-25T01:30:35.869308Z",
     "iopub.status.idle": "2021-03-25T01:30:36.503102Z",
     "shell.execute_reply": "2021-03-25T01:30:36.502235Z"
    },
    "papermill": {
     "duration": 0.734628,
     "end_time": "2021-03-25T01:30:36.503238",
     "exception": false,
     "start_time": "2021-03-25T01:30:35.768610",
     "status": "completed"
    },
    "tags": []
   },
   "outputs": [
    {
     "name": "stdout",
     "output_type": "stream",
     "text": [
      "Gensim Version: 4.2.0\n"
     ]
    },
    {
     "data": {
      "text/plain": [
       "['the',\n",
       " 'Project',\n",
       " 'Gutenberg',\n",
       " 'eBook',\n",
       " 'of',\n",
       " 'Pride',\n",
       " 'and',\n",
       " 'Prejudice,',\n",
       " 'by',\n",
       " 'Jane',\n",
       " 'Austen',\n",
       " 'this',\n",
       " 'eBook',\n",
       " 'be',\n",
       " 'for',\n",
       " 'the',\n",
       " 'use',\n",
       " 'of',\n",
       " 'anyone',\n",
       " 'anywhere',\n",
       " 'in',\n",
       " 'the',\n",
       " 'United',\n",
       " 'States',\n",
       " 'and',\n",
       " 'most',\n",
       " 'other',\n",
       " 'part',\n",
       " 'of',\n",
       " 'the',\n",
       " 'world',\n",
       " 'at',\n",
       " 'no',\n",
       " 'cost',\n",
       " 'and',\n",
       " 'with',\n",
       " 'almost',\n",
       " 'no',\n",
       " 'restriction',\n",
       " 'whatsoever.']"
      ]
     },
     "execution_count": 38,
     "metadata": {},
     "output_type": "execute_result"
    }
   ],
   "source": [
    "import gensim\n",
    "from gensim.models import Word2Vec\n",
    "\n",
    "print(f\"Gensim Version: {gensim.__version__}\")\n",
    "\n",
    "# We need data for training the model\n",
    "processed_sentences = [sent.lemma_.split() for sent in processed_text.sents]\n",
    "processed_sentences[0]"
   ]
  },
  {
   "cell_type": "code",
   "execution_count": 36,
   "metadata": {
    "execution": {
     "iopub.execute_input": "2021-03-25T01:30:36.719241Z",
     "iopub.status.busy": "2021-03-25T01:30:36.712850Z",
     "iopub.status.idle": "2021-03-25T01:30:38.289077Z",
     "shell.execute_reply": "2021-03-25T01:30:38.289933Z"
    },
    "papermill": {
     "duration": 1.690447,
     "end_time": "2021-03-25T01:30:38.290120",
     "exception": false,
     "start_time": "2021-03-25T01:30:36.599673",
     "status": "completed"
    },
    "tags": []
   },
   "outputs": [
    {
     "name": "stdout",
     "output_type": "stream",
     "text": [
      "1158\n",
      "Training Loss: 950331.125\n",
      "('Wickham', 0.980459451675415)\n",
      "('Bingley', 0.9763346314430237)\n",
      "('Collins', 0.9562931656837463)\n",
      "('Gardiner', 0.8955026268959045)\n",
      "('Bennet', 0.8948332071304321)\n",
      "('Forster', 0.8749879598617554)\n",
      "('Phillips', 0.862018346786499)\n",
      "('Long', 0.8612229824066162)\n",
      "('Hurst', 0.8530021905899048)\n",
      "('Eliza', 0.8384509086608887)\n"
     ]
    }
   ],
   "source": [
    "# Word2Vec accepts several parameters that affect both training speed and quality\n",
    "interchangeable_words_model = Word2Vec(\n",
    "    sentences=processed_sentences,\n",
    "    min_count=10, # Purning the internal dictionary\n",
    "    size=200, # the number of dimensions (N) gensim maps the word onto\n",
    "    window=2, # \n",
    "    compute_loss=True,\n",
    "    sg=1\n",
    ")\n",
    "\n",
    "print(len(interchangeable_words_model.wv.vocab))\n",
    "\n",
    "# getting the training loss\n",
    "training_loss = interchangeable_words_model.get_latest_training_loss()\n",
    "print(f\"Training Loss: {training_loss}\")\n",
    "\n",
    "for w, sim in interchangeable_words_model.wv.most_similar('Darcy'):\n",
    "    print((w, sim))"
   ]
  },
  {
   "cell_type": "markdown",
   "metadata": {
    "papermill": {
     "duration": 0.118602,
     "end_time": "2021-03-25T01:30:38.540424",
     "exception": false,
     "start_time": "2021-03-25T01:30:38.421822",
     "status": "completed"
    },
    "tags": []
   },
   "source": [
    "## Evaluating\n",
    "\n",
    "`Word2Vec` training is an unsupervised task, there's no good way to objectively evaluate the result."
   ]
  },
  {
   "cell_type": "markdown",
   "metadata": {
    "papermill": {
     "duration": 0.096836,
     "end_time": "2021-03-25T01:30:38.736294",
     "exception": false,
     "start_time": "2021-03-25T01:30:38.639458",
     "status": "completed"
    },
    "tags": []
   },
   "source": [
    "## FastText"
   ]
  },
  {
   "cell_type": "code",
   "execution_count": 40,
   "metadata": {
    "execution": {
     "iopub.execute_input": "2021-03-25T01:30:38.937600Z",
     "iopub.status.busy": "2021-03-25T01:30:38.936661Z",
     "iopub.status.idle": "2021-03-25T01:30:51.281508Z",
     "shell.execute_reply": "2021-03-25T01:30:51.280667Z"
    },
    "papermill": {
     "duration": 12.449057,
     "end_time": "2021-03-25T01:30:51.281699",
     "exception": false,
     "start_time": "2021-03-25T01:30:38.832642",
     "status": "completed"
    },
    "tags": []
   },
   "outputs": [
    {
     "name": "stdout",
     "output_type": "stream",
     "text": [
      "('Darcy!', 0.9989228844642639)\n",
      "('Darcy;', 0.9988924264907837)\n",
      "('Darcy?\"', 0.996746301651001)\n",
      "('Darcy,\"', 0.9963815808296204)\n",
      "('Darcy.', 0.9951329827308655)\n",
      "('Darcy.\"', 0.9937881231307983)\n",
      "('Darcy,', 0.9930428266525269)\n",
      "('Bingley', 0.9850771427154541)\n",
      "('Darcy’s', 0.9831717610359192)\n",
      "('Wickham', 0.9820858240127563)\n"
     ]
    }
   ],
   "source": [
    "from gensim.models import FastText\n",
    "\n",
    "model = FastText(window=2)\n",
    "model.build_vocab(corpus_iterable=processed_sentences)\n",
    "model.train(corpus_iterable=processed_sentences, total_examples=len(processed_sentences), epochs=10)\n",
    "\n",
    "for w, sim in model.wv.most_similar('Darcy'):\n",
    "    print((w, sim))"
   ]
  },
  {
   "cell_type": "code",
   "execution_count": 41,
   "metadata": {
    "execution": {
     "iopub.execute_input": "2021-03-25T01:30:51.485169Z",
     "iopub.status.busy": "2021-03-25T01:30:51.484104Z",
     "iopub.status.idle": "2021-03-25T01:30:51.492736Z",
     "shell.execute_reply": "2021-03-25T01:30:51.491968Z"
    },
    "papermill": {
     "duration": 0.111177,
     "end_time": "2021-03-25T01:30:51.492896",
     "exception": false,
     "start_time": "2021-03-25T01:30:51.381719",
     "status": "completed"
    },
    "tags": []
   },
   "outputs": [
    {
     "name": "stdout",
     "output_type": "stream",
     "text": [
      "('Darcy!', 0.9989228844642639)\n",
      "('Darcy;', 0.9988924264907837)\n",
      "('Darcy?\"', 0.996746301651001)\n",
      "('Darcy,\"', 0.9963815808296204)\n",
      "('Darcy.', 0.9951329827308655)\n",
      "('Darcy.\"', 0.9937881231307983)\n",
      "('Darcy,', 0.9930428266525269)\n",
      "('Bingley', 0.9850771427154541)\n",
      "('Darcy’s', 0.9831717610359192)\n",
      "('Wickham', 0.9820858240127563)\n",
      "('Bingley;', 0.9807224869728088)\n",
      "('Collins', 0.9799526333808899)\n",
      "('Wickham!', 0.976921021938324)\n",
      "('Wickham.', 0.9765926599502563)\n",
      "('Bingley,\"', 0.9762128591537476)\n",
      "('Wickham;', 0.973954975605011)\n",
      "('Collins,', 0.9738627672195435)\n",
      "('Bingley,', 0.9716203212738037)\n",
      "('Bingley’s', 0.9701727032661438)\n",
      "('Bingley.', 0.9686479568481445)\n"
     ]
    }
   ],
   "source": [
    "for w, sim in model.wv.most_similar('Darcy', topn=20):\n",
    "    print((w, sim))"
   ]
  },
  {
   "cell_type": "code",
   "execution_count": 42,
   "metadata": {
    "execution": {
     "iopub.execute_input": "2021-03-25T01:30:51.697922Z",
     "iopub.status.busy": "2021-03-25T01:30:51.697205Z",
     "iopub.status.idle": "2021-03-25T01:31:09.877923Z",
     "shell.execute_reply": "2021-03-25T01:31:09.876734Z"
    },
    "papermill": {
     "duration": 18.287528,
     "end_time": "2021-03-25T01:31:09.878096",
     "exception": false,
     "start_time": "2021-03-25T01:30:51.590568",
     "status": "completed"
    },
    "tags": []
   },
   "outputs": [
    {
     "name": "stdout",
     "output_type": "stream",
     "text": [
      "('Darcy!', 0.9992907047271729)\n",
      "('Darcy;', 0.9982266426086426)\n",
      "('Darcy,', 0.9947454929351807)\n",
      "('Darcy.', 0.993509829044342)\n",
      "('Darcy?\"', 0.987489640712738)\n",
      "('Darcy’s', 0.9847891330718994)\n",
      "('Darcy,\"', 0.9838075041770935)\n",
      "('Bingley;', 0.9753192663192749)\n",
      "('Bingley,\"', 0.9731650948524475)\n",
      "('Darcy.\"', 0.9711552858352661)\n"
     ]
    }
   ],
   "source": [
    "model = FastText(window=50)\n",
    "model.build_vocab(corpus_iterable=processed_sentences)\n",
    "model.train(corpus_iterable=processed_sentences, total_examples=len(processed_sentences), epochs=10)\n",
    "\n",
    "for w, sim in model.wv.most_similar('Darcy'):\n",
    "    print((w, sim))"
   ]
  },
  {
   "cell_type": "code",
   "execution_count": 44,
   "metadata": {
    "execution": {
     "iopub.execute_input": "2021-03-25T01:31:10.343322Z",
     "iopub.status.busy": "2021-03-25T01:31:10.342249Z",
     "iopub.status.idle": "2021-03-25T01:31:10.348465Z",
     "shell.execute_reply": "2021-03-25T01:31:10.349039Z"
    },
    "papermill": {
     "duration": 0.12358,
     "end_time": "2021-03-25T01:31:10.349215",
     "exception": false,
     "start_time": "2021-03-25T01:31:10.225635",
     "status": "completed"
    },
    "tags": []
   },
   "outputs": [
    {
     "name": "stdout",
     "output_type": "stream",
     "text": [
      "0.9965224\n",
      "0.99735945\n"
     ]
    }
   ],
   "source": [
    "print(model.wv.similarity(\"nights\", \"night\"))\n",
    "print(model.wv.similarity(\"tonight\", \"night\"))"
   ]
  },
  {
   "cell_type": "code",
   "execution_count": null,
   "metadata": {
    "papermill": {
     "duration": 0.099993,
     "end_time": "2021-03-25T01:31:10.551645",
     "exception": false,
     "start_time": "2021-03-25T01:31:10.451652",
     "status": "completed"
    },
    "tags": []
   },
   "outputs": [],
   "source": []
  }
 ],
 "metadata": {
  "kernelspec": {
   "display_name": "Python 3",
   "language": "python",
   "name": "python3"
  },
  "language_info": {
   "codemirror_mode": {
    "name": "ipython",
    "version": 3
   },
   "file_extension": ".py",
   "mimetype": "text/x-python",
   "name": "python",
   "nbconvert_exporter": "python",
   "pygments_lexer": "ipython3",
   "version": "3.8.8"
  },
  "papermill": {
   "duration": 113.302585,
   "end_time": "2021-03-25T01:31:10.760128",
   "environment_variables": {},
   "exception": null,
   "input_path": "__notebook__.ipynb",
   "output_path": "__notebook__.ipynb",
   "parameters": {},
   "start_time": "2021-03-25T01:29:17.457543",
   "version": "2.1.0"
  }
 },
 "nbformat": 4,
 "nbformat_minor": 4
}
